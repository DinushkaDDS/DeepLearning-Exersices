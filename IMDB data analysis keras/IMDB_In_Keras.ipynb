{
 "cells": [
  {
   "cell_type": "markdown",
   "source": [
    "# Analyzing IMDB Data in Keras"
   ],
   "metadata": {}
  },
  {
   "cell_type": "code",
   "execution_count": 1,
   "source": [
    "# Imports\r\n",
    "import numpy as np\r\n",
    "import keras\r\n",
    "from keras.datasets import imdb\r\n",
    "from keras.models import Sequential\r\n",
    "from keras.layers import Dense, Dropout, Activation\r\n",
    "from keras.preprocessing.text import Tokenizer\r\n",
    "import matplotlib.pyplot as plt\r\n",
    "%matplotlib inline\r\n",
    "\r\n",
    "np.random.seed(42)"
   ],
   "outputs": [
    {
     "output_type": "stream",
     "name": "stdout",
     "text": [
      "INFO:tensorflow:Enabling eager execution\n",
      "INFO:tensorflow:Enabling v2 tensorshape\n",
      "INFO:tensorflow:Enabling resource variables\n",
      "INFO:tensorflow:Enabling tensor equality\n",
      "INFO:tensorflow:Enabling control flow v2\n"
     ]
    }
   ],
   "metadata": {}
  },
  {
   "cell_type": "markdown",
   "source": [
    "## 1. Loading the data\n",
    "This dataset comes preloaded with Keras, so one simple command will get us training and testing data. There is a parameter for how many words we want to look at. We've set it at 1000, but feel free to experiment."
   ],
   "metadata": {}
  },
  {
   "cell_type": "code",
   "execution_count": 84,
   "source": [
    "# Loading the data (it's preloaded in Keras)\r\n",
    "(x_train_full, y_train_full), (x_test_full, y_test_full) = imdb.load_data()\r\n",
    "\r\n",
    "print(x_train_full.shape)\r\n",
    "print(x_test_full.shape)"
   ],
   "outputs": [
    {
     "output_type": "stream",
     "name": "stderr",
     "text": [
      "<__array_function__ internals>:5: VisibleDeprecationWarning: Creating an ndarray from ragged nested sequences (which is a list-or-tuple of lists-or-tuples-or ndarrays with different lengths or shapes) is deprecated. If you meant to do this, you must specify 'dtype=object' when creating the ndarray\n"
     ]
    },
    {
     "output_type": "stream",
     "name": "stdout",
     "text": [
      "(25000,)\n",
      "(25000,)\n"
     ]
    },
    {
     "output_type": "stream",
     "name": "stderr",
     "text": [
      "C:\\Users\\ddsdi\\AppData\\Roaming\\Python\\Python39\\site-packages\\keras\\datasets\\imdb.py:155: VisibleDeprecationWarning: Creating an ndarray from ragged nested sequences (which is a list-or-tuple of lists-or-tuples-or ndarrays with different lengths or shapes) is deprecated. If you meant to do this, you must specify 'dtype=object' when creating the ndarray\n",
      "  x_train, y_train = np.array(xs[:idx]), np.array(labels[:idx])\n",
      "C:\\Users\\ddsdi\\AppData\\Roaming\\Python\\Python39\\site-packages\\keras\\datasets\\imdb.py:156: VisibleDeprecationWarning: Creating an ndarray from ragged nested sequences (which is a list-or-tuple of lists-or-tuples-or ndarrays with different lengths or shapes) is deprecated. If you meant to do this, you must specify 'dtype=object' when creating the ndarray\n",
      "  x_test, y_test = np.array(xs[idx:]), np.array(labels[idx:])\n"
     ]
    }
   ],
   "metadata": {}
  },
  {
   "cell_type": "markdown",
   "source": [
    "## 2. Examining the data\n",
    "Notice that the data has been already pre-processed, where all the words have numbers, and the reviews come in as a vector with the words that the review contains. For example, if the word 'the' is the first one in our dictionary, and a review contains the word 'the', then there is a 1 in the corresponding vector.\n",
    "\n",
    "The output comes as a vector of 1's and 0's, where 1 is a positive sentiment for the review, and 0 is negative."
   ],
   "metadata": {}
  },
  {
   "cell_type": "code",
   "execution_count": 85,
   "source": [
    "print(x_train_full[0])\r\n",
    "print(y_train_full[0])"
   ],
   "outputs": [
    {
     "output_type": "stream",
     "name": "stdout",
     "text": [
      "[1, 14, 22, 16, 43, 530, 973, 1622, 1385, 65, 458, 4468, 66, 3941, 4, 173, 36, 256, 5, 25, 100, 43, 838, 112, 50, 670, 22665, 9, 35, 480, 284, 5, 150, 4, 172, 112, 167, 21631, 336, 385, 39, 4, 172, 4536, 1111, 17, 546, 38, 13, 447, 4, 192, 50, 16, 6, 147, 2025, 19, 14, 22, 4, 1920, 4613, 469, 4, 22, 71, 87, 12, 16, 43, 530, 38, 76, 15, 13, 1247, 4, 22, 17, 515, 17, 12, 16, 626, 18, 19193, 5, 62, 386, 12, 8, 316, 8, 106, 5, 4, 2223, 5244, 16, 480, 66, 3785, 33, 4, 130, 12, 16, 38, 619, 5, 25, 124, 51, 36, 135, 48, 25, 1415, 33, 6, 22, 12, 215, 28, 77, 52, 5, 14, 407, 16, 82, 10311, 8, 4, 107, 117, 5952, 15, 256, 4, 31050, 7, 3766, 5, 723, 36, 71, 43, 530, 476, 26, 400, 317, 46, 7, 4, 12118, 1029, 13, 104, 88, 4, 381, 15, 297, 98, 32, 2071, 56, 26, 141, 6, 194, 7486, 18, 4, 226, 22, 21, 134, 476, 26, 480, 5, 144, 30, 5535, 18, 51, 36, 28, 224, 92, 25, 104, 4, 226, 65, 16, 38, 1334, 88, 12, 16, 283, 5, 16, 4472, 113, 103, 32, 15, 16, 5345, 19, 178, 32]\n",
      "1\n"
     ]
    }
   ],
   "metadata": {}
  },
  {
   "cell_type": "markdown",
   "source": [
    "## 3. One-hot encoding the output\n",
    "Here, we'll turn the input vectors into (0,1)-vectors. For example, if the pre-processed vector contains the number 14, then in the processed vector, the 14th entry will be 1."
   ],
   "metadata": {}
  },
  {
   "cell_type": "code",
   "execution_count": 93,
   "source": [
    "# One-hot encoding the output into vector mode, each of length 1000\r\n",
    "tokenizer = Tokenizer(num_words=5000)\r\n",
    "x_train = tokenizer.sequences_to_matrix(x_train_full, mode='binary')\r\n",
    "x_test = tokenizer.sequences_to_matrix(x_test_full, mode='binary')\r\n",
    "print(x_train.shape)"
   ],
   "outputs": [
    {
     "output_type": "stream",
     "name": "stdout",
     "text": [
      "(25000, 5000)\n"
     ]
    }
   ],
   "metadata": {}
  },
  {
   "cell_type": "markdown",
   "source": [
    "And we'll also one-hot encode the output."
   ],
   "metadata": {}
  },
  {
   "cell_type": "code",
   "execution_count": 94,
   "source": [
    "from keras.utils import np_utils\r\n",
    "\r\n",
    "# One-hot encoding the output\r\n",
    "num_classes = 2\r\n",
    "y_train = np_utils.to_categorical(y_train_full, num_classes)\r\n",
    "y_test = np_utils.to_categorical(y_test_full, num_classes)\r\n",
    "print(y_train.shape)\r\n",
    "print(y_test.shape)"
   ],
   "outputs": [
    {
     "output_type": "stream",
     "name": "stdout",
     "text": [
      "(25000, 2)\n",
      "(25000, 2)\n"
     ]
    }
   ],
   "metadata": {}
  },
  {
   "cell_type": "markdown",
   "source": [
    "## 4. Building the  model architecture\n",
    "Build a model here using sequential. Feel free to experiment with different layers and sizes! Also, experiment adding dropout to reduce overfitting."
   ],
   "metadata": {}
  },
  {
   "cell_type": "code",
   "execution_count": 95,
   "source": [
    "model =  Sequential()\r\n",
    "\r\n",
    "model.add(Dense(64, activation=\"relu\", input_shape=(None, x_train.shape[1])))\r\n",
    "model.add(Dropout(0.5))\r\n",
    "# model.add(Dense(128, activation=\"relu\"))\r\n",
    "# model.add(Dropout(0.1))\r\n",
    "# model.add(Dense(64, activation=\"relu\"))\r\n",
    "model.add(Dense(2, activation=\"softmax\"))\r\n",
    "\r\n",
    "\r\n",
    "model.compile(loss = 'categorical_crossentropy', optimizer='adam', metrics=['accuracy'])\r\n",
    "print(model.summary())"
   ],
   "outputs": [
    {
     "output_type": "stream",
     "name": "stdout",
     "text": [
      "Model: \"sequential_20\"\n",
      "_________________________________________________________________\n",
      "Layer (type)                 Output Shape              Param #   \n",
      "=================================================================\n",
      "dense_47 (Dense)             (None, None, 64)          320064    \n",
      "_________________________________________________________________\n",
      "dropout_23 (Dropout)         (None, None, 64)          0         \n",
      "_________________________________________________________________\n",
      "dense_48 (Dense)             (None, None, 2)           130       \n",
      "=================================================================\n",
      "Total params: 320,194\n",
      "Trainable params: 320,194\n",
      "Non-trainable params: 0\n",
      "_________________________________________________________________\n",
      "None\n"
     ]
    }
   ],
   "metadata": {}
  },
  {
   "cell_type": "markdown",
   "source": [
    "## 5. Training the model\n",
    "Run the model here. Experiment with different batch_size, and number of epochs!"
   ],
   "metadata": {}
  },
  {
   "cell_type": "code",
   "execution_count": 96,
   "source": [
    "model.fit(x_train, y_train, epochs=50, batch_size=200, verbose=1)"
   ],
   "outputs": [
    {
     "output_type": "stream",
     "name": "stdout",
     "text": [
      "Epoch 1/50\n",
      "WARNING:tensorflow:Model was constructed with shape (None, None, 5000) for input KerasTensor(type_spec=TensorSpec(shape=(None, None, 5000), dtype=tf.float32, name='dense_47_input'), name='dense_47_input', description=\"created by layer 'dense_47_input'\"), but it was called on an input with incompatible shape (200, 5000).\n",
      "WARNING:tensorflow:Model was constructed with shape (None, None, 5000) for input KerasTensor(type_spec=TensorSpec(shape=(None, None, 5000), dtype=tf.float32, name='dense_47_input'), name='dense_47_input', description=\"created by layer 'dense_47_input'\"), but it was called on an input with incompatible shape (200, 5000).\n",
      "125/125 [==============================] - 1s 3ms/step - loss: 0.4986 - accuracy: 0.7490\n",
      "Epoch 2/50\n",
      "125/125 [==============================] - 0s 3ms/step - loss: 0.2451 - accuracy: 0.9034\n",
      "Epoch 3/50\n",
      "125/125 [==============================] - 0s 3ms/step - loss: 0.1887 - accuracy: 0.9281\n",
      "Epoch 4/50\n",
      "125/125 [==============================] - 0s 3ms/step - loss: 0.1593 - accuracy: 0.9405\n",
      "Epoch 5/50\n",
      "125/125 [==============================] - 0s 4ms/step - loss: 0.1368 - accuracy: 0.9513\n",
      "Epoch 6/50\n",
      "125/125 [==============================] - 0s 3ms/step - loss: 0.1132 - accuracy: 0.9603\n",
      "Epoch 7/50\n",
      "125/125 [==============================] - 0s 3ms/step - loss: 0.0949 - accuracy: 0.9696\n",
      "Epoch 8/50\n",
      "125/125 [==============================] - 0s 3ms/step - loss: 0.0762 - accuracy: 0.9778\n",
      "Epoch 9/50\n",
      "125/125 [==============================] - 0s 3ms/step - loss: 0.0615 - accuracy: 0.9820\n",
      "Epoch 10/50\n",
      "125/125 [==============================] - 0s 3ms/step - loss: 0.0524 - accuracy: 0.9850\n",
      "Epoch 11/50\n",
      "125/125 [==============================] - 0s 3ms/step - loss: 0.0445 - accuracy: 0.9882\n",
      "Epoch 12/50\n",
      "125/125 [==============================] - 0s 3ms/step - loss: 0.0412 - accuracy: 0.9883\n",
      "Epoch 13/50\n",
      "125/125 [==============================] - 0s 3ms/step - loss: 0.0364 - accuracy: 0.9883\n",
      "Epoch 14/50\n",
      "125/125 [==============================] - 0s 3ms/step - loss: 0.0299 - accuracy: 0.9929\n",
      "Epoch 15/50\n",
      "125/125 [==============================] - 0s 3ms/step - loss: 0.0256 - accuracy: 0.9938\n",
      "Epoch 16/50\n",
      "125/125 [==============================] - 0s 3ms/step - loss: 0.0232 - accuracy: 0.9941\n",
      "Epoch 17/50\n",
      "125/125 [==============================] - 0s 3ms/step - loss: 0.0229 - accuracy: 0.9946\n",
      "Epoch 18/50\n",
      "125/125 [==============================] - 0s 3ms/step - loss: 0.0211 - accuracy: 0.9945\n",
      "Epoch 19/50\n",
      "125/125 [==============================] - 0s 3ms/step - loss: 0.0190 - accuracy: 0.9948\n",
      "Epoch 20/50\n",
      "125/125 [==============================] - 0s 3ms/step - loss: 0.0179 - accuracy: 0.9960\n",
      "Epoch 21/50\n",
      "125/125 [==============================] - 0s 3ms/step - loss: 0.0155 - accuracy: 0.9958\n",
      "Epoch 22/50\n",
      "125/125 [==============================] - 0s 3ms/step - loss: 0.0132 - accuracy: 0.9970\n",
      "Epoch 23/50\n",
      "125/125 [==============================] - 0s 3ms/step - loss: 0.0130 - accuracy: 0.9973\n",
      "Epoch 24/50\n",
      "125/125 [==============================] - 0s 3ms/step - loss: 0.0136 - accuracy: 0.9966\n",
      "Epoch 25/50\n",
      "125/125 [==============================] - 0s 3ms/step - loss: 0.0137 - accuracy: 0.9964\n",
      "Epoch 26/50\n",
      "125/125 [==============================] - 0s 4ms/step - loss: 0.0135 - accuracy: 0.9966\n",
      "Epoch 27/50\n",
      "125/125 [==============================] - 0s 3ms/step - loss: 0.0119 - accuracy: 0.9969\n",
      "Epoch 28/50\n",
      "125/125 [==============================] - 0s 3ms/step - loss: 0.0120 - accuracy: 0.9968\n",
      "Epoch 29/50\n",
      "125/125 [==============================] - 0s 3ms/step - loss: 0.0121 - accuracy: 0.9968\n",
      "Epoch 30/50\n",
      "125/125 [==============================] - 0s 3ms/step - loss: 0.0120 - accuracy: 0.9961\n",
      "Epoch 31/50\n",
      "125/125 [==============================] - 0s 3ms/step - loss: 0.0106 - accuracy: 0.9971\n",
      "Epoch 32/50\n",
      "125/125 [==============================] - 0s 3ms/step - loss: 0.0116 - accuracy: 0.9965\n",
      "Epoch 33/50\n",
      "125/125 [==============================] - 0s 3ms/step - loss: 0.0098 - accuracy: 0.9968\n",
      "Epoch 34/50\n",
      "125/125 [==============================] - 0s 3ms/step - loss: 0.0096 - accuracy: 0.9978\n",
      "Epoch 35/50\n",
      "125/125 [==============================] - 0s 3ms/step - loss: 0.0088 - accuracy: 0.9977\n",
      "Epoch 36/50\n",
      "125/125 [==============================] - 0s 3ms/step - loss: 0.0094 - accuracy: 0.9975\n",
      "Epoch 37/50\n",
      "125/125 [==============================] - 0s 3ms/step - loss: 0.0104 - accuracy: 0.9969\n",
      "Epoch 38/50\n",
      "125/125 [==============================] - 0s 3ms/step - loss: 0.0107 - accuracy: 0.9964\n",
      "Epoch 39/50\n",
      "125/125 [==============================] - 0s 3ms/step - loss: 0.0109 - accuracy: 0.9958\n",
      "Epoch 40/50\n",
      "125/125 [==============================] - 0s 3ms/step - loss: 0.0097 - accuracy: 0.9972\n",
      "Epoch 41/50\n",
      "125/125 [==============================] - 0s 3ms/step - loss: 0.0099 - accuracy: 0.9974\n",
      "Epoch 42/50\n",
      "125/125 [==============================] - 0s 3ms/step - loss: 0.0103 - accuracy: 0.9960\n",
      "Epoch 43/50\n",
      "125/125 [==============================] - 0s 3ms/step - loss: 0.0089 - accuracy: 0.9972\n",
      "Epoch 44/50\n",
      "125/125 [==============================] - 0s 3ms/step - loss: 0.0093 - accuracy: 0.9970\n",
      "Epoch 45/50\n",
      "125/125 [==============================] - 0s 3ms/step - loss: 0.0096 - accuracy: 0.9970\n",
      "Epoch 46/50\n",
      "125/125 [==============================] - 0s 3ms/step - loss: 0.0079 - accuracy: 0.9975\n",
      "Epoch 47/50\n",
      "125/125 [==============================] - 0s 3ms/step - loss: 0.0099 - accuracy: 0.9968\n",
      "Epoch 48/50\n",
      "125/125 [==============================] - 0s 3ms/step - loss: 0.0078 - accuracy: 0.9977\n",
      "Epoch 49/50\n",
      "125/125 [==============================] - 0s 3ms/step - loss: 0.0079 - accuracy: 0.9973\n",
      "Epoch 50/50\n",
      "125/125 [==============================] - 0s 3ms/step - loss: 0.0082 - accuracy: 0.9973\n"
     ]
    },
    {
     "output_type": "execute_result",
     "data": {
      "text/plain": [
       "<keras.callbacks.History at 0x27cb1184bb0>"
      ]
     },
     "metadata": {},
     "execution_count": 96
    }
   ],
   "metadata": {}
  },
  {
   "cell_type": "markdown",
   "source": [
    "## 6. Evaluating the model\n",
    "This will give you the accuracy of the model, as evaluated on the testing set. Can you get something over 85%?"
   ],
   "metadata": {}
  },
  {
   "cell_type": "code",
   "execution_count": 97,
   "source": [
    "score = model.evaluate(x_test, y_test, verbose=0)\r\n",
    "print(\"Accuracy: \", score[1])"
   ],
   "outputs": [
    {
     "output_type": "stream",
     "name": "stdout",
     "text": [
      "WARNING:tensorflow:Model was constructed with shape (None, None, 5000) for input KerasTensor(type_spec=TensorSpec(shape=(None, None, 5000), dtype=tf.float32, name='dense_47_input'), name='dense_47_input', description=\"created by layer 'dense_47_input'\"), but it was called on an input with incompatible shape (None, 5000).\n",
      "Accuracy:  0.8679599761962891\n"
     ]
    }
   ],
   "metadata": {}
  },
  {
   "cell_type": "code",
   "execution_count": null,
   "source": [],
   "outputs": [],
   "metadata": {}
  }
 ],
 "metadata": {
  "kernelspec": {
   "name": "python3",
   "display_name": "Python 3.9.7 64-bit"
  },
  "language_info": {
   "codemirror_mode": {
    "name": "ipython",
    "version": 3
   },
   "file_extension": ".py",
   "mimetype": "text/x-python",
   "name": "python",
   "nbconvert_exporter": "python",
   "pygments_lexer": "ipython3",
   "version": "3.9.7"
  },
  "interpreter": {
   "hash": "f1058ac39a4b5cc6a2d664bf07a90cc7a0b869b1d28e3e4a0289bda448411850"
  }
 },
 "nbformat": 4,
 "nbformat_minor": 2
}