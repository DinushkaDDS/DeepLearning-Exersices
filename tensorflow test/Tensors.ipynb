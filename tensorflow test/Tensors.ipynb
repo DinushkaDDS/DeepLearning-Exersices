{
 "cells": [
  {
   "cell_type": "code",
   "execution_count": 1,
   "source": [
    "import tensorflow as tf\r\n",
    "import numpy as np"
   ],
   "outputs": [
    {
     "output_type": "stream",
     "name": "stdout",
     "text": [
      "INFO:tensorflow:Enabling eager execution\n",
      "INFO:tensorflow:Enabling v2 tensorshape\n",
      "INFO:tensorflow:Enabling resource variables\n",
      "INFO:tensorflow:Enabling tensor equality\n",
      "INFO:tensorflow:Enabling control flow v2\n"
     ]
    }
   ],
   "metadata": {}
  },
  {
   "cell_type": "markdown",
   "source": [
    "## Note that Tensors are immutable."
   ],
   "metadata": {}
  },
  {
   "cell_type": "code",
   "execution_count": 2,
   "source": [
    "rank_0_tensor = tf.constant(4)\r\n",
    "print(rank_0_tensor)"
   ],
   "outputs": [
    {
     "output_type": "stream",
     "name": "stdout",
     "text": [
      "tf.Tensor(4, shape=(), dtype=int32)\n"
     ]
    }
   ],
   "metadata": {}
  },
  {
   "cell_type": "code",
   "execution_count": 8,
   "source": [
    "rank_1_tensor = tf.constant([2.0, 3.0, 4.0])\r\n",
    "print(rank_1_tensor)"
   ],
   "outputs": [
    {
     "output_type": "stream",
     "name": "stdout",
     "text": [
      "tf.Tensor([2. 3. 4.], shape=(3,), dtype=float32)\n"
     ]
    }
   ],
   "metadata": {}
  },
  {
   "cell_type": "code",
   "execution_count": 10,
   "source": [
    "rank_2_tensor = tf.constant([[1, 2],\r\n",
    "                             [3, 4],\r\n",
    "                             [5, 6]], dtype=tf.float16)\r\n",
    "print(rank_2_tensor)\r\n",
    "\r\n",
    "# Note in here matrix shape is in (Row_no*Column_no)"
   ],
   "outputs": [
    {
     "output_type": "stream",
     "name": "stdout",
     "text": [
      "tf.Tensor(\n",
      "[[1. 2.]\n",
      " [3. 4.]\n",
      " [5. 6.]], shape=(3, 2), dtype=float16)\n"
     ]
    }
   ],
   "metadata": {}
  },
  {
   "cell_type": "markdown",
   "source": [
    "## You can convert a tensor to a NumPy array either using np.array or the tensor.numpy method"
   ],
   "metadata": {}
  },
  {
   "cell_type": "code",
   "execution_count": 13,
   "source": [
    "a = tf.constant([[1, 2],\r\n",
    "                 [3, 4]])\r\n",
    "b = tf.constant([[1, 1],\r\n",
    "                 [1, 1]]) # Could have also said `tf.ones([2,2])`\r\n",
    "\r\n",
    "print(tf.add(a, b), \"\\n\")\r\n",
    "print(tf.multiply(a, b), \"\\n\")\r\n",
    "print(tf.matmul(a, b), \"\\n\")\r\n",
    "print(\"Same thing, different syntax!___________________________________________________________\")\r\n",
    "print(a + b, \"\\n\") # element-wise addition\r\n",
    "print(a * b, \"\\n\") # element-wise multiplication\r\n",
    "print(a @ b, \"\\n\") # matrix multiplication"
   ],
   "outputs": [
    {
     "output_type": "stream",
     "name": "stdout",
     "text": [
      "tf.Tensor(\n",
      "[[2 3]\n",
      " [4 5]], shape=(2, 2), dtype=int32) \n",
      "\n",
      "tf.Tensor(\n",
      "[[1 2]\n",
      " [3 4]], shape=(2, 2), dtype=int32) \n",
      "\n",
      "tf.Tensor(\n",
      "[[3 3]\n",
      " [7 7]], shape=(2, 2), dtype=int32) \n",
      "\n",
      "Same thing, different syntax!___________________________________________________________\n",
      "tf.Tensor(\n",
      "[[2 3]\n",
      " [4 5]], shape=(2, 2), dtype=int32) \n",
      "\n",
      "tf.Tensor(\n",
      "[[1 2]\n",
      " [3 4]], shape=(2, 2), dtype=int32) \n",
      "\n",
      "tf.Tensor(\n",
      "[[3 3]\n",
      " [7 7]], shape=(2, 2), dtype=int32) \n",
      "\n"
     ]
    }
   ],
   "metadata": {}
  },
  {
   "cell_type": "markdown",
   "source": [
    "## Tensorflow Variables :- data structure which can create, update and manipulate shared/persistant states of tf programs.\r\n",
    "### * Cannot be reshaped like Tensors, instead it creates a new variable with given shape.\r\n",
    "### * You can reassign the tensor using tf.Variable.assign. Calling assign does not (usually) allocate a new tensor; instead, the existing tensor's memory is reused.\r\n",
    "### * Variables are important for differentiation, some variables will not need to be differentiated. You can turn off gradients for a variable by setting trainable to false at creation."
   ],
   "metadata": {}
  },
  {
   "cell_type": "code",
   "execution_count": null,
   "source": [
    "my_tensor = tf.constant([[1.0, 2.0], [3.0, 4.0]])\r\n",
    "my_variable = tf.Variable(my_tensor)\r\n",
    "\r\n",
    "# Variables can be all kinds of types, just like tensors\r\n",
    "bool_variable = tf.Variable([False, False, False, True])\r\n",
    "complex_variable = tf.Variable([5 + 4j, 6 + 1j])"
   ],
   "outputs": [],
   "metadata": {}
  },
  {
   "cell_type": "code",
   "execution_count": 15,
   "source": [
    "a = tf.Variable([2.0, 3.0])\r\n",
    "# This will keep the same dtype, float32\r\n",
    "a.assign([1, 2]) \r\n",
    "\r\n",
    "# Not allowed as it resizes the variable: \r\n",
    "try:\r\n",
    "  a.assign([1.0, 2.0, 3.0])\r\n",
    "except Exception as e:\r\n",
    "  print(f\"{type(e).__name__}: {e}\")"
   ],
   "outputs": [
    {
     "output_type": "stream",
     "name": "stdout",
     "text": [
      "ValueError: Cannot assign to variable Variable:0 due to variable shape (2,) and value shape (3,) are incompatible\n"
     ]
    }
   ],
   "metadata": {}
  },
  {
   "cell_type": "code",
   "execution_count": null,
   "source": [],
   "outputs": [],
   "metadata": {}
  }
 ],
 "metadata": {
  "orig_nbformat": 4,
  "language_info": {
   "name": "python",
   "version": "3.9.7",
   "mimetype": "text/x-python",
   "codemirror_mode": {
    "name": "ipython",
    "version": 3
   },
   "pygments_lexer": "ipython3",
   "nbconvert_exporter": "python",
   "file_extension": ".py"
  },
  "kernelspec": {
   "name": "python3",
   "display_name": "Python 3.9.7 64-bit"
  },
  "interpreter": {
   "hash": "f1058ac39a4b5cc6a2d664bf07a90cc7a0b869b1d28e3e4a0289bda448411850"
  }
 },
 "nbformat": 4,
 "nbformat_minor": 2
}