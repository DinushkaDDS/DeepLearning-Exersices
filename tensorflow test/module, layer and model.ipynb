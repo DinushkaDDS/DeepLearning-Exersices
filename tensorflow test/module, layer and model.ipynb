{
 "cells": [
  {
   "cell_type": "code",
   "execution_count": 1,
   "source": [
    "import tensorflow as tf\r\n",
    "from datetime import datetime\r\n",
    "\r\n",
    "%load_ext tensorboard"
   ],
   "outputs": [
    {
     "output_type": "stream",
     "name": "stdout",
     "text": [
      "INFO:tensorflow:Enabling eager execution\n",
      "INFO:tensorflow:Enabling v2 tensorshape\n",
      "INFO:tensorflow:Enabling resource variables\n",
      "INFO:tensorflow:Enabling tensor equality\n",
      "INFO:tensorflow:Enabling control flow v2\n"
     ]
    }
   ],
   "metadata": {}
  },
  {
   "cell_type": "code",
   "execution_count": 2,
   "source": [
    "class SimpleModule(tf.Module):\r\n",
    "    def __init__(self, name=None):\r\n",
    "        super().__init__(name=name)\r\n",
    "        self.a_variable = tf.Variable(5.0, name=\"train_me\")\r\n",
    "        self.non_trainable_variable = tf.Variable(5.0, trainable=False, name=\"do_not_train_me\")\r\n",
    "        \r\n",
    "    def __call__(self, x):\r\n",
    "        return self.a_variable * x + self.non_trainable_variable\r\n",
    "\r\n",
    "simple_module = SimpleModule(name=\"simple\")\r\n",
    "\r\n",
    "simple_module(tf.constant(5.0))"
   ],
   "outputs": [
    {
     "output_type": "execute_result",
     "data": {
      "text/plain": [
       "<tf.Tensor: shape=(), dtype=float32, numpy=30.0>"
      ]
     },
     "metadata": {},
     "execution_count": 2
    }
   ],
   "metadata": {}
  },
  {
   "cell_type": "markdown",
   "source": [
    "### Following is a 2 layer linear model made using Modules in tensorflow"
   ],
   "metadata": {}
  },
  {
   "cell_type": "code",
   "execution_count": 3,
   "source": [
    "class Dense(tf.Module):\r\n",
    "    def __init__(self, in_features, out_features, name=None):\r\n",
    "        super().__init__(name=name)\r\n",
    "        self.w = tf.Variable(tf.random.normal([in_features, out_features]), name='w')\r\n",
    "        self.b = tf.Variable(tf.zeros([out_features]), name='b')\r\n",
    "        \r\n",
    "    def __call__(self, x):\r\n",
    "        y = tf.matmul(x, self.w) + self.b\r\n",
    "        return tf.nn.relu(y)"
   ],
   "outputs": [],
   "metadata": {}
  },
  {
   "cell_type": "code",
   "execution_count": 4,
   "source": [
    "class SequentialModule(tf.Module):\r\n",
    "    def __init__(self, name=None):\r\n",
    "        super().__init__(name=name)\r\n",
    "\r\n",
    "        self.dense_1 = Dense(in_features=3, out_features=3)\r\n",
    "        self.dense_2 = Dense(in_features=3, out_features=2)\r\n",
    "\r\n",
    "    def __call__(self, x):\r\n",
    "        x = self.dense_1(x)\r\n",
    "        return self.dense_2(x)\r\n",
    "\r\n",
    "# We have made a model!\r\n",
    "my_model = SequentialModule(name=\"the_model\")\r\n",
    "# Call it, with random results\r\n",
    "print(\"Model results:\", my_model(tf.constant([[2.0, 2.0, 2.0]])))"
   ],
   "outputs": [
    {
     "output_type": "stream",
     "name": "stdout",
     "text": [
      "Model results: tf.Tensor([[0. 0.]], shape=(1, 2), dtype=float32)\n"
     ]
    }
   ],
   "metadata": {}
  },
  {
   "cell_type": "markdown",
   "source": [
    "## Same class as above except using keras layer base class\r\n",
    "### Keras layers have their own \"\\__call__\" that does some bookkeeping described in the next section and then calls call(). You should notice no change in functionality."
   ],
   "metadata": {}
  },
  {
   "cell_type": "code",
   "execution_count": 9,
   "source": [
    "class MyDense(tf.keras.layers.Layer):\r\n",
    "    # Adding **kwargs to support base Keras layer arguments\r\n",
    "    def __init__(self, in_features, out_features, **kwargs):\r\n",
    "        super().__init__(**kwargs)\r\n",
    "\r\n",
    "    # This will soon move to the build step; see below\r\n",
    "        self.w = tf.Variable(tf.random.normal([in_features, out_features]), name='w')\r\n",
    "        self.b = tf.Variable(tf.zeros([out_features]), name='b')\r\n",
    "        \r\n",
    "    def call(self, x):\r\n",
    "        y = tf.matmul(x, self.w) + self.b\r\n",
    "        return tf.nn.relu(y)\r\n",
    "\r\n",
    "simple_layer = MyDense(name=\"simple\", in_features=3, out_features=3)\r\n",
    "simple_layer([[2.0, 2.0, 2.0]])"
   ],
   "outputs": [
    {
     "output_type": "execute_result",
     "data": {
      "text/plain": [
       "<tf.Tensor: shape=(1, 3), dtype=float32, numpy=array([[1.9848459 , 0.06161618, 1.1195751 ]], dtype=float32)>"
      ]
     },
     "metadata": {},
     "execution_count": 9
    }
   ],
   "metadata": {}
  },
  {
   "cell_type": "markdown",
   "source": [
    "## For more details regarding creating the model, layer etc. refer the tensorflow documentation. It is clear and precise"
   ],
   "metadata": {}
  }
 ],
 "metadata": {
  "orig_nbformat": 4,
  "language_info": {
   "name": "python",
   "version": "3.9.7",
   "mimetype": "text/x-python",
   "codemirror_mode": {
    "name": "ipython",
    "version": 3
   },
   "pygments_lexer": "ipython3",
   "nbconvert_exporter": "python",
   "file_extension": ".py"
  },
  "kernelspec": {
   "name": "python3",
   "display_name": "Python 3.9.7 64-bit"
  },
  "interpreter": {
   "hash": "f1058ac39a4b5cc6a2d664bf07a90cc7a0b869b1d28e3e4a0289bda448411850"
  }
 },
 "nbformat": 4,
 "nbformat_minor": 2
}