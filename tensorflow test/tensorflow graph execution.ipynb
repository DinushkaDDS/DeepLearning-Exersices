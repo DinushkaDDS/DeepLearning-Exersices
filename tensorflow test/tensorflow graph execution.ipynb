{
 "cells": [
  {
   "cell_type": "code",
   "execution_count": 2,
   "source": [
    "import tensorflow as tf\r\n",
    "import numpy as np\r\n",
    "import timeit\r\n",
    "from datetime import datetime"
   ],
   "outputs": [],
   "metadata": {}
  },
  {
   "cell_type": "code",
   "execution_count": 3,
   "source": [
    "# Define a Python function.\r\n",
    "def a_regular_function(x, y, b):\r\n",
    "    x = tf.matmul(x, y)\r\n",
    "    x = x + b\r\n",
    "    return x\r\n",
    "\r\n",
    "# `a_function_that_uses_a_graph` is a TensorFlow `Function`.\r\n",
    "a_function_that_uses_a_graph = tf.function(a_regular_function)\r\n",
    "\r\n",
    "# Make some tensors.\r\n",
    "x1 = tf.constant([[1.0, 2.0]])\r\n",
    "y1 = tf.constant([[2.0], [3.0]])\r\n",
    "b1 = tf.constant(4.0)\r\n",
    "\r\n",
    "orig_value = a_regular_function(x1, y1, b1).numpy()\r\n",
    "\r\n",
    "# Call a `Function` like a Python function.\r\n",
    "tf_function_value = a_function_that_uses_a_graph(x1, y1, b1).numpy()\r\n",
    "\r\n",
    "assert(orig_value == tf_function_value)"
   ],
   "outputs": [],
   "metadata": {}
  },
  {
   "cell_type": "markdown",
   "source": [
    "### Can use Decorator syntax instead of using tf.function() for extra readability as well"
   ],
   "metadata": {}
  },
  {
   "cell_type": "code",
   "execution_count": 4,
   "source": [
    "def inner_function(x, y, b):\r\n",
    "    x = tf.matmul(x, y)\r\n",
    "    x = x + b\r\n",
    "    return x\r\n",
    "\r\n",
    "# Use the decorator to make `outer_function` a `Function`.\r\n",
    "@tf.function\r\n",
    "def outer_function(x):\r\n",
    "    y = tf.constant([[2.0], [3.0]])\r\n",
    "    b = tf.constant(4.0)\r\n",
    "\r\n",
    "    return inner_function(x, y, b)\r\n",
    "\r\n",
    "# Note that the callable will create a graph that\r\n",
    "# includes `inner_function` as well as `outer_function`.\r\n",
    "outer_function(tf.constant([[1.0, 2.0]])).numpy()"
   ],
   "outputs": [
    {
     "output_type": "execute_result",
     "data": {
      "text/plain": [
       "array([[12.]], dtype=float32)"
      ]
     },
     "metadata": {},
     "execution_count": 4
    }
   ],
   "metadata": {}
  },
  {
   "cell_type": "code",
   "execution_count": 5,
   "source": [
    "def simple_relu(x):\r\n",
    "    if tf.greater(x, 0):\r\n",
    "        return x\r\n",
    "    else:\r\n",
    "        return 0\r\n",
    "\r\n",
    "# `tf_simple_relu` is a TensorFlow `Function` that wraps `simple_relu`.\r\n",
    "tf_simple_relu = tf.function(simple_relu)\r\n",
    "\r\n",
    "print(\"First branch, with graph:\", tf_simple_relu(tf.constant(1)).numpy())\r\n",
    "print(\"Second branch, with graph:\", tf_simple_relu(tf.constant(-1)).numpy())"
   ],
   "outputs": [
    {
     "output_type": "stream",
     "name": "stdout",
     "text": [
      "First branch, with graph: 1\n",
      "Second branch, with graph: 0\n"
     ]
    }
   ],
   "metadata": {}
  },
  {
   "cell_type": "code",
   "execution_count": 6,
   "source": [
    "# This is the graph-generating output of AutoGraph.\r\n",
    "print(tf.autograph.to_code(simple_relu))"
   ],
   "outputs": [
    {
     "output_type": "stream",
     "name": "stdout",
     "text": [
      "def tf__simple_relu(x):\n",
      "    with ag__.FunctionScope('simple_relu', 'fscope', ag__.ConversionOptions(recursive=True, user_requested=True, optional_features=(), internal_convert_user_code=True)) as fscope:\n",
      "        do_return = False\n",
      "        retval_ = ag__.UndefinedReturnValue()\n",
      "\n",
      "        def get_state():\n",
      "            return (do_return, retval_)\n",
      "\n",
      "        def set_state(vars_):\n",
      "            nonlocal do_return, retval_\n",
      "            (do_return, retval_) = vars_\n",
      "\n",
      "        def if_body():\n",
      "            nonlocal do_return, retval_\n",
      "            try:\n",
      "                do_return = True\n",
      "                retval_ = ag__.ld(x)\n",
      "            except:\n",
      "                do_return = False\n",
      "                raise\n",
      "\n",
      "        def else_body():\n",
      "            nonlocal do_return, retval_\n",
      "            try:\n",
      "                do_return = True\n",
      "                retval_ = 0\n",
      "            except:\n",
      "                do_return = False\n",
      "                raise\n",
      "        ag__.if_stmt(ag__.converted_call(ag__.ld(tf).greater, (ag__.ld(x), 0), None, fscope), if_body, else_body, get_state, set_state, ('do_return', 'retval_'), 2)\n",
      "        return fscope.ret(retval_, do_return)\n",
      "\n"
     ]
    }
   ],
   "metadata": {}
  },
  {
   "cell_type": "markdown",
   "source": [
    "### Tensorflow functions are important when implementing fast ML model training and other related loops. \r\n",
    "\r\n",
    "*** https://www.tensorflow.org/guide/function <br>\r\n",
    "*** https://www.tensorflow.org/guide/intro_to_graphs"
   ],
   "metadata": {}
  }
 ],
 "metadata": {
  "orig_nbformat": 4,
  "language_info": {
   "name": "python",
   "version": "3.9.7",
   "mimetype": "text/x-python",
   "codemirror_mode": {
    "name": "ipython",
    "version": 3
   },
   "pygments_lexer": "ipython3",
   "nbconvert_exporter": "python",
   "file_extension": ".py"
  },
  "kernelspec": {
   "name": "python3",
   "display_name": "Python 3.9.7 64-bit"
  },
  "interpreter": {
   "hash": "f1058ac39a4b5cc6a2d664bf07a90cc7a0b869b1d28e3e4a0289bda448411850"
  }
 },
 "nbformat": 4,
 "nbformat_minor": 2
}