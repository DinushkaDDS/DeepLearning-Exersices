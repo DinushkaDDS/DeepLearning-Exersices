{
 "cells": [
  {
   "cell_type": "markdown",
   "source": [
    "# Artificial Intelligence Nanodegree\r\n",
    "\r\n",
    "## Convolutional Neural Networks\r\n",
    "\r\n",
    "## Project: Write an Algorithm for a Dog Identification App \r\n",
    "---\r\n",
    "In this notebook, Code will accept any user-supplied image as input.  If a dog is detected in the image, it will provide an estimate of the dog's breed.  If a human is detected, it will provide an estimate of the dog breed that is most resembling.  The image below displays potential sample output of your finished project (... but we expect that each student's algorithm will behave differently!). \r\n",
    "\r\n",
    "![Sample Dog Output](images/sample_dog_output.png)\r\n",
    "\r\n",
    "In this real-world setting, you will need to piece together a series of models to perform different tasks; for instance, the algorithm that detects humans in an image will be different from the CNN that infers dog breed.  There are many points of possible failure, and no perfect algorithm exists.  Your imperfect solution will nonetheless create a fun user experience!\r\n",
    "\r\n",
    "### The Road Ahead\r\n",
    "\r\n",
    "We break the notebook into separate steps.  Feel free to use the links below to navigate the notebook.\r\n",
    "\r\n",
    "* [Step 0](#step0): Import Datasets\r\n",
    "* [Step 1](#step1): Detect Humans\r\n",
    "* [Step 2](#step2): Detect Dogs\r\n",
    "* [Step 3](#step3): Create a CNN to Classify Dog Breeds (from Scratch)\r\n",
    "* [Step 4](#step4): Use a CNN to Classify Dog Breeds (using Transfer Learning)\r\n",
    "* [Step 5](#step5): Create a CNN to Classify Dog Breeds (using Transfer Learning)\r\n",
    "* [Step 6](#step6): Write your Algorithm\r\n",
    "* [Step 7](#step7): Test Your Algorithm\r\n",
    "\r\n",
    "---\r\n",
    "<a id='step0'></a>\r\n",
    "## Step 0: Import Datasets\r\n",
    "\r\n",
    "### Import Dog Dataset\r\n",
    "\r\n",
    "Dog Dataset\r\n",
    "https://s3-us-west-1.amazonaws.com/udacity-aind/dog-project/dogImages.zip\r\n",
    "\r\n",
    "Human Dataset\r\n",
    "https://s3-us-west-1.amazonaws.com/udacity-aind/dog-project/lfw.zip\r\n",
    "\r\n",
    "BottleNeck Features\r\n",
    "https://s3-us-west-1.amazonaws.com/udacity-aind/dog-project/DogVGG16Data.npz\r\n",
    "\r\n",
    "\r\n",
    "In the code cell below, we import a dataset of dog images.  We populate a few variables through the use of the `load_files` function from the scikit-learn library:\r\n",
    "- `train_files`, `valid_files`, `test_files` - numpy arrays containing file paths to images\r\n",
    "- `train_targets`, `valid_targets`, `test_targets` - numpy arrays containing onehot-encoded classification labels \r\n",
    "- `dog_names` - list of string-valued dog breed names for translating labels"
   ],
   "metadata": {}
  },
  {
   "cell_type": "code",
   "execution_count": 1,
   "source": [
    "from sklearn.datasets import load_files       \r\n",
    "from keras.utils import np_utils\r\n",
    "import numpy as np\r\n",
    "from glob import glob\r\n",
    "\r\n",
    "# define function to load train, test, and validation datasets\r\n",
    "def load_dataset(path):\r\n",
    "    data = load_files(path)\r\n",
    "    dog_files = np.array(data['filenames'])\r\n",
    "    dog_targets = np_utils.to_categorical(np.array(data['target']), 133)\r\n",
    "    return dog_files, dog_targets\r\n",
    "\r\n",
    "# load train, test, and validation datasets\r\n",
    "train_files, train_targets = load_dataset('dogImages/train')\r\n",
    "valid_files, valid_targets = load_dataset('dogImages/valid')\r\n",
    "test_files, test_targets = load_dataset('dogImages/test')\r\n",
    "\r\n",
    "# load list of dog names\r\n",
    "dog_names = [item[20:-1] for item in sorted(glob(\"dogImages/train/*/\"))]\r\n",
    "\r\n",
    "# print statistics about the dataset\r\n",
    "print('There are %d total dog categories.' % len(dog_names))\r\n",
    "print('There are %s total dog images.\\n' % len(np.hstack([train_files, valid_files, test_files])))\r\n",
    "print('There are %d training dog images.' % len(train_files))\r\n",
    "print('There are %d validation dog images.' % len(valid_files))\r\n",
    "print('There are %d test dog images.'% len(test_files))"
   ],
   "outputs": [
    {
     "output_type": "stream",
     "name": "stdout",
     "text": [
      "There are 133 total dog categories.\n",
      "There are 8351 total dog images.\n",
      "\n",
      "There are 6680 training dog images.\n",
      "There are 835 validation dog images.\n",
      "There are 836 test dog images.\n"
     ]
    }
   ],
   "metadata": {
    "collapsed": true
   }
  },
  {
   "cell_type": "markdown",
   "source": [
    "### Import Human Dataset\n",
    "\n",
    "In the code cell below, we import a dataset of human images, where the file paths are stored in the numpy array `human_files`."
   ],
   "metadata": {}
  },
  {
   "cell_type": "code",
   "execution_count": 2,
   "source": [
    "import random\r\n",
    "random.seed(8675309)\r\n",
    "\r\n",
    "# load filenames in shuffled human dataset\r\n",
    "human_files = np.array(glob(\"lfw/*/*\"))\r\n",
    "random.shuffle(human_files)\r\n",
    "\r\n",
    "# print statistics about the dataset\r\n",
    "print('There are %d total human images.' % len(human_files))"
   ],
   "outputs": [
    {
     "output_type": "stream",
     "name": "stdout",
     "text": [
      "There are 13233 total human images.\n"
     ]
    }
   ],
   "metadata": {
    "collapsed": true
   }
  },
  {
   "cell_type": "markdown",
   "source": [
    "---\n",
    "<a id='step1'></a>\n",
    "## Step 1: Detect Humans\n",
    "\n",
    "We use OpenCV's implementation of [Haar feature-based cascade classifiers](http://docs.opencv.org/trunk/d7/d8b/tutorial_py_face_detection.html) to detect human faces in images.  OpenCV provides many pre-trained face detectors, stored as XML files on [github](https://github.com/opencv/opencv/tree/master/data/haarcascades).  We have downloaded one of these detectors and stored it in the `haarcascades` directory.\n",
    "\n",
    "In the next code cell, we demonstrate how to use this detector to find human faces in a sample image."
   ],
   "metadata": {}
  },
  {
   "cell_type": "code",
   "execution_count": 3,
   "source": [
    "import cv2                \r\n",
    "import matplotlib.pyplot as plt                        \r\n",
    "%matplotlib inline                               \r\n",
    "\r\n",
    "# extract pre-trained face detector\r\n",
    "face_cascade = cv2.CascadeClassifier('haarcascades/haarcascade_frontalface_alt.xml')\r\n",
    "\r\n",
    "# load color (BGR) image\r\n",
    "img = cv2.imread(human_files[3])\r\n",
    "# convert BGR image to grayscale\r\n",
    "gray = cv2.cvtColor(img, cv2.COLOR_BGR2GRAY)\r\n",
    "\r\n",
    "# find faces in image\r\n",
    "faces = face_cascade.detectMultiScale(gray)\r\n",
    "\r\n",
    "# print number of faces detected in the image\r\n",
    "print('Number of faces detected:', len(faces))\r\n",
    "\r\n",
    "# get bounding box for each detected face\r\n",
    "for (x,y,w,h) in faces:\r\n",
    "    # add bounding box to color image\r\n",
    "    cv2.rectangle(img,(x,y),(x+w,y+h),(255,0,0),2)\r\n",
    "    \r\n",
    "# convert BGR image to RGB for plotting\r\n",
    "cv_rgb = cv2.cvtColor(img, cv2.COLOR_BGR2RGB)\r\n",
    "\r\n",
    "# display the image, along with bounding box\r\n",
    "plt.imshow(cv_rgb)\r\n",
    "plt.show()"
   ],
   "outputs": [
    {
     "output_type": "stream",
     "name": "stdout",
     "text": [
      "Number of faces detected: 1\n"
     ]
    },
    {
     "output_type": "display_data",
     "data": {
      "text/plain": [
       "<Figure size 432x288 with 1 Axes>"
      ],
      "image/svg+xml": "<?xml version=\"1.0\" encoding=\"utf-8\" standalone=\"no\"?>\r\n<!DOCTYPE svg PUBLIC \"-//W3C//DTD SVG 1.1//EN\"\r\n  \"http://www.w3.org/Graphics/SVG/1.1/DTD/svg11.dtd\">\r\n<svg height=\"251.882464pt\" version=\"1.1\" viewBox=\"0 0 257.9275 251.882464\" width=\"257.9275pt\" xmlns=\"http://www.w3.org/2000/svg\" xmlns:xlink=\"http://www.w3.org/1999/xlink\">\r\n <metadata>\r\n  <rdf:RDF xmlns:cc=\"http://creativecommons.org/ns#\" xmlns:dc=\"http://purl.org/dc/elements/1.1/\" xmlns:rdf=\"http://www.w3.org/1999/02/22-rdf-syntax-ns#\">\r\n   <cc:Work>\r\n    <dc:type rdf:resource=\"http://purl.org/dc/dcmitype/StillImage\"/>\r\n    <dc:date>2021-12-17T22:43:08.717756</dc:date>\r\n    <dc:format>image/svg+xml</dc:format>\r\n    <dc:creator>\r\n     <cc:Agent>\r\n      <dc:title>Matplotlib v3.4.1, https://matplotlib.org/</dc:title>\r\n     </cc:Agent>\r\n    </dc:creator>\r\n   </cc:Work>\r\n  </rdf:RDF>\r\n </metadata>\r\n <defs>\r\n  <style type=\"text/css\">*{stroke-linecap:butt;stroke-linejoin:round;}</style>\r\n </defs>\r\n <g id=\"figure_1\">\r\n  <g id=\"patch_1\">\r\n   <path d=\"M 0 251.882464 \r\nL 257.9275 251.882464 \r\nL 257.9275 0 \r\nL 0 0 \r\nz\r\n\" style=\"fill:none;\"/>\r\n  </g>\r\n  <g id=\"axes_1\">\r\n   <g id=\"patch_2\">\r\n    <path d=\"M 33.2875 228.004339 \r\nL 250.7275 228.004339 \r\nL 250.7275 10.564339 \r\nL 33.2875 10.564339 \r\nz\r\n\" style=\"fill:#ffffff;\"/>\r\n   </g>\r\n   <g clip-path=\"url(#p917c416179)\">\r\n    <image height=\"218\" id=\"image49e8cf278f\" transform=\"scale(1 -1)translate(0 -218)\" width=\"218\" x=\"33.2875\" xlink:href=\"data:image/png;base64,\r\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\" y=\"-10.004339\"/>\r\n   </g>\r\n   <g id=\"matplotlib.axis_1\">\r\n    <g id=\"xtick_1\">\r\n     <g id=\"line2d_1\">\r\n      <defs>\r\n       <path d=\"M 0 0 \r\nL 0 3.5 \r\n\" id=\"m46142fce6e\" style=\"stroke:#000000;stroke-width:0.8;\"/>\r\n      </defs>\r\n      <g>\r\n       <use style=\"stroke:#000000;stroke-width:0.8;\" x=\"33.72238\" xlink:href=\"#m46142fce6e\" y=\"228.004339\"/>\r\n      </g>\r\n     </g>\r\n     <g id=\"text_1\">\r\n      <!-- 0 -->\r\n      <g transform=\"translate(30.54113 242.602776)scale(0.1 -0.1)\">\r\n       <defs>\r\n        <path d=\"M 2034 4250 \r\nQ 1547 4250 1301 3770 \r\nQ 1056 3291 1056 2328 \r\nQ 1056 1369 1301 889 \r\nQ 1547 409 2034 409 \r\nQ 2525 409 2770 889 \r\nQ 3016 1369 3016 2328 \r\nQ 3016 3291 2770 3770 \r\nQ 2525 4250 2034 4250 \r\nz\r\nM 2034 4750 \r\nQ 2819 4750 3233 4129 \r\nQ 3647 3509 3647 2328 \r\nQ 3647 1150 3233 529 \r\nQ 2819 -91 2034 -91 \r\nQ 1250 -91 836 529 \r\nQ 422 1150 422 2328 \r\nQ 422 3509 836 4129 \r\nQ 1250 4750 2034 4750 \r\nz\r\n\" id=\"DejaVuSans-30\" transform=\"scale(0.015625)\"/>\r\n       </defs>\r\n       <use xlink:href=\"#DejaVuSans-30\"/>\r\n      </g>\r\n     </g>\r\n    </g>\r\n    <g id=\"xtick_2\">\r\n     <g id=\"line2d_2\">\r\n      <g>\r\n       <use style=\"stroke:#000000;stroke-width:0.8;\" x=\"77.21038\" xlink:href=\"#m46142fce6e\" y=\"228.004339\"/>\r\n      </g>\r\n     </g>\r\n     <g id=\"text_2\">\r\n      <!-- 50 -->\r\n      <g transform=\"translate(70.84788 242.602776)scale(0.1 -0.1)\">\r\n       <defs>\r\n        <path d=\"M 691 4666 \r\nL 3169 4666 \r\nL 3169 4134 \r\nL 1269 4134 \r\nL 1269 2991 \r\nQ 1406 3038 1543 3061 \r\nQ 1681 3084 1819 3084 \r\nQ 2600 3084 3056 2656 \r\nQ 3513 2228 3513 1497 \r\nQ 3513 744 3044 326 \r\nQ 2575 -91 1722 -91 \r\nQ 1428 -91 1123 -41 \r\nQ 819 9 494 109 \r\nL 494 744 \r\nQ 775 591 1075 516 \r\nQ 1375 441 1709 441 \r\nQ 2250 441 2565 725 \r\nQ 2881 1009 2881 1497 \r\nQ 2881 1984 2565 2268 \r\nQ 2250 2553 1709 2553 \r\nQ 1456 2553 1204 2497 \r\nQ 953 2441 691 2322 \r\nL 691 4666 \r\nz\r\n\" id=\"DejaVuSans-35\" transform=\"scale(0.015625)\"/>\r\n       </defs>\r\n       <use xlink:href=\"#DejaVuSans-35\"/>\r\n       <use x=\"63.623047\" xlink:href=\"#DejaVuSans-30\"/>\r\n      </g>\r\n     </g>\r\n    </g>\r\n    <g id=\"xtick_3\">\r\n     <g id=\"line2d_3\">\r\n      <g>\r\n       <use style=\"stroke:#000000;stroke-width:0.8;\" x=\"120.69838\" xlink:href=\"#m46142fce6e\" y=\"228.004339\"/>\r\n      </g>\r\n     </g>\r\n     <g id=\"text_3\">\r\n      <!-- 100 -->\r\n      <g transform=\"translate(111.15463 242.602776)scale(0.1 -0.1)\">\r\n       <defs>\r\n        <path d=\"M 794 531 \r\nL 1825 531 \r\nL 1825 4091 \r\nL 703 3866 \r\nL 703 4441 \r\nL 1819 4666 \r\nL 2450 4666 \r\nL 2450 531 \r\nL 3481 531 \r\nL 3481 0 \r\nL 794 0 \r\nL 794 531 \r\nz\r\n\" id=\"DejaVuSans-31\" transform=\"scale(0.015625)\"/>\r\n       </defs>\r\n       <use xlink:href=\"#DejaVuSans-31\"/>\r\n       <use x=\"63.623047\" xlink:href=\"#DejaVuSans-30\"/>\r\n       <use x=\"127.246094\" xlink:href=\"#DejaVuSans-30\"/>\r\n      </g>\r\n     </g>\r\n    </g>\r\n    <g id=\"xtick_4\">\r\n     <g id=\"line2d_4\">\r\n      <g>\r\n       <use style=\"stroke:#000000;stroke-width:0.8;\" x=\"164.18638\" xlink:href=\"#m46142fce6e\" y=\"228.004339\"/>\r\n      </g>\r\n     </g>\r\n     <g id=\"text_4\">\r\n      <!-- 150 -->\r\n      <g transform=\"translate(154.64263 242.602776)scale(0.1 -0.1)\">\r\n       <use xlink:href=\"#DejaVuSans-31\"/>\r\n       <use x=\"63.623047\" xlink:href=\"#DejaVuSans-35\"/>\r\n       <use x=\"127.246094\" xlink:href=\"#DejaVuSans-30\"/>\r\n      </g>\r\n     </g>\r\n    </g>\r\n    <g id=\"xtick_5\">\r\n     <g id=\"line2d_5\">\r\n      <g>\r\n       <use style=\"stroke:#000000;stroke-width:0.8;\" x=\"207.67438\" xlink:href=\"#m46142fce6e\" y=\"228.004339\"/>\r\n      </g>\r\n     </g>\r\n     <g id=\"text_5\">\r\n      <!-- 200 -->\r\n      <g transform=\"translate(198.13063 242.602776)scale(0.1 -0.1)\">\r\n       <defs>\r\n        <path d=\"M 1228 531 \r\nL 3431 531 \r\nL 3431 0 \r\nL 469 0 \r\nL 469 531 \r\nQ 828 903 1448 1529 \r\nQ 2069 2156 2228 2338 \r\nQ 2531 2678 2651 2914 \r\nQ 2772 3150 2772 3378 \r\nQ 2772 3750 2511 3984 \r\nQ 2250 4219 1831 4219 \r\nQ 1534 4219 1204 4116 \r\nQ 875 4013 500 3803 \r\nL 500 4441 \r\nQ 881 4594 1212 4672 \r\nQ 1544 4750 1819 4750 \r\nQ 2544 4750 2975 4387 \r\nQ 3406 4025 3406 3419 \r\nQ 3406 3131 3298 2873 \r\nQ 3191 2616 2906 2266 \r\nQ 2828 2175 2409 1742 \r\nQ 1991 1309 1228 531 \r\nz\r\n\" id=\"DejaVuSans-32\" transform=\"scale(0.015625)\"/>\r\n       </defs>\r\n       <use xlink:href=\"#DejaVuSans-32\"/>\r\n       <use x=\"63.623047\" xlink:href=\"#DejaVuSans-30\"/>\r\n       <use x=\"127.246094\" xlink:href=\"#DejaVuSans-30\"/>\r\n      </g>\r\n     </g>\r\n    </g>\r\n   </g>\r\n   <g id=\"matplotlib.axis_2\">\r\n    <g id=\"ytick_1\">\r\n     <g id=\"line2d_6\">\r\n      <defs>\r\n       <path d=\"M 0 0 \r\nL -3.5 0 \r\n\" id=\"m34765f06b7\" style=\"stroke:#000000;stroke-width:0.8;\"/>\r\n      </defs>\r\n      <g>\r\n       <use style=\"stroke:#000000;stroke-width:0.8;\" x=\"33.2875\" xlink:href=\"#m34765f06b7\" y=\"10.999219\"/>\r\n      </g>\r\n     </g>\r\n     <g id=\"text_6\">\r\n      <!-- 0 -->\r\n      <g transform=\"translate(19.925 14.798437)scale(0.1 -0.1)\">\r\n       <use xlink:href=\"#DejaVuSans-30\"/>\r\n      </g>\r\n     </g>\r\n    </g>\r\n    <g id=\"ytick_2\">\r\n     <g id=\"line2d_7\">\r\n      <g>\r\n       <use style=\"stroke:#000000;stroke-width:0.8;\" x=\"33.2875\" xlink:href=\"#m34765f06b7\" y=\"54.487219\"/>\r\n      </g>\r\n     </g>\r\n     <g id=\"text_7\">\r\n      <!-- 50 -->\r\n      <g transform=\"translate(13.5625 58.286437)scale(0.1 -0.1)\">\r\n       <use xlink:href=\"#DejaVuSans-35\"/>\r\n       <use x=\"63.623047\" xlink:href=\"#DejaVuSans-30\"/>\r\n      </g>\r\n     </g>\r\n    </g>\r\n    <g id=\"ytick_3\">\r\n     <g id=\"line2d_8\">\r\n      <g>\r\n       <use style=\"stroke:#000000;stroke-width:0.8;\" x=\"33.2875\" xlink:href=\"#m34765f06b7\" y=\"97.975219\"/>\r\n      </g>\r\n     </g>\r\n     <g id=\"text_8\">\r\n      <!-- 100 -->\r\n      <g transform=\"translate(7.2 101.774437)scale(0.1 -0.1)\">\r\n       <use xlink:href=\"#DejaVuSans-31\"/>\r\n       <use x=\"63.623047\" xlink:href=\"#DejaVuSans-30\"/>\r\n       <use x=\"127.246094\" xlink:href=\"#DejaVuSans-30\"/>\r\n      </g>\r\n     </g>\r\n    </g>\r\n    <g id=\"ytick_4\">\r\n     <g id=\"line2d_9\">\r\n      <g>\r\n       <use style=\"stroke:#000000;stroke-width:0.8;\" x=\"33.2875\" xlink:href=\"#m34765f06b7\" y=\"141.463219\"/>\r\n      </g>\r\n     </g>\r\n     <g id=\"text_9\">\r\n      <!-- 150 -->\r\n      <g transform=\"translate(7.2 145.262437)scale(0.1 -0.1)\">\r\n       <use xlink:href=\"#DejaVuSans-31\"/>\r\n       <use x=\"63.623047\" xlink:href=\"#DejaVuSans-35\"/>\r\n       <use x=\"127.246094\" xlink:href=\"#DejaVuSans-30\"/>\r\n      </g>\r\n     </g>\r\n    </g>\r\n    <g id=\"ytick_5\">\r\n     <g id=\"line2d_10\">\r\n      <g>\r\n       <use style=\"stroke:#000000;stroke-width:0.8;\" x=\"33.2875\" xlink:href=\"#m34765f06b7\" y=\"184.951219\"/>\r\n      </g>\r\n     </g>\r\n     <g id=\"text_10\">\r\n      <!-- 200 -->\r\n      <g transform=\"translate(7.2 188.750437)scale(0.1 -0.1)\">\r\n       <use xlink:href=\"#DejaVuSans-32\"/>\r\n       <use x=\"63.623047\" xlink:href=\"#DejaVuSans-30\"/>\r\n       <use x=\"127.246094\" xlink:href=\"#DejaVuSans-30\"/>\r\n      </g>\r\n     </g>\r\n    </g>\r\n   </g>\r\n   <g id=\"patch_3\">\r\n    <path d=\"M 33.2875 228.004339 \r\nL 33.2875 10.564339 \r\n\" style=\"fill:none;stroke:#000000;stroke-linecap:square;stroke-linejoin:miter;stroke-width:0.8;\"/>\r\n   </g>\r\n   <g id=\"patch_4\">\r\n    <path d=\"M 250.7275 228.004339 \r\nL 250.7275 10.564339 \r\n\" style=\"fill:none;stroke:#000000;stroke-linecap:square;stroke-linejoin:miter;stroke-width:0.8;\"/>\r\n   </g>\r\n   <g id=\"patch_5\">\r\n    <path d=\"M 33.2875 228.004339 \r\nL 250.7275 228.004339 \r\n\" style=\"fill:none;stroke:#000000;stroke-linecap:square;stroke-linejoin:miter;stroke-width:0.8;\"/>\r\n   </g>\r\n   <g id=\"patch_6\">\r\n    <path d=\"M 33.2875 10.564339 \r\nL 250.7275 10.564339 \r\n\" style=\"fill:none;stroke:#000000;stroke-linecap:square;stroke-linejoin:miter;stroke-width:0.8;\"/>\r\n   </g>\r\n  </g>\r\n </g>\r\n <defs>\r\n  <clipPath id=\"p917c416179\">\r\n   <rect height=\"217.44\" width=\"217.44\" x=\"33.2875\" y=\"10.564339\"/>\r\n  </clipPath>\r\n </defs>\r\n</svg>\r\n",
      "image/png": "[encoded data removed]"
     },
     "metadata": {
      "needs_background": "light"
     }
    }
   ],
   "metadata": {
    "collapsed": true
   }
  },
  {
   "cell_type": "markdown",
   "source": [
    "Before using any of the face detectors, it is standard procedure to convert the images to grayscale.  The `detectMultiScale` function executes the classifier stored in `face_cascade` and takes the grayscale image as a parameter.  \n",
    "\n",
    "In the above code, `faces` is a numpy array of detected faces, where each row corresponds to a detected face.  Each detected face is a 1D array with four entries that specifies the bounding box of the detected face.  The first two entries in the array (extracted in the above code as `x` and `y`) specify the horizontal and vertical positions of the top left corner of the bounding box.  The last two entries in the array (extracted here as `w` and `h`) specify the width and height of the box.\n",
    "\n",
    "### Write a Human Face Detector\n",
    "\n",
    "We can use this procedure to write a function that returns `True` if a human face is detected in an image and `False` otherwise.  This function, aptly named `face_detector`, takes a string-valued file path to an image as input and appears in the code block below."
   ],
   "metadata": {}
  },
  {
   "cell_type": "code",
   "execution_count": 4,
   "source": [
    "# returns \"True\" if face is detected in image stored at img_path\r\n",
    "def face_detector(img_path):\r\n",
    "    img = cv2.imread(img_path)\r\n",
    "    gray = cv2.cvtColor(img, cv2.COLOR_BGR2GRAY)\r\n",
    "    faces = face_cascade.detectMultiScale(gray)\r\n",
    "    return len(faces) > 0"
   ],
   "outputs": [],
   "metadata": {
    "collapsed": true
   }
  },
  {
   "cell_type": "markdown",
   "source": [
    "### (IMPLEMENTATION) Assess the Human Face Detector\r\n",
    "\r\n",
    "The performance of the `face_detector` function.  \r\n",
    "- What percentage of the first 100 images in `human_files` have a detected human face?  \r\n",
    "- What percentage of the first 100 images in `dog_files` have a detected human face? \r\n",
    "\r\n",
    "Ideally, we would like 100% of human images with a detected face and 0% of dog images with a detected face.  You will see that our algorithm falls short of this goal, but still gives acceptable performance.  We extract the file paths for the first 100 images from each of the datasets and store them in the numpy arrays `human_files_short` and `dog_files_short`."
   ],
   "metadata": {}
  },
  {
   "cell_type": "code",
   "execution_count": 5,
   "source": [
    "human_files_short = human_files[:100]\r\n",
    "dog_files_short = train_files[:100]\r\n",
    "# Do NOT modify the code above this line.\r\n",
    "\r\n",
    "count = 0\r\n",
    "for file in human_files_short:\r\n",
    "    if(face_detector(file)):\r\n",
    "        count +=1\r\n",
    "else:\r\n",
    "    print(f\"Correct human classification: {count}%\")\r\n",
    "\r\n",
    "count = 0\r\n",
    "for file in dog_files_short:\r\n",
    "    if(face_detector(file)):\r\n",
    "        count +=1\r\n",
    "else:\r\n",
    "    print(f\"Incorrect dog classification: {count}%\")"
   ],
   "outputs": [
    {
     "output_type": "stream",
     "name": "stdout",
     "text": [
      "Correct human classification: 99%\n",
      "Incorrect dog classification: 12%\n"
     ]
    }
   ],
   "metadata": {
    "collapsed": true
   }
  },
  {
   "cell_type": "markdown",
   "source": [
    "__Question 2:__ This algorithmic choice necessitates that we communicate to the user that we accept human images only when they provide a clear view of a face (otherwise, we risk having unneccessarily frustrated users!). In your opinion, is this a reasonable expectation to pose on the user? If not, can you think of a way to detect humans in images that does not necessitate an image with a clearly presented face?\n",
    "\n",
    "__Answer:__\n",
    "\n",
    "We suggest the face detector from OpenCV as a potential way to detect human images in your algorithm, but you are free to explore other approaches, especially approaches that make use of deep learning :).  Please use the code cell below to design and test your own face detection algorithm.  If you decide to pursue this _optional_ task, report performance on each of the datasets."
   ],
   "metadata": {}
  },
  {
   "cell_type": "code",
   "execution_count": 6,
   "source": [
    "## (Optional) TODO: Report the performance of another  \r\n",
    "## face detection algorithm on the LFW dataset\r\n",
    "### Feel free to use as many code cells as needed."
   ],
   "outputs": [],
   "metadata": {
    "collapsed": true
   }
  },
  {
   "cell_type": "markdown",
   "source": [
    "---\n",
    "<a id='step2'></a>\n",
    "## Step 2: Detect Dogs\n",
    "\n",
    "In this section, we use a pre-trained [ResNet-50](http://ethereon.github.io/netscope/#/gist/db945b393d40bfa26006) model to detect dogs in images.  Our first line of code downloads the ResNet-50 model, along with weights that have been trained on [ImageNet](http://www.image-net.org/), a very large, very popular dataset used for image classification and other vision tasks.  ImageNet contains over 10 million URLs, each linking to an image containing an object from one of [1000 categories](https://gist.github.com/yrevar/942d3a0ac09ec9e5eb3a).  Given an image, this pre-trained ResNet-50 model returns a prediction (derived from the available categories in ImageNet) for the object that is contained in the image."
   ],
   "metadata": {}
  },
  {
   "cell_type": "code",
   "execution_count": 7,
   "source": [
    "from keras.applications.resnet import ResNet50\r\n",
    "\r\n",
    "# define ResNet50 model\r\n",
    "ResNet50_model = ResNet50(weights='imagenet')"
   ],
   "outputs": [],
   "metadata": {
    "collapsed": true
   }
  },
  {
   "cell_type": "markdown",
   "source": [
    "### Pre-process the Data\r\n",
    "\r\n",
    "When using TensorFlow as backend, Keras CNNs require a 4D array (which we'll also refer to as a 4D tensor) as input, with shape\r\n",
    "\r\n",
    "$$\r\n",
    "(\\text{nb_samples}, \\text{rows}, \\text{columns}, \\text{channels}),\r\n",
    "$$\r\n",
    "\r\n",
    "where `nb_samples` corresponds to the total number of images (or samples), and `rows`, `columns`, and `channels` correspond to the number of rows, columns, and channels for each image, respectively.  \r\n",
    "\r\n",
    "The `path_to_tensor` function below takes a string-valued file path to a color image as input and returns a 4D tensor suitable for supplying to a Keras CNN.  The function first loads the image and resizes it to a square image that is $224 \\times 224$ pixels.  Next, the image is converted to an array, which is then resized to a 4D tensor.  In this case, since we are working with color images, each image has three channels.  Likewise, since we are processing a single image (or sample), the returned tensor will always have shape\r\n",
    "\r\n",
    "$$\r\n",
    "(1, 224, 224, 3).\r\n",
    "$$\r\n",
    "\r\n",
    "The `paths_to_tensor` function takes a numpy array of string-valued image paths as input and returns a 4D tensor with shape \r\n",
    "\r\n",
    "$$\r\n",
    "(\\text{nb_samples}, 224, 224, 3).\r\n",
    "$$\r\n",
    "\r\n",
    "Here, `nb_samples` is the number of samples, or number of images, in the supplied array of image paths.  It is best to think of `nb_samples` as the number of 3D tensors (where each 3D tensor corresponds to a different image) in your dataset!"
   ],
   "metadata": {}
  },
  {
   "cell_type": "code",
   "execution_count": 8,
   "source": [
    "from keras.preprocessing import image                  \r\n",
    "from tqdm import tqdm\r\n",
    "\r\n",
    "def path_to_tensor(img_path):\r\n",
    "    # loads RGB image as PIL.Image.Image type\r\n",
    "    img = image.load_img(img_path, target_size=(224, 224))\r\n",
    "    # convert PIL.Image.Image type to 3D tensor with shape (224, 224, 3)\r\n",
    "    x = image.img_to_array(img)\r\n",
    "    # convert 3D tensor to 4D tensor with shape (1, 224, 224, 3) and return 4D tensor\r\n",
    "    return np.expand_dims(x, axis=0)\r\n",
    "\r\n",
    "def paths_to_tensor(img_paths):\r\n",
    "    list_of_tensors = [path_to_tensor(img_path) for img_path in tqdm(img_paths)]\r\n",
    "    return np.vstack(list_of_tensors)"
   ],
   "outputs": [],
   "metadata": {
    "collapsed": true
   }
  },
  {
   "cell_type": "markdown",
   "source": [
    "### Making Predictions with ResNet-50\n",
    "\n",
    "Getting the 4D tensor ready for ResNet-50, and for any other pre-trained model in Keras, requires some additional processing.  First, the RGB image is converted to BGR by reordering the channels.  All pre-trained models have the additional normalization step that the mean pixel (expressed in RGB as $[103.939, 116.779, 123.68]$ and calculated from all pixels in all images in ImageNet) must be subtracted from every pixel in each image.  This is implemented in the imported function `preprocess_input`.  If you're curious, you can check the code for `preprocess_input` [here](https://github.com/fchollet/keras/blob/master/keras/applications/imagenet_utils.py).\n",
    "\n",
    "Now that we have a way to format our image for supplying to ResNet-50, we are now ready to use the model to extract the predictions.  This is accomplished with the `predict` method, which returns an array whose $i$-th entry is the model's predicted probability that the image belongs to the $i$-th ImageNet category.  This is implemented in the `ResNet50_predict_labels` function below.\n",
    "\n",
    "By taking the argmax of the predicted probability vector, we obtain an integer corresponding to the model's predicted object class, which we can identify with an object category through the use of this [dictionary](https://gist.github.com/yrevar/942d3a0ac09ec9e5eb3a). "
   ],
   "metadata": {}
  },
  {
   "cell_type": "code",
   "execution_count": 9,
   "source": [
    "from keras.applications.resnet import preprocess_input, decode_predictions\r\n",
    "\r\n",
    "def ResNet50_predict_labels(img_path):\r\n",
    "    # returns prediction vector for image located at img_path\r\n",
    "    img = preprocess_input(path_to_tensor(img_path))\r\n",
    "    return np.argmax(ResNet50_model.predict(img))"
   ],
   "outputs": [],
   "metadata": {
    "collapsed": true
   }
  },
  {
   "cell_type": "markdown",
   "source": [
    "### Write a Dog Detector\n",
    "\n",
    "While looking at the [dictionary](https://gist.github.com/yrevar/942d3a0ac09ec9e5eb3a), you will notice that the categories corresponding to dogs appear in an uninterrupted sequence and correspond to dictionary keys 151-268, inclusive, to include all categories from `'Chihuahua'` to `'Mexican hairless'`.  Thus, in order to check to see if an image is predicted to contain a dog by the pre-trained ResNet-50 model, we need only check if the `ResNet50_predict_labels` function above returns a value between 151 and 268 (inclusive).\n",
    "\n",
    "We use these ideas to complete the `dog_detector` function below, which returns `True` if a dog is detected in an image (and `False` if not)."
   ],
   "metadata": {}
  },
  {
   "cell_type": "code",
   "execution_count": 10,
   "source": [
    "### returns \"True\" if a dog is detected in the image stored at img_path\r\n",
    "def dog_detector(img_path):\r\n",
    "    prediction = ResNet50_predict_labels(img_path)\r\n",
    "    return ((prediction <= 268) & (prediction >= 151)) "
   ],
   "outputs": [],
   "metadata": {
    "collapsed": true
   }
  },
  {
   "cell_type": "markdown",
   "source": [
    "### (IMPLEMENTATION) Assess the Dog Detector\r\n",
    "\r\n",
    "the code cell below test the performance of your `dog_detector` function.  \r\n",
    "- What percentage of the images in `human_files_short` have a detected dog?  \r\n",
    "- What percentage of the images in `dog_files_short` have a detected dog?"
   ],
   "metadata": {}
  },
  {
   "cell_type": "code",
   "execution_count": 11,
   "source": [
    "count = 0\r\n",
    "for file in human_files_short:\r\n",
    "    if(dog_detector(file)):\r\n",
    "        count +=1\r\n",
    "else:\r\n",
    "    print(f\"Incorrect dog classification: {count}%\")\r\n",
    "\r\n",
    "count = 0\r\n",
    "for file in dog_files_short:\r\n",
    "    if(dog_detector(file)):\r\n",
    "        count +=1\r\n",
    "else:\r\n",
    "    print(f\"Correct dog classification: {count}%\")"
   ],
   "outputs": [
    {
     "output_type": "stream",
     "name": "stdout",
     "text": [
      "Incorrect dog classification: 0%\n",
      "Correct dog classification: 100%\n"
     ]
    }
   ],
   "metadata": {
    "collapsed": true
   }
  },
  {
   "cell_type": "markdown",
   "source": [
    "---\n",
    "<a id='step3'></a>\n",
    "## Step 3: Create a CNN to Classify Dog Breeds (from Scratch)\n",
    "\n",
    "Now that we have functions for detecting humans and dogs in images, we need a way to predict breed from images.  In this step, you will create a CNN that classifies dog breeds.  You must create your CNN _from scratch_ (so, you can't use transfer learning _yet_!), and you must attain a test accuracy of at least 1%.  In Step 5 of this notebook, you will have the opportunity to use transfer learning to create a CNN that attains greatly improved accuracy.\n",
    "\n",
    "Be careful with adding too many trainable layers!  More parameters means longer training, which means you are more likely to need a GPU to accelerate the training process.  Thankfully, Keras provides a handy estimate of the time that each epoch is likely to take; you can extrapolate this estimate to figure out how long it will take for your algorithm to train. \n",
    "\n",
    "We mention that the task of assigning breed to dogs from images is considered exceptionally challenging.  To see why, consider that *even a human* would have great difficulty in distinguishing between a Brittany and a Welsh Springer Spaniel.  \n",
    "\n",
    "Brittany | Welsh Springer Spaniel\n",
    "- | - \n",
    "<img src=\"images/Brittany_02625.jpg\" width=\"100\"> | <img src=\"images/Welsh_springer_spaniel_08203.jpg\" width=\"200\">\n",
    "\n",
    "It is not difficult to find other dog breed pairs with minimal inter-class variation (for instance, Curly-Coated Retrievers and American Water Spaniels).  \n",
    "\n",
    "Curly-Coated Retriever | American Water Spaniel\n",
    "- | -\n",
    "<img src=\"images/Curly-coated_retriever_03896.jpg\" width=\"200\"> | <img src=\"images/American_water_spaniel_00648.jpg\" width=\"200\">\n",
    "\n",
    "\n",
    "Likewise, recall that labradors come in yellow, chocolate, and black.  Your vision-based algorithm will have to conquer this high intra-class variation to determine how to classify all of these different shades as the same breed.  \n",
    "\n",
    "Yellow Labrador | Chocolate Labrador | Black Labrador\n",
    "- | -\n",
    "<img src=\"images/Labrador_retriever_06457.jpg\" width=\"150\"> | <img src=\"images/Labrador_retriever_06455.jpg\" width=\"240\"> | <img src=\"images/Labrador_retriever_06449.jpg\" width=\"220\">\n",
    "\n",
    "We also mention that random chance presents an exceptionally low bar: setting aside the fact that the classes are slightly imabalanced, a random guess will provide a correct answer roughly 1 in 133 times, which corresponds to an accuracy of less than 1%.  \n",
    "\n",
    "Remember that the practice is far ahead of the theory in deep learning.  Experiment with many different architectures, and trust your intuition.  And, of course, have fun! \n",
    "\n",
    "### Pre-process the Data\n",
    "\n",
    "We rescale the images by dividing every pixel in every image by 255."
   ],
   "metadata": {}
  },
  {
   "cell_type": "code",
   "execution_count": 12,
   "source": [
    "from PIL import ImageFile                            \r\n",
    "ImageFile.LOAD_TRUNCATED_IMAGES = True                 \r\n",
    "\r\n",
    "# pre-process the data for Keras\r\n",
    "train_tensors = paths_to_tensor(train_files).astype('float32')/255\r\n",
    "valid_tensors = paths_to_tensor(valid_files).astype('float32')/255\r\n",
    "test_tensors = paths_to_tensor(test_files).astype('float32')/255"
   ],
   "outputs": [
    {
     "output_type": "stream",
     "name": "stderr",
     "text": [
      "100%|██████████| 6680/6680 [00:20<00:00, 320.18it/s]\n",
      "100%|██████████| 835/835 [00:03<00:00, 275.42it/s]\n",
      "100%|██████████| 836/836 [00:02<00:00, 323.62it/s]\n"
     ]
    }
   ],
   "metadata": {
    "collapsed": true
   }
  },
  {
   "cell_type": "markdown",
   "source": [
    "### (IMPLEMENTATION) Model Architecture\n",
    "\n",
    "Create a CNN to classify dog breed.  At the end of your code cell block, summarize the layers of your model by executing the line:\n",
    "    \n",
    "        model.summary()\n",
    "\n",
    "We have imported some Python modules to get you started, but feel free to import as many modules as you need.  If you end up getting stuck, here's a hint that specifies a model that trains relatively fast on CPU and attains >1% test accuracy in 5 epochs:\n",
    "\n",
    "![Sample CNN](images/sample_cnn.png)\n",
    "           \n",
    "__Question 4:__ Outline the steps you took to get to your final CNN architecture and your reasoning at each step.  If you chose to use the hinted architecture above, describe why you think that CNN architecture should work well for the image classification task.\n",
    "\n",
    "__Answer:__ "
   ],
   "metadata": {}
  },
  {
   "cell_type": "code",
   "execution_count": 13,
   "source": [
    "from keras.layers import Conv2D, MaxPooling2D, GlobalAveragePooling2D\r\n",
    "from keras.layers import Dropout, Flatten, Dense\r\n",
    "from keras.models import Sequential\r\n",
    "\r\n",
    "model = Sequential()\r\n",
    "\r\n",
    "model.add(Conv2D(64, 5, input_shape=(224,224,3)))\r\n",
    "model.add(Conv2D(128, 5, input_shape=(224,224)))\r\n",
    "model.add(MaxPooling2D())\r\n",
    "model.add(Conv2D(256, 3,input_shape=(224,224)))\r\n",
    "model.add(MaxPooling2D())\r\n",
    "model.add(Conv2D(512, 3, input_shape=(224,224)))\r\n",
    "model.add(GlobalAveragePooling2D())\r\n",
    "model.add(Dense(256, activation=\"relu\"))\r\n",
    "model.add(Dense(133, activation=\"softmax\"))\r\n",
    "\r\n",
    "model.summary()"
   ],
   "outputs": [
    {
     "output_type": "stream",
     "name": "stdout",
     "text": [
      "Model: \"sequential\"\n",
      "_________________________________________________________________\n",
      "Layer (type)                 Output Shape              Param #   \n",
      "=================================================================\n",
      "conv2d (Conv2D)              (None, 220, 220, 64)      4864      \n",
      "_________________________________________________________________\n",
      "conv2d_1 (Conv2D)            (None, 216, 216, 128)     204928    \n",
      "_________________________________________________________________\n",
      "max_pooling2d (MaxPooling2D) (None, 108, 108, 128)     0         \n",
      "_________________________________________________________________\n",
      "conv2d_2 (Conv2D)            (None, 106, 106, 256)     295168    \n",
      "_________________________________________________________________\n",
      "max_pooling2d_1 (MaxPooling2 (None, 53, 53, 256)       0         \n",
      "_________________________________________________________________\n",
      "conv2d_3 (Conv2D)            (None, 51, 51, 512)       1180160   \n",
      "_________________________________________________________________\n",
      "global_average_pooling2d (Gl (None, 512)               0         \n",
      "_________________________________________________________________\n",
      "dense (Dense)                (None, 256)               131328    \n",
      "_________________________________________________________________\n",
      "dense_1 (Dense)              (None, 133)               34181     \n",
      "=================================================================\n",
      "Total params: 1,850,629\n",
      "Trainable params: 1,850,629\n",
      "Non-trainable params: 0\n",
      "_________________________________________________________________\n"
     ]
    }
   ],
   "metadata": {
    "collapsed": true
   }
  },
  {
   "cell_type": "markdown",
   "source": [
    "### Compile the Model"
   ],
   "metadata": {}
  },
  {
   "cell_type": "code",
   "execution_count": 14,
   "source": [
    "model.compile(optimizer='rmsprop', loss='categorical_crossentropy', metrics=['accuracy'])"
   ],
   "outputs": [],
   "metadata": {
    "collapsed": true
   }
  },
  {
   "cell_type": "markdown",
   "source": [
    "### (IMPLEMENTATION) Train the Model\n",
    "\n",
    "Train your model in the code cell below.  Use model checkpointing to save the model that attains the best validation loss.\n",
    "\n",
    "You are welcome to [augment the training data](https://blog.keras.io/building-powerful-image-classification-models-using-very-little-data.html), but this is not a requirement. "
   ],
   "metadata": {}
  },
  {
   "cell_type": "code",
   "execution_count": 15,
   "source": [
    "from keras.callbacks import ModelCheckpoint  \r\n",
    "\r\n",
    "epochs = 5\r\n",
    "\r\n",
    "### Do NOT modify the code below this line.\r\n",
    "checkpointer = ModelCheckpoint(filepath='saved_models/weights.best.from_scratch.hdf5', \r\n",
    "                               verbose=1, save_best_only=True)\r\n",
    "\r\n",
    "model.fit(train_tensors, train_targets, \r\n",
    "          validation_data=(valid_tensors, valid_targets),\r\n",
    "          epochs=epochs, batch_size=20, callbacks=[checkpointer], verbose=1)"
   ],
   "outputs": [
    {
     "output_type": "stream",
     "name": "stdout",
     "text": [
      "Epoch 1/5\n",
      "334/334 [==============================] - 88s 225ms/step - loss: 7.3855 - accuracy: 0.0098 - val_loss: 4.8722 - val_accuracy: 0.0180\n",
      "\n",
      "Epoch 00001: val_loss improved from inf to 4.87221, saving model to saved_models\\weights.best.from_scratch.hdf5\n",
      "Epoch 2/5\n",
      "334/334 [==============================] - 71s 214ms/step - loss: 5.2080 - accuracy: 0.0116 - val_loss: 4.8844 - val_accuracy: 0.0096\n",
      "\n",
      "Epoch 00002: val_loss did not improve from 4.87221\n",
      "Epoch 3/5\n",
      "334/334 [==============================] - 73s 220ms/step - loss: 4.8828 - accuracy: 0.0096 - val_loss: 4.8793 - val_accuracy: 0.0108\n",
      "\n",
      "Epoch 00003: val_loss did not improve from 4.87221\n",
      "Epoch 4/5\n",
      "334/334 [==============================] - 78s 232ms/step - loss: 4.8756 - accuracy: 0.0115 - val_loss: 4.8757 - val_accuracy: 0.0108\n",
      "\n",
      "Epoch 00004: val_loss did not improve from 4.87221\n",
      "Epoch 5/5\n",
      "334/334 [==============================] - 72s 216ms/step - loss: 4.8730 - accuracy: 0.0117 - val_loss: 4.8731 - val_accuracy: 0.0108\n",
      "\n",
      "Epoch 00005: val_loss did not improve from 4.87221\n"
     ]
    },
    {
     "output_type": "execute_result",
     "data": {
      "text/plain": [
       "<keras.callbacks.History at 0x19a089b3eb0>"
      ]
     },
     "metadata": {},
     "execution_count": 15
    }
   ],
   "metadata": {
    "collapsed": true
   }
  },
  {
   "cell_type": "markdown",
   "source": [
    "### Load the Model with the Best Validation Loss"
   ],
   "metadata": {}
  },
  {
   "cell_type": "code",
   "execution_count": 16,
   "source": [
    "model.load_weights('saved_models/weights.best.from_scratch.hdf5')"
   ],
   "outputs": [],
   "metadata": {
    "collapsed": true
   }
  },
  {
   "cell_type": "markdown",
   "source": [
    "### Test the Model\n",
    "\n",
    "Try out your model on the test dataset of dog images.  Ensure that your test accuracy is greater than 1%."
   ],
   "metadata": {}
  },
  {
   "cell_type": "code",
   "execution_count": 17,
   "source": [
    "# get index of predicted dog breed for each image in test set\r\n",
    "dog_breed_predictions = [np.argmax(model.predict(np.expand_dims(tensor, axis=0))) for tensor in test_tensors]\r\n",
    "\r\n",
    "# report test accuracy\r\n",
    "test_accuracy = 100*np.sum(np.array(dog_breed_predictions)==np.argmax(test_targets, axis=1))/len(dog_breed_predictions)\r\n",
    "print('Test accuracy: %.4f%%' % test_accuracy)"
   ],
   "outputs": [
    {
     "output_type": "stream",
     "name": "stdout",
     "text": [
      "Test accuracy: 0.9569%\n"
     ]
    }
   ],
   "metadata": {
    "collapsed": true
   }
  },
  {
   "cell_type": "markdown",
   "source": [
    "---\n",
    "<a id='step4'></a>\n",
    "## Step 4: Use a CNN to Classify Dog Breeds\n",
    "\n",
    "To reduce training time without sacrificing accuracy, we show you how to train a CNN using transfer learning.  In the following step, you will get a chance to use transfer learning to train your own CNN.\n",
    "\n",
    "### Obtain Bottleneck Features"
   ],
   "metadata": {}
  },
  {
   "cell_type": "code",
   "execution_count": 18,
   "source": [
    "bottleneck_features = np.load('bottleneck_features/DogVGG16Data.npz')\r\n",
    "train_VGG16 = bottleneck_features['train']\r\n",
    "valid_VGG16 = bottleneck_features['valid']\r\n",
    "test_VGG16 = bottleneck_features['test']"
   ],
   "outputs": [],
   "metadata": {
    "collapsed": true
   }
  },
  {
   "cell_type": "markdown",
   "source": [
    "### Model Architecture\n",
    "\n",
    "The model uses the the pre-trained VGG-16 model as a fixed feature extractor, where the last convolutional output of VGG-16 is fed as input to our model.  We only add a global average pooling layer and a fully connected layer, where the latter contains one node for each dog category and is equipped with a softmax."
   ],
   "metadata": {}
  },
  {
   "cell_type": "code",
   "execution_count": 19,
   "source": [
    "VGG16_model = Sequential()\r\n",
    "VGG16_model.add(GlobalAveragePooling2D(input_shape=train_VGG16.shape[1:]))\r\n",
    "VGG16_model.add(Dense(133, activation='softmax'))\r\n",
    "\r\n",
    "VGG16_model.summary()"
   ],
   "outputs": [
    {
     "output_type": "stream",
     "name": "stdout",
     "text": [
      "Model: \"sequential_1\"\n",
      "_________________________________________________________________\n",
      "Layer (type)                 Output Shape              Param #   \n",
      "=================================================================\n",
      "global_average_pooling2d_1 ( (None, 512)               0         \n",
      "_________________________________________________________________\n",
      "dense_2 (Dense)              (None, 133)               68229     \n",
      "=================================================================\n",
      "Total params: 68,229\n",
      "Trainable params: 68,229\n",
      "Non-trainable params: 0\n",
      "_________________________________________________________________\n"
     ]
    }
   ],
   "metadata": {
    "collapsed": true
   }
  },
  {
   "cell_type": "markdown",
   "source": [
    "### Compile the Model"
   ],
   "metadata": {}
  },
  {
   "cell_type": "code",
   "execution_count": 20,
   "source": [
    "VGG16_model.compile(loss='categorical_crossentropy', optimizer='rmsprop', metrics=['accuracy'])"
   ],
   "outputs": [],
   "metadata": {
    "collapsed": true
   }
  },
  {
   "cell_type": "markdown",
   "source": [
    "### Train the Model"
   ],
   "metadata": {}
  },
  {
   "cell_type": "code",
   "execution_count": 21,
   "source": [
    "checkpointer = ModelCheckpoint(filepath='saved_models/weights.best.VGG16.hdf5', \r\n",
    "                               verbose=1, save_best_only=True)\r\n",
    "\r\n",
    "VGG16_model.fit(train_VGG16, train_targets, \r\n",
    "          validation_data=(valid_VGG16, valid_targets),\r\n",
    "          epochs=20, batch_size=20, callbacks=[checkpointer], verbose=1)"
   ],
   "outputs": [
    {
     "output_type": "stream",
     "name": "stdout",
     "text": [
      "Epoch 1/20\n",
      "334/334 [==============================] - 2s 5ms/step - loss: 12.3683 - accuracy: 0.1083 - val_loss: 3.7662 - val_accuracy: 0.4048\n",
      "\n",
      "Epoch 00001: val_loss improved from inf to 3.76623, saving model to saved_models\\weights.best.VGG16.hdf5\n",
      "Epoch 2/20\n",
      "334/334 [==============================] - 1s 3ms/step - loss: 2.3142 - accuracy: 0.5689 - val_loss: 2.6514 - val_accuracy: 0.5521\n",
      "\n",
      "Epoch 00002: val_loss improved from 3.76623 to 2.65135, saving model to saved_models\\weights.best.VGG16.hdf5\n",
      "Epoch 3/20\n",
      "334/334 [==============================] - 1s 3ms/step - loss: 1.2127 - accuracy: 0.7335 - val_loss: 2.5973 - val_accuracy: 0.5988\n",
      "\n",
      "Epoch 00003: val_loss improved from 2.65135 to 2.59727, saving model to saved_models\\weights.best.VGG16.hdf5\n",
      "Epoch 4/20\n",
      "334/334 [==============================] - 1s 3ms/step - loss: 0.8151 - accuracy: 0.8089 - val_loss: 1.9723 - val_accuracy: 0.6659\n",
      "\n",
      "Epoch 00004: val_loss improved from 2.59727 to 1.97230, saving model to saved_models\\weights.best.VGG16.hdf5\n",
      "Epoch 5/20\n",
      "334/334 [==============================] - 1s 3ms/step - loss: 0.5259 - accuracy: 0.8658 - val_loss: 2.0573 - val_accuracy: 0.6719\n",
      "\n",
      "Epoch 00005: val_loss did not improve from 1.97230\n",
      "Epoch 6/20\n",
      "334/334 [==============================] - 1s 3ms/step - loss: 0.4150 - accuracy: 0.8949 - val_loss: 1.9984 - val_accuracy: 0.6802\n",
      "\n",
      "Epoch 00006: val_loss did not improve from 1.97230\n",
      "Epoch 7/20\n",
      "334/334 [==============================] - 1s 3ms/step - loss: 0.2619 - accuracy: 0.9258 - val_loss: 2.1274 - val_accuracy: 0.6826\n",
      "\n",
      "Epoch 00007: val_loss did not improve from 1.97230\n",
      "Epoch 8/20\n",
      "334/334 [==============================] - 1s 3ms/step - loss: 0.2082 - accuracy: 0.9401 - val_loss: 1.9658 - val_accuracy: 0.7054\n",
      "\n",
      "Epoch 00008: val_loss improved from 1.97230 to 1.96584, saving model to saved_models\\weights.best.VGG16.hdf5\n",
      "Epoch 9/20\n",
      "334/334 [==============================] - 1s 3ms/step - loss: 0.1344 - accuracy: 0.9592 - val_loss: 1.9915 - val_accuracy: 0.7138\n",
      "\n",
      "Epoch 00009: val_loss did not improve from 1.96584\n",
      "Epoch 10/20\n",
      "334/334 [==============================] - 1s 3ms/step - loss: 0.1044 - accuracy: 0.9668 - val_loss: 2.1280 - val_accuracy: 0.7090\n",
      "\n",
      "Epoch 00010: val_loss did not improve from 1.96584\n",
      "Epoch 11/20\n",
      "334/334 [==============================] - 1s 3ms/step - loss: 0.0686 - accuracy: 0.9785 - val_loss: 1.9588 - val_accuracy: 0.7126\n",
      "\n",
      "Epoch 00011: val_loss improved from 1.96584 to 1.95881, saving model to saved_models\\weights.best.VGG16.hdf5\n",
      "Epoch 12/20\n",
      "334/334 [==============================] - 1s 3ms/step - loss: 0.0722 - accuracy: 0.9793 - val_loss: 2.0616 - val_accuracy: 0.7186\n",
      "\n",
      "Epoch 00012: val_loss did not improve from 1.95881\n",
      "Epoch 13/20\n",
      "334/334 [==============================] - 1s 3ms/step - loss: 0.0553 - accuracy: 0.9810 - val_loss: 2.1413 - val_accuracy: 0.7186\n",
      "\n",
      "Epoch 00013: val_loss did not improve from 1.95881\n",
      "Epoch 14/20\n",
      "334/334 [==============================] - 1s 3ms/step - loss: 0.0409 - accuracy: 0.9882 - val_loss: 1.9795 - val_accuracy: 0.7281\n",
      "\n",
      "Epoch 00014: val_loss did not improve from 1.95881\n",
      "Epoch 15/20\n",
      "334/334 [==============================] - 1s 3ms/step - loss: 0.0397 - accuracy: 0.9868 - val_loss: 2.0429 - val_accuracy: 0.7269\n",
      "\n",
      "Epoch 00015: val_loss did not improve from 1.95881\n",
      "Epoch 16/20\n",
      "334/334 [==============================] - 1s 3ms/step - loss: 0.0283 - accuracy: 0.9907 - val_loss: 2.0902 - val_accuracy: 0.7293\n",
      "\n",
      "Epoch 00016: val_loss did not improve from 1.95881\n",
      "Epoch 17/20\n",
      "334/334 [==============================] - 1s 4ms/step - loss: 0.0314 - accuracy: 0.9917 - val_loss: 2.0871 - val_accuracy: 0.7150\n",
      "\n",
      "Epoch 00017: val_loss did not improve from 1.95881\n",
      "Epoch 18/20\n",
      "334/334 [==============================] - 1s 3ms/step - loss: 0.0209 - accuracy: 0.9944 - val_loss: 2.1141 - val_accuracy: 0.7257\n",
      "\n",
      "Epoch 00018: val_loss did not improve from 1.95881\n",
      "Epoch 19/20\n",
      "334/334 [==============================] - 1s 3ms/step - loss: 0.0209 - accuracy: 0.9942 - val_loss: 2.0892 - val_accuracy: 0.7281\n",
      "\n",
      "Epoch 00019: val_loss did not improve from 1.95881\n",
      "Epoch 20/20\n",
      "334/334 [==============================] - 1s 3ms/step - loss: 0.0163 - accuracy: 0.9950 - val_loss: 2.2125 - val_accuracy: 0.7329\n",
      "\n",
      "Epoch 00020: val_loss did not improve from 1.95881\n"
     ]
    },
    {
     "output_type": "execute_result",
     "data": {
      "text/plain": [
       "<keras.callbacks.History at 0x19c734a8eb0>"
      ]
     },
     "metadata": {},
     "execution_count": 21
    }
   ],
   "metadata": {
    "collapsed": true
   }
  },
  {
   "cell_type": "markdown",
   "source": [
    "### Load the Model with the Best Validation Loss"
   ],
   "metadata": {}
  },
  {
   "cell_type": "code",
   "execution_count": 22,
   "source": [
    "VGG16_model.load_weights('saved_models/weights.best.VGG16.hdf5')"
   ],
   "outputs": [],
   "metadata": {
    "collapsed": true
   }
  },
  {
   "cell_type": "markdown",
   "source": [
    "### Test the Model\n",
    "\n",
    "Now, we can use the CNN to test how well it identifies breed within our test dataset of dog images.  We print the test accuracy below."
   ],
   "metadata": {}
  },
  {
   "cell_type": "code",
   "execution_count": 23,
   "source": [
    "# get index of predicted dog breed for each image in test set\r\n",
    "VGG16_predictions = [np.argmax(VGG16_model.predict(np.expand_dims(feature, axis=0))) for feature in test_VGG16]\r\n",
    "\r\n",
    "# report test accuracy\r\n",
    "test_accuracy = 100*np.sum(np.array(VGG16_predictions)==np.argmax(test_targets, axis=1))/len(VGG16_predictions)\r\n",
    "print('Test accuracy: %.4f%%' % test_accuracy)"
   ],
   "outputs": [
    {
     "output_type": "stream",
     "name": "stdout",
     "text": [
      "Test accuracy: 72.4880%\n"
     ]
    }
   ],
   "metadata": {
    "collapsed": true
   }
  },
  {
   "cell_type": "markdown",
   "source": [
    "### Predict Dog Breed with the Model"
   ],
   "metadata": {}
  },
  {
   "cell_type": "code",
   "execution_count": 24,
   "source": [
    "from extract_bottleneck_features import *\r\n",
    "\r\n",
    "def VGG16_predict_breed(img_path):\r\n",
    "    # extract bottleneck features\r\n",
    "    bottleneck_feature = extract_VGG16(path_to_tensor(img_path))\r\n",
    "    # obtain predicted vector\r\n",
    "    predicted_vector = VGG16_model.predict(bottleneck_feature)\r\n",
    "    # return dog breed that is predicted by the model\r\n",
    "    return dog_names[np.argmax(predicted_vector)]"
   ],
   "outputs": [],
   "metadata": {
    "collapsed": true
   }
  },
  {
   "cell_type": "markdown",
   "source": [
    "---\r\n",
    "<a id='step5'></a>\r\n",
    "## Step 5: Create a CNN to Classify Dog Breeds (using Transfer Learning)\r\n",
    "\r\n",
    "You will now use transfer learning to create a CNN that can identify dog breed from images.  Your CNN must attain at least 60% accuracy on the test set.\r\n",
    "\r\n",
    "In Step 4, we used transfer learning to create a CNN using VGG-16 bottleneck features.  In this section, you must use the bottleneck features from a different pre-trained model.  To make things easier for you, we have pre-computed the features for all of the networks that are currently available in Keras:\r\n",
    "- [VGG-19](https://s3-us-west-1.amazonaws.com/udacity-aind/dog-project/DogVGG19Data.npz) bottleneck features\r\n",
    "- [ResNet-50](https://s3-us-west-1.amazonaws.com/udacity-aind/dog-project/DogResnet50Data.npz) bottleneck features\r\n",
    "- [Inception](https://s3-us-west-1.amazonaws.com/udacity-aind/dog-project/DogInceptionV3Data.npz) bottleneck features\r\n",
    "- [Xception](https://s3-us-west-1.amazonaws.com/udacity-aind/dog-project/DogXceptionData.npz) bottleneck features\r\n",
    "\r\n",
    "The files are encoded as such:\r\n",
    "\r\n",
    "    Dog{network}Data.npz\r\n",
    "    \r\n",
    "where `{network}`, in the above filename, can be one of `VGG19`, `Resnet50`, `InceptionV3`, or `Xception`.  Pick one of the above architectures, download the corresponding bottleneck features, and store the downloaded file in the `bottleneck_features/` folder in the repository.\r\n",
    "\r\n",
    "### (IMPLEMENTATION) Obtain Bottleneck Features\r\n",
    "\r\n",
    "In the code block below, extract the bottleneck features corresponding to the train, test, and validation sets by running the following:\r\n",
    "\r\n",
    "    bottleneck_features = np.load('bottleneck_features/Dog{network}Data.npz')\r\n",
    "    train_{network} = bottleneck_features['train']\r\n",
    "    valid_{network} = bottleneck_features['valid']\r\n",
    "    test_{network} = bottleneck_features['test']"
   ],
   "metadata": {}
  },
  {
   "cell_type": "code",
   "execution_count": 25,
   "source": [
    "bottleneck_featuresInceptionV3 = np.load('bottleneck_features/DogInceptionV3Data.npz')\r\n",
    "train_InceptionV3 = bottleneck_featuresInceptionV3['train']\r\n",
    "valid_InceptionV3 = bottleneck_featuresInceptionV3['valid']\r\n",
    "test_InceptionV3 = bottleneck_featuresInceptionV3['test']"
   ],
   "outputs": [],
   "metadata": {
    "collapsed": true
   }
  },
  {
   "cell_type": "markdown",
   "source": [
    "### (IMPLEMENTATION) Model Architecture\r\n",
    "\r\n",
    "Create a CNN to classify dog breed.\r\n"
   ],
   "metadata": {}
  },
  {
   "cell_type": "code",
   "execution_count": 36,
   "source": [
    "Inception_model = Sequential()\r\n",
    "Inception_model.add(GlobalAveragePooling2D(input_shape=train_InceptionV3.shape[1:]))\r\n",
    "# Inception_model.add(Dense(512, activation=\"relu\"))\r\n",
    "Inception_model.add(Dense(256, activation=\"relu\"))\r\n",
    "Inception_model.add(Dense(133, activation='softmax'))\r\n",
    "\r\n",
    "Inception_model.summary()"
   ],
   "outputs": [
    {
     "output_type": "stream",
     "name": "stdout",
     "text": [
      "Model: \"sequential_4\"\n",
      "_________________________________________________________________\n",
      "Layer (type)                 Output Shape              Param #   \n",
      "=================================================================\n",
      "global_average_pooling2d_3 ( (None, 2048)              0         \n",
      "_________________________________________________________________\n",
      "dense_9 (Dense)              (None, 256)               524544    \n",
      "_________________________________________________________________\n",
      "dense_10 (Dense)             (None, 133)               34181     \n",
      "=================================================================\n",
      "Total params: 558,725\n",
      "Trainable params: 558,725\n",
      "Non-trainable params: 0\n",
      "_________________________________________________________________\n"
     ]
    }
   ],
   "metadata": {
    "collapsed": true
   }
  },
  {
   "cell_type": "markdown",
   "source": [
    "### (IMPLEMENTATION) Compile the Model"
   ],
   "metadata": {}
  },
  {
   "cell_type": "code",
   "execution_count": 37,
   "source": [
    "Inception_model.compile(loss='categorical_crossentropy', optimizer='rmsprop', metrics=['accuracy'])"
   ],
   "outputs": [],
   "metadata": {
    "collapsed": true
   }
  },
  {
   "cell_type": "markdown",
   "source": [
    "### (IMPLEMENTATION) Train the Model\r\n",
    "Using model checkpointing to save the model that attains the best validation loss.  \r\n",
    "To [augment the training data](https://blog.keras.io/building-powerful-image-classification-models-using-very-little-data.html), but this is not a requirement. "
   ],
   "metadata": {}
  },
  {
   "cell_type": "code",
   "execution_count": 38,
   "source": [
    "checkpointer = ModelCheckpoint(filepath='saved_models/weights.best.Inception.hdf5', \r\n",
    "                               verbose=1, save_best_only=True)\r\n",
    "\r\n",
    "Inception_model.fit(train_InceptionV3, train_targets, \r\n",
    "          validation_data=(valid_InceptionV3, valid_targets),\r\n",
    "          epochs=20, batch_size=20, callbacks=[checkpointer], verbose=1)"
   ],
   "outputs": [
    {
     "output_type": "stream",
     "name": "stdout",
     "text": [
      "Epoch 1/20\n",
      "334/334 [==============================] - 2s 5ms/step - loss: 2.2770 - accuracy: 0.5172 - val_loss: 0.6356 - val_accuracy: 0.8263\n",
      "\n",
      "Epoch 00001: val_loss improved from inf to 0.63561, saving model to saved_models\\weights.best.Inception.hdf5\n",
      "Epoch 2/20\n",
      "334/334 [==============================] - 1s 4ms/step - loss: 0.5835 - accuracy: 0.8186 - val_loss: 0.7751 - val_accuracy: 0.7976\n",
      "\n",
      "Epoch 00002: val_loss did not improve from 0.63561\n",
      "Epoch 3/20\n",
      "334/334 [==============================] - 1s 4ms/step - loss: 0.4187 - accuracy: 0.8656 - val_loss: 0.7744 - val_accuracy: 0.8156\n",
      "\n",
      "Epoch 00003: val_loss did not improve from 0.63561\n",
      "Epoch 4/20\n",
      "334/334 [==============================] - 1s 4ms/step - loss: 0.3374 - accuracy: 0.8883 - val_loss: 0.9181 - val_accuracy: 0.8204\n",
      "\n",
      "Epoch 00004: val_loss did not improve from 0.63561\n",
      "Epoch 5/20\n",
      "334/334 [==============================] - 2s 5ms/step - loss: 0.2416 - accuracy: 0.9209 - val_loss: 0.8528 - val_accuracy: 0.8192\n",
      "\n",
      "Epoch 00005: val_loss did not improve from 0.63561\n",
      "Epoch 6/20\n",
      "334/334 [==============================] - 1s 4ms/step - loss: 0.2074 - accuracy: 0.9282 - val_loss: 0.9498 - val_accuracy: 0.8180\n",
      "\n",
      "Epoch 00006: val_loss did not improve from 0.63561\n",
      "Epoch 7/20\n",
      "334/334 [==============================] - 1s 4ms/step - loss: 0.1982 - accuracy: 0.9357 - val_loss: 0.9761 - val_accuracy: 0.8407\n",
      "\n",
      "Epoch 00007: val_loss did not improve from 0.63561\n",
      "Epoch 8/20\n",
      "334/334 [==============================] - 1s 4ms/step - loss: 0.1695 - accuracy: 0.9458 - val_loss: 1.2207 - val_accuracy: 0.8072\n",
      "\n",
      "Epoch 00008: val_loss did not improve from 0.63561\n",
      "Epoch 9/20\n",
      "334/334 [==============================] - 1s 4ms/step - loss: 0.1444 - accuracy: 0.9527 - val_loss: 1.3732 - val_accuracy: 0.8168\n",
      "\n",
      "Epoch 00009: val_loss did not improve from 0.63561\n",
      "Epoch 10/20\n",
      "334/334 [==============================] - 1s 4ms/step - loss: 0.1320 - accuracy: 0.9583 - val_loss: 1.2088 - val_accuracy: 0.8323\n",
      "\n",
      "Epoch 00010: val_loss did not improve from 0.63561\n",
      "Epoch 11/20\n",
      "334/334 [==============================] - 1s 4ms/step - loss: 0.1144 - accuracy: 0.9640 - val_loss: 1.3628 - val_accuracy: 0.8323\n",
      "\n",
      "Epoch 00011: val_loss did not improve from 0.63561\n",
      "Epoch 12/20\n",
      "334/334 [==============================] - 1s 4ms/step - loss: 0.0960 - accuracy: 0.9687 - val_loss: 1.2938 - val_accuracy: 0.8563\n",
      "\n",
      "Epoch 00012: val_loss did not improve from 0.63561\n",
      "Epoch 13/20\n",
      "334/334 [==============================] - 1s 4ms/step - loss: 0.0811 - accuracy: 0.9769 - val_loss: 1.5265 - val_accuracy: 0.8096\n",
      "\n",
      "Epoch 00013: val_loss did not improve from 0.63561\n",
      "Epoch 14/20\n",
      "334/334 [==============================] - 1s 4ms/step - loss: 0.0855 - accuracy: 0.9740 - val_loss: 1.4516 - val_accuracy: 0.8383\n",
      "\n",
      "Epoch 00014: val_loss did not improve from 0.63561\n",
      "Epoch 15/20\n",
      "334/334 [==============================] - 1s 4ms/step - loss: 0.0773 - accuracy: 0.9789 - val_loss: 1.5180 - val_accuracy: 0.8383\n",
      "\n",
      "Epoch 00015: val_loss did not improve from 0.63561\n",
      "Epoch 16/20\n",
      "334/334 [==============================] - 1s 4ms/step - loss: 0.0800 - accuracy: 0.9799 - val_loss: 1.5911 - val_accuracy: 0.8371\n",
      "\n",
      "Epoch 00016: val_loss did not improve from 0.63561\n",
      "Epoch 17/20\n",
      "334/334 [==============================] - 1s 4ms/step - loss: 0.0820 - accuracy: 0.9805 - val_loss: 1.4560 - val_accuracy: 0.8443\n",
      "\n",
      "Epoch 00017: val_loss did not improve from 0.63561\n",
      "Epoch 18/20\n",
      "334/334 [==============================] - 1s 4ms/step - loss: 0.0581 - accuracy: 0.9828 - val_loss: 1.7095 - val_accuracy: 0.8275\n",
      "\n",
      "Epoch 00018: val_loss did not improve from 0.63561\n",
      "Epoch 19/20\n",
      "334/334 [==============================] - 1s 4ms/step - loss: 0.0701 - accuracy: 0.9793 - val_loss: 1.6140 - val_accuracy: 0.8323\n",
      "\n",
      "Epoch 00019: val_loss did not improve from 0.63561\n",
      "Epoch 20/20\n",
      "334/334 [==============================] - 1s 4ms/step - loss: 0.0535 - accuracy: 0.9846 - val_loss: 1.6041 - val_accuracy: 0.8551\n",
      "\n",
      "Epoch 00020: val_loss did not improve from 0.63561\n"
     ]
    },
    {
     "output_type": "execute_result",
     "data": {
      "text/plain": [
       "<keras.callbacks.History at 0x19c735d89d0>"
      ]
     },
     "metadata": {},
     "execution_count": 38
    }
   ],
   "metadata": {
    "collapsed": true
   }
  },
  {
   "cell_type": "markdown",
   "source": [
    "### (IMPLEMENTATION) Load the Model with the Best Validation Loss"
   ],
   "metadata": {}
  },
  {
   "cell_type": "code",
   "execution_count": 39,
   "source": [
    "Inception_model.load_weights('saved_models/weights.best.Inception.hdf5')"
   ],
   "outputs": [],
   "metadata": {
    "collapsed": true
   }
  },
  {
   "cell_type": "markdown",
   "source": [
    "### (IMPLEMENTATION) Test the Model\r\n",
    "\r\n",
    "Trying the test dataset of dog images."
   ],
   "metadata": {}
  },
  {
   "cell_type": "code",
   "execution_count": 40,
   "source": [
    "# get index of predicted dog breed for each image in test set\r\n",
    "Inception_predictions = [np.argmax(Inception_model.predict(np.expand_dims(feature, axis=0))) for feature in test_InceptionV3]\r\n",
    "\r\n",
    "# report test accuracy\r\n",
    "test_accuracy = 100*np.sum(np.array(Inception_predictions)==np.argmax(test_targets, axis=1))/len(Inception_predictions)\r\n",
    "print('Test accuracy: %.4f%%' % test_accuracy)"
   ],
   "outputs": [
    {
     "output_type": "stream",
     "name": "stdout",
     "text": [
      "Test accuracy: 77.0335%\n"
     ]
    }
   ],
   "metadata": {
    "collapsed": true
   }
  },
  {
   "cell_type": "markdown",
   "source": [
    "### (IMPLEMENTATION) Predict Dog Breed with the Model\r\n",
    "\r\n",
    "A function that takes an image path as input and returns the dog breed (`Affenpinscher`, `Afghan_hound`, etc) that is predicted by your model.  "
   ],
   "metadata": {}
  },
  {
   "cell_type": "code",
   "execution_count": 42,
   "source": [
    "def Inception_predict_breed(img_path):\r\n",
    "    # extract bottleneck features\r\n",
    "    bottleneck_feature = extract_InceptionV3(path_to_tensor(img_path))\r\n",
    "    # obtain predicted vector\r\n",
    "    predicted_vector = Inception_model.predict(bottleneck_feature)\r\n",
    "    # return dog breed that is predicted by the model\r\n",
    "    return dog_names[np.argmax(predicted_vector)]"
   ],
   "outputs": [],
   "metadata": {
    "collapsed": true
   }
  },
  {
   "cell_type": "code",
   "execution_count": null,
   "source": [],
   "outputs": [],
   "metadata": {}
  }
 ],
 "metadata": {
  "anaconda-cloud": {},
  "kernelspec": {
   "name": "python3",
   "display_name": "Python 3.9.7 64-bit"
  },
  "language_info": {
   "codemirror_mode": {
    "name": "ipython",
    "version": 3
   },
   "file_extension": ".py",
   "mimetype": "text/x-python",
   "name": "python",
   "nbconvert_exporter": "python",
   "pygments_lexer": "ipython3",
   "version": "3.9.7"
  },
  "interpreter": {
   "hash": "f1058ac39a4b5cc6a2d664bf07a90cc7a0b869b1d28e3e4a0289bda448411850"
  }
 },
 "nbformat": 4,
 "nbformat_minor": 1
}