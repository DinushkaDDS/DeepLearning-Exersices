{
 "cells": [
  {
   "cell_type": "markdown",
   "source": [
    "# Sentiment Analysis with an RNN\n",
    "\n",
    "In this notebook, you'll implement a recurrent neural network that performs sentiment analysis. Using an RNN rather than a feedfoward network is more accurate since we can include information about the *sequence* of words. Here we'll use a dataset of movie reviews, accompanied by labels.\n",
    "\n",
    "The architecture for this network is shown below.\n",
    "\n",
    "<img src=\"assets/network_diagram.png\" width=400px>\n",
    "\n",
    "Here, we'll pass in words to an embedding layer. We need an embedding layer because we have tens of thousands of words, so we'll need a more efficient representation for our input data than one-hot encoded vectors. You should have seen this before from the word2vec lesson. You can actually train up an embedding with word2vec and use it here. But it's good enough to just have an embedding layer and let the network learn the embedding table on it's own.\n",
    "\n",
    "From the embedding layer, the new representations will be passed to LSTM cells. These will add recurrent connections to the network so we can include information about the sequence of words in the data. Finally, the LSTM cells will go to a sigmoid output layer here. We're using the sigmoid because we're trying to predict if this text has positive or negative sentiment. The output layer will just be a single unit then, with a sigmoid activation function.\n",
    "\n",
    "We don't care about the sigmoid outputs except for the very last one, we can ignore the rest. We'll calculate the cost from the output of the last step and the training label."
   ],
   "metadata": {}
  },
  {
   "cell_type": "code",
   "execution_count": 1,
   "source": [
    "import numpy as np\r\n",
    "import tensorflow as tf"
   ],
   "outputs": [],
   "metadata": {
    "collapsed": true
   }
  },
  {
   "cell_type": "code",
   "execution_count": 2,
   "source": [
    "with open('reviews.txt', 'r') as f:\r\n",
    "    reviews = f.read()\r\n",
    "with open('labels.txt', 'r') as f:\r\n",
    "    labels = f.read()"
   ],
   "outputs": [],
   "metadata": {
    "collapsed": true
   }
  },
  {
   "cell_type": "code",
   "execution_count": 3,
   "source": [
    "reviews[:2000]"
   ],
   "outputs": [
    {
     "output_type": "execute_result",
     "data": {
      "text/plain": [
       "'bromwell high is a cartoon comedy . it ran at the same time as some other programs about school life  such as  teachers  . my   years in the teaching profession lead me to believe that bromwell high  s satire is much closer to reality than is  teachers  . the scramble to survive financially  the insightful students who can see right through their pathetic teachers  pomp  the pettiness of the whole situation  all remind me of the schools i knew and their students . when i saw the episode in which a student repeatedly tried to burn down the school  i immediately recalled . . . . . . . . . at . . . . . . . . . . high . a classic line inspector i  m here to sack one of your teachers . student welcome to bromwell high . i expect that many adults of my age think that bromwell high is far fetched . what a pity that it isn  t   \\nstory of a man who has unnatural feelings for a pig . starts out with a opening scene that is a terrific example of absurd comedy . a formal orchestra audience is turned into an insane  violent mob by the crazy chantings of it  s singers . unfortunately it stays absurd the whole time with no general narrative eventually making it just too off putting . even those from the era should be turned off . the cryptic dialogue would make shakespeare seem easy to a third grader . on a technical level it  s better than you might think with some good cinematography by future great vilmos zsigmond . future stars sally kirkland and frederic forrest can be seen briefly .  \\nhomelessness  or houselessness as george carlin stated  has been an issue for years but never a plan to help those on the street that were once considered human who did everything from going to school  work  or vote for the matter . most people think of the homeless as just a lost cause while worrying about things such as racism  the war on iraq  pressuring kids to succeed  technology  the elections  inflation  or worrying if they  ll be next to end up on the streets .  br    br   but what if y'"
      ]
     },
     "metadata": {},
     "execution_count": 3
    }
   ],
   "metadata": {}
  },
  {
   "cell_type": "markdown",
   "source": [
    "## Data preprocessing\n",
    "\n",
    "The first step when building a neural network model is getting your data into the proper form to feed into the network. Since we're using embedding layers, we'll need to encode each word with an integer. We'll also want to clean it up a bit.\n",
    "\n",
    "You can see an example of the reviews data above. We'll want to get rid of those periods. Also, you might notice that the reviews are delimited with newlines `\\n`. To deal with those, I'm going to split the text into each review using `\\n` as the delimiter. Then I can combined all the reviews back together into one big string.\n",
    "\n",
    "First, let's remove all punctuation. Then get all the text without the newlines and split it into individual words."
   ],
   "metadata": {}
  },
  {
   "cell_type": "code",
   "execution_count": 4,
   "source": [
    "from string import punctuation\r\n",
    "all_text = ''.join([c for c in reviews if c not in punctuation])\r\n",
    "reviews = all_text.split('\\n')\r\n",
    "\r\n",
    "all_text = ' '.join(reviews)\r\n",
    "words = all_text.split()"
   ],
   "outputs": [],
   "metadata": {
    "collapsed": true
   }
  },
  {
   "cell_type": "code",
   "execution_count": 5,
   "source": [
    "all_text[:2000]"
   ],
   "outputs": [
    {
     "output_type": "execute_result",
     "data": {
      "text/plain": [
       "'bromwell high is a cartoon comedy  it ran at the same time as some other programs about school life  such as  teachers   my   years in the teaching profession lead me to believe that bromwell high  s satire is much closer to reality than is  teachers   the scramble to survive financially  the insightful students who can see right through their pathetic teachers  pomp  the pettiness of the whole situation  all remind me of the schools i knew and their students  when i saw the episode in which a student repeatedly tried to burn down the school  i immediately recalled          at           high  a classic line inspector i  m here to sack one of your teachers  student welcome to bromwell high  i expect that many adults of my age think that bromwell high is far fetched  what a pity that it isn  t    story of a man who has unnatural feelings for a pig  starts out with a opening scene that is a terrific example of absurd comedy  a formal orchestra audience is turned into an insane  violent mob by the crazy chantings of it  s singers  unfortunately it stays absurd the whole time with no general narrative eventually making it just too off putting  even those from the era should be turned off  the cryptic dialogue would make shakespeare seem easy to a third grader  on a technical level it  s better than you might think with some good cinematography by future great vilmos zsigmond  future stars sally kirkland and frederic forrest can be seen briefly    homelessness  or houselessness as george carlin stated  has been an issue for years but never a plan to help those on the street that were once considered human who did everything from going to school  work  or vote for the matter  most people think of the homeless as just a lost cause while worrying about things such as racism  the war on iraq  pressuring kids to succeed  technology  the elections  inflation  or worrying if they  ll be next to end up on the streets   br    br   but what if you were given a bet to live on the st'"
      ]
     },
     "metadata": {},
     "execution_count": 5
    }
   ],
   "metadata": {}
  },
  {
   "cell_type": "code",
   "execution_count": 6,
   "source": [
    "words[:100]"
   ],
   "outputs": [
    {
     "output_type": "execute_result",
     "data": {
      "text/plain": [
       "['bromwell',\n",
       " 'high',\n",
       " 'is',\n",
       " 'a',\n",
       " 'cartoon',\n",
       " 'comedy',\n",
       " 'it',\n",
       " 'ran',\n",
       " 'at',\n",
       " 'the',\n",
       " 'same',\n",
       " 'time',\n",
       " 'as',\n",
       " 'some',\n",
       " 'other',\n",
       " 'programs',\n",
       " 'about',\n",
       " 'school',\n",
       " 'life',\n",
       " 'such',\n",
       " 'as',\n",
       " 'teachers',\n",
       " 'my',\n",
       " 'years',\n",
       " 'in',\n",
       " 'the',\n",
       " 'teaching',\n",
       " 'profession',\n",
       " 'lead',\n",
       " 'me',\n",
       " 'to',\n",
       " 'believe',\n",
       " 'that',\n",
       " 'bromwell',\n",
       " 'high',\n",
       " 's',\n",
       " 'satire',\n",
       " 'is',\n",
       " 'much',\n",
       " 'closer',\n",
       " 'to',\n",
       " 'reality',\n",
       " 'than',\n",
       " 'is',\n",
       " 'teachers',\n",
       " 'the',\n",
       " 'scramble',\n",
       " 'to',\n",
       " 'survive',\n",
       " 'financially',\n",
       " 'the',\n",
       " 'insightful',\n",
       " 'students',\n",
       " 'who',\n",
       " 'can',\n",
       " 'see',\n",
       " 'right',\n",
       " 'through',\n",
       " 'their',\n",
       " 'pathetic',\n",
       " 'teachers',\n",
       " 'pomp',\n",
       " 'the',\n",
       " 'pettiness',\n",
       " 'of',\n",
       " 'the',\n",
       " 'whole',\n",
       " 'situation',\n",
       " 'all',\n",
       " 'remind',\n",
       " 'me',\n",
       " 'of',\n",
       " 'the',\n",
       " 'schools',\n",
       " 'i',\n",
       " 'knew',\n",
       " 'and',\n",
       " 'their',\n",
       " 'students',\n",
       " 'when',\n",
       " 'i',\n",
       " 'saw',\n",
       " 'the',\n",
       " 'episode',\n",
       " 'in',\n",
       " 'which',\n",
       " 'a',\n",
       " 'student',\n",
       " 'repeatedly',\n",
       " 'tried',\n",
       " 'to',\n",
       " 'burn',\n",
       " 'down',\n",
       " 'the',\n",
       " 'school',\n",
       " 'i',\n",
       " 'immediately',\n",
       " 'recalled',\n",
       " 'at',\n",
       " 'high']"
      ]
     },
     "metadata": {},
     "execution_count": 6
    }
   ],
   "metadata": {}
  },
  {
   "cell_type": "markdown",
   "source": [
    "### Encoding the words\r\n",
    "\r\n",
    "The embedding lookup requires that we pass in integers to our network. The easiest way to do this is to create dictionaries that map the words in the vocabulary to integers. Then we can convert each of our reviews into integers so they can be passed into the network."
   ],
   "metadata": {}
  },
  {
   "cell_type": "code",
   "execution_count": 7,
   "source": [
    "# Create your dictionary that maps vocab words to integers here\r\n",
    "uniqueWords = set(words)\r\n",
    "vocab_to_int = {val:i+1 for i, val in enumerate(uniqueWords)}\r\n",
    "\r\n",
    "# Convert the reviews to integers, same shape as reviews list, but with integers\r\n",
    "reviews_ints = [[vocab_to_int[w] for w in k.split()] for k in reviews]"
   ],
   "outputs": [],
   "metadata": {
    "collapsed": true
   }
  },
  {
   "cell_type": "code",
   "execution_count": 8,
   "source": [
    "len(uniqueWords)"
   ],
   "outputs": [
    {
     "output_type": "execute_result",
     "data": {
      "text/plain": [
       "74072"
      ]
     },
     "metadata": {},
     "execution_count": 8
    }
   ],
   "metadata": {}
  },
  {
   "cell_type": "markdown",
   "source": [
    "### Encoding the labels\r\n",
    "\r\n",
    "Our labels are \"positive\" or \"negative\". To use these labels in our network, we need to convert them to 0 and 1."
   ],
   "metadata": {}
  },
  {
   "cell_type": "code",
   "execution_count": 9,
   "source": [
    "# Convert labels to 1s and 0s for 'positive' and 'negative'\r\n",
    "labels = [1 if val==\"positive\" else 0 for val in labels.split(\"\\n\")]"
   ],
   "outputs": [],
   "metadata": {
    "collapsed": true
   }
  },
  {
   "cell_type": "markdown",
   "source": [
    "If you built `labels` correctly, you should see the next output."
   ],
   "metadata": {}
  },
  {
   "cell_type": "code",
   "execution_count": 10,
   "source": [
    "from collections import Counter\r\n",
    "review_lens = Counter([len(x) for x in reviews_ints])\r\n",
    "print(\"Zero-length reviews: {}\".format(review_lens[0]))\r\n",
    "print(\"Maximum review length: {}\".format(max(review_lens)))"
   ],
   "outputs": [
    {
     "output_type": "stream",
     "name": "stdout",
     "text": [
      "Zero-length reviews: 1\n",
      "Maximum review length: 2514\n"
     ]
    }
   ],
   "metadata": {}
  },
  {
   "cell_type": "markdown",
   "source": [
    "Okay, a couple issues here. We seem to have one review with zero length. And, the maximum review length is way too many steps for our RNN. Let's truncate to 200 steps. For reviews shorter than 200, we'll pad with 0s. For reviews longer than 200, we can truncate them to the first 200 words."
   ],
   "metadata": {}
  },
  {
   "cell_type": "code",
   "execution_count": 11,
   "source": [
    "# Filter out that review with 0 length\r\n",
    "nonZeroIndeces = []\r\n",
    "for i, review in enumerate(reviews_ints):\r\n",
    "    if(len(review)!=0):\r\n",
    "        nonZeroIndeces.append(i)\r\n",
    "\r\n",
    "reviews_ints = [reviews_ints[i] for i in nonZeroIndeces]\r\n",
    "labels = [[labels[i]] for i in nonZeroIndeces]"
   ],
   "outputs": [],
   "metadata": {
    "collapsed": true
   }
  },
  {
   "cell_type": "code",
   "execution_count": 12,
   "source": [
    "seq_len = 200\r\n",
    "features = []\r\n",
    "for review in reviews_ints:\r\n",
    "    if(len(review)>seq_len):\r\n",
    "        features.append(review[:seq_len])\r\n",
    "    else:\r\n",
    "        features.append([0]*(seq_len-len(review))+review)\r\n",
    "\r\n",
    "features = np.array(features)"
   ],
   "outputs": [],
   "metadata": {
    "collapsed": true
   }
  },
  {
   "cell_type": "markdown",
   "source": [
    "If you build features correctly, it should look like that cell output below."
   ],
   "metadata": {}
  },
  {
   "cell_type": "code",
   "execution_count": 13,
   "source": [
    "features[:10,:100]"
   ],
   "outputs": [
    {
     "output_type": "execute_result",
     "data": {
      "text/plain": [
       "array([[    0,     0,     0,     0,     0,     0,     0,     0,     0,\n",
       "            0,     0,     0,     0,     0,     0,     0,     0,     0,\n",
       "            0,     0,     0,     0,     0,     0,     0,     0,     0,\n",
       "            0,     0,     0,     0,     0,     0,     0,     0,     0,\n",
       "            0,     0,     0,     0,     0,     0,     0,     0,     0,\n",
       "            0,     0,     0,     0,     0,     0,     0,     0,     0,\n",
       "            0,     0,     0,     0,     0,     0, 38204, 57019, 57862,\n",
       "         5730, 12185, 16267, 62442, 23812, 14853, 15010,  9741, 29041,\n",
       "         2426, 66797, 44939, 46332, 42709, 59573,  7774, 15555,  2426,\n",
       "        30990, 42657, 25686, 42500, 15010,   619, 65720, 50545, 63435,\n",
       "         7023, 13706,  2471, 38204, 57019, 37947, 22497, 57862, 46439,\n",
       "        59965],\n",
       "       [    0,     0,     0,     0,     0,     0,     0,     0,     0,\n",
       "            0,     0,     0,     0,     0,     0,     0,     0,     0,\n",
       "            0,     0,     0,     0,     0,     0,     0,     0,     0,\n",
       "            0,     0,     0,     0,     0,     0,     0,     0,     0,\n",
       "            0,     0,     0,     0,     0,     0,     0,     0,     0,\n",
       "            0,     0,     0,     0,     0,     0,     0,     0,     0,\n",
       "            0,     0,     0,     0,     0,     0,     0,     0,     0,\n",
       "            0,     0,     0,     0,     0,     0,     0,     0,     0,\n",
       "            0,     0,     0,     0,     0,     0,     0,     0,     0,\n",
       "            0,     0,     0,     0,     0, 23447, 60169,  5730, 50288,\n",
       "        18647, 34389, 24256, 26788,  1898,  5730, 19685,  2068, 12155,\n",
       "        47674],\n",
       "       [58406, 61326, 44197,  2426, 52493, 56496, 44842, 34389,  5858,\n",
       "         1405, 53055,  1898, 25686,  2912, 34232,  5730, 40408,  7023,\n",
       "         4809, 64306, 31609, 15010, 14862,  2471,  1920, 54861, 63381,\n",
       "        35985, 18647, 46259, 67822,  5986,  1960,  7023, 59573,  2143,\n",
       "        61326, 37306,  1898, 15010, 35553, 52157, 70388, 68019, 60169,\n",
       "        15010, 70027,  2426, 40903,  5730,  1443, 51750, 12759, 70532,\n",
       "        42709, 72051, 15555,  2426, 21022, 15010, 33781, 31609, 65166,\n",
       "         8542, 18149,  7023, 16965, 47126, 15010, 70383, 56131, 61326,\n",
       "        70532,  2753,  1132, 25313, 48137, 40017,  7023, 44729, 45569,\n",
       "        31609, 15010, 48684, 39057, 39057,  2912,  8861,  2753, 14611,\n",
       "         1920, 27780,  5730, 69622,  7023, 71401, 31609, 15010, 48684,\n",
       "         1898],\n",
       "       [12556,  2068,  2426,  5730, 44139, 24212, 49951, 71545, 57862,\n",
       "         1702, 45569, 47674, 28080, 38000, 15555, 33671,  7023, 57179,\n",
       "        54453, 37343, 48143, 37953, 47232, 18647, 57862, 64991, 53421,\n",
       "         5730,  6435, 60169, 60621, 37947,  7023, 46449, 39518, 42500,\n",
       "         2492, 60169, 62442, 56964, 51158,  7023, 15010,  1924,  2426,\n",
       "         5730, 36498, 70535, 31609,   355, 57862, 48143, 13021,  3837,\n",
       "        13876, 51551,  1123, 62121, 15010, 49951, 56232, 17752, 58743,\n",
       "         2426, 10282,  2912, 61443, 26012, 15010, 71545, 57862, 10824,\n",
       "        64715,  5984, 15010, 68058,   638,  7337,  4591,  2789, 46449,\n",
       "        27723,  1819, 37947, 26598, 52791, 39579, 51021, 45826,   291,\n",
       "        18647, 22266, 15010, 44269, 32520, 12155, 47674, 73614, 49470,\n",
       "         1132],\n",
       "       [    0,     0,     0,     0,     0,     0,     0,     0,     0,\n",
       "            0,     0,     0,     0,     0,     0,     0,     0,     0,\n",
       "            0,     0,     0,     0,     0,     0,     0,     0,     0,\n",
       "            0,     0,     0,     0,     0,     0,     0,     0,     0,\n",
       "            0,     0,     0,     0,     0,     0,     0,     0,     0,\n",
       "            0,     0,     0,     0,     0, 41191, 50736, 63986,  5984,\n",
       "        32364, 19295, 41000, 65437, 21634, 33872,   897, 63479, 51922,\n",
       "        72555, 64978, 24624, 28763, 61480, 42500,  3229, 12385, 50696,\n",
       "        60796,  7023, 33778, 15010, 59431, 31609,  5391, 57862,  5730,\n",
       "        44307,  2426, 19262,  2426, 39014, 42500, 20142, 48051, 15010,\n",
       "        16822, 31609, 63352, 57862, 70535, 45056, 28682, 56964, 38640,\n",
       "        60169],\n",
       "       [    0,     0,     0,     0,     0,     0,     0,     0,     0,\n",
       "            0,     0,     0,     0,     0,     0,     0,     0,     0,\n",
       "            0,     0,     0,     0,     0,     0,     0,     0,     0,\n",
       "            0,     0,     0,     0,     0,     0,     0,     0,     0,\n",
       "            0,     0,     0,     0,     0,     0,     0,     0,     0,\n",
       "            0,     0,     0,     0,     0,     0,     0,     0,     0,\n",
       "        41163,  4328, 50690, 19707, 63479, 47452, 38335, 64393, 42657,\n",
       "        51439, 31609, 14853, 57612, 40866, 31609, 15010, 71692, 60169,\n",
       "        15010, 46115, 72338, 41163, 18987, 29712,  7023, 47451, 60169,\n",
       "        33626, 66539, 11790, 14227, 15010, 20836, 47674,  1123, 46115,\n",
       "        50288, 53299, 15010,  8165, 61480, 72770, 40335,  2426, 56964,\n",
       "        47686],\n",
       "       [    0,     0,     0,     0,     0,     0,     0,     0,     0,\n",
       "            0,     0,     0,     0,     0,     0,     0,     0,     0,\n",
       "            0,     0,     0,     0,     0,     0,     0,     0,     0,\n",
       "            0,     0,     0,     0,     0,     0,     0,     0,     0,\n",
       "            0,     0,     0,     0,     0,     0,     0,     0,     0,\n",
       "            0,     0,     0,     0,     0,     0,     0,     0,     0,\n",
       "            0,     0,     0,     0,     0,     0,     0,     0,     0,\n",
       "            0,     0,     0,     0,     0,     0,     0,     0,     0,\n",
       "            0,     0,     0,     0, 41163, 57862, 28519, 15010, 52157,\n",
       "        59468,  4328, 31728, 15010, 39007, 49936, 14135, 16930, 35338,\n",
       "        62442, 73632, 51886, 21784,  5730, 27855,  8596, 60169, 58406,\n",
       "        42658],\n",
       "       [    0,     0,     0,     0,     0,     0,     0,     0,     0,\n",
       "            0,     0,     0,     0,     0,     0,     0,     0,     0,\n",
       "            0,     0,     0,     0,     0,     0,     0,     0,     0,\n",
       "            0,     0,     0,     0,     0,     0,     0,     0,     0,\n",
       "            0,     0,     0,     0,     0,     0,     0,     0,     0,\n",
       "            0,     0, 59142, 33882, 63479, 40902, 41163, 57862, 54960,\n",
       "         7023, 48137,  1405, 55908,  4328,  2912, 66246,  1132, 46116,\n",
       "        51922, 12215, 12155, 53505, 14853, 15010,   491, 51061, 70388,\n",
       "        36280,  6741,  6133, 28428, 12155, 24624, 51886, 25415, 61339,\n",
       "        15010, 50285, 24474, 24624, 67789, 42598, 19653, 66588, 41163,\n",
       "        23447, 57862, 33906,  6522,  7023, 25415, 15010, 72336, 60169,\n",
       "         5730],\n",
       "       [    0,     0,     0,     0,     0,     0,     0,     0,     0,\n",
       "            0,     0,     0,     0,     0,     0,     0,     0,     0,\n",
       "            0,     0,     0,     0,     0,     0,     0,     0,     0,\n",
       "            0,     0,     0,     0,     0,     0,     0,     0,     0,\n",
       "            0,     0,     0,     0,     0,     0,     0,     0,     0,\n",
       "            0,     0,     0,     0,     0,     0,     0,     0,     0,\n",
       "            0,     0,     0,     0,     0,     0,     0,     0,     0,\n",
       "            0,     0,     0,     0,     0,     0,     0,     0,     0,\n",
       "            0,     0,     0,     0,     0,     0,     0, 41163, 57862,\n",
       "        51886, 15010,  8750, 30149, 39007,  4328, 62442, 19653, 46439,\n",
       "        53794, 17900, 70936, 52157, 60169, 46449, 22919, 24624, 17038,\n",
       "        39522],\n",
       "       [66539, 63479, 19653,  7842, 42657,  5048, 47753, 63435, 19356,\n",
       "         7023, 15010, 29191,  7023, 31253, 41120, 62442, 19653, 47879,\n",
       "        60169, 38982, 22919, 63479, 37557, 47674, 42657,  5048,  2912,\n",
       "        41163, 19653, 15010,  3638, 47879, 38033, 44485, 12155, 60169,\n",
       "        38737, 51284, 63479, 39522, 34232, 64978, 41120, 29230, 40903,\n",
       "        16409, 24624, 63479, 36280, 51922, 57682, 12155, 15010, 28802,\n",
       "        60169, 42657,  7774, 68722, 62442,  8861,  5730, 64034, 73289,\n",
       "        24624,  6402,  2106, 34802, 60169, 37947, 17085, 24624, 30288,\n",
       "        13638, 24035, 31825, 57862, 47879, 60169, 42657, 17656, 59769,\n",
       "         2912, 41120, 57862,  5984, 12407, 15010, 51673, 34802, 60169,\n",
       "         8890, 60169, 46449, 58259, 42500, 15010, 68198, 19237, 60169,\n",
       "        19652]])"
      ]
     },
     "metadata": {},
     "execution_count": 13
    }
   ],
   "metadata": {}
  },
  {
   "cell_type": "markdown",
   "source": [
    "## Training, Validation, Test\n",
    "\n"
   ],
   "metadata": {}
  },
  {
   "cell_type": "markdown",
   "source": [
    "With our data in nice shape, we'll split it into training, validation, and test sets."
   ],
   "metadata": {}
  },
  {
   "cell_type": "code",
   "execution_count": 14,
   "source": [
    "split_frac = 0.8\r\n",
    "\r\n",
    "train_x, val_x = features[:int(0.8*len(features))], features[int(0.8*len(features)):]\r\n",
    "train_y, val_y = labels[:int(0.8*len(features))], labels[int(0.8*len(features)):]\r\n",
    "\r\n",
    "val_x, test_x = val_x[:int(0.5*len(val_x))], val_x[int(0.5*len(val_x)):]\r\n",
    "val_y, test_y = val_y[:int(0.5*len(val_y))], val_y[int(0.5*len(val_y)):]\r\n",
    "\r\n",
    "print(\"\\t\\t\\tFeature Shapes:\")\r\n",
    "print(\"Train set: \\t\\t{}\".format(train_x.shape), \r\n",
    "      \"\\nValidation set: \\t{}\".format(val_x.shape),\r\n",
    "      \"\\nTest set: \\t\\t{}\".format(test_x.shape))"
   ],
   "outputs": [
    {
     "output_type": "stream",
     "name": "stdout",
     "text": [
      "\t\t\tFeature Shapes:\n",
      "Train set: \t\t(20000, 200) \n",
      "Validation set: \t(2500, 200) \n",
      "Test set: \t\t(2500, 200)\n"
     ]
    }
   ],
   "metadata": {
    "collapsed": true
   }
  },
  {
   "cell_type": "code",
   "execution_count": 15,
   "source": [
    "len(val_y)"
   ],
   "outputs": [
    {
     "output_type": "execute_result",
     "data": {
      "text/plain": [
       "2500"
      ]
     },
     "metadata": {},
     "execution_count": 15
    }
   ],
   "metadata": {}
  },
  {
   "cell_type": "markdown",
   "source": [
    "With train, validation, and text fractions of 0.8, 0.1, 0.1, the final shapes should look like:\n",
    "```\n",
    "                    Feature Shapes:\n",
    "Train set: \t\t (20000, 200) \n",
    "Validation set: \t(2500, 200) \n",
    "Test set: \t\t  (2500, 200)\n",
    "```"
   ],
   "metadata": {}
  },
  {
   "cell_type": "markdown",
   "source": [
    "## Build the graph\n",
    "\n",
    "Here, we'll build the graph. First up, defining the hyperparameters.\n",
    "\n",
    "* `lstm_size`: Number of units in the hidden layers in the LSTM cells. Usually larger is better performance wise. Common values are 128, 256, 512, etc.\n",
    "* `lstm_layers`: Number of LSTM layers in the network. I'd start with 1, then add more if I'm underfitting.\n",
    "* `batch_size`: The number of reviews to feed the network in one training pass. Typically this should be set as high as you can go without running out of memory.\n",
    "* `learning_rate`: Learning rate"
   ],
   "metadata": {}
  },
  {
   "cell_type": "markdown",
   "source": [
    "For the network itself, we'll be passing in our 200 element long review vectors. Each batch will be `batch_size` vectors. We'll also be using dropout on the LSTM layer, so we'll make a placeholder for the keep probability."
   ],
   "metadata": {}
  },
  {
   "cell_type": "markdown",
   "source": [
    "### LSTM cell\r\n",
    "\r\n",
    "<img src=\"assets/network_diagram.png\" width=400px>\r\n",
    "\r\n",
    "Next, we'll create our LSTM cells to use in the recurrent network ([TensorFlow documentation](https://www.tensorflow.org/api_docs/python/tf/contrib/rnn)). Here we are just defining what the cells look like. This isn't actually building the graph, just defining the type of cells we want in our graph.\r\n",
    "\r\n",
    "To create a basic LSTM cell for the graph, you'll want to use `tf.contrib.rnn.BasicLSTMCell`. Looking at the function documentation:\r\n",
    "\r\n",
    "```\r\n",
    "tf.contrib.rnn.BasicLSTMCell(num_units, forget_bias=1.0, input_size=None, state_is_tuple=True, activation=<function tanh at 0x109f1ef28>)\r\n",
    "```\r\n",
    "\r\n",
    "you can see it takes a parameter called `num_units`, the number of units in the cell, called `lstm_size` in this code. So then, you can write something like \r\n",
    "\r\n",
    "```\r\n",
    "lstm = tf.contrib.rnn.BasicLSTMCell(num_units)\r\n",
    "```\r\n",
    "\r\n",
    "to create an LSTM cell with `num_units`. Next, you can add dropout to the cell with `tf.contrib.rnn.DropoutWrapper`. This just wraps the cell in another cell, but with dropout added to the inputs and/or outputs. It's a really convenient way to make your network better with almost no effort! So you'd do something like\r\n",
    "\r\n",
    "```\r\n",
    "drop = tf.contrib.rnn.DropoutWrapper(cell, output_keep_prob=keep_prob)\r\n",
    "```\r\n",
    "\r\n",
    "Most of the time, your network will have better performance with more layers. That's sort of the magic of deep learning, adding more layers allows the network to learn really complex relationships. Again, there is a simple way to create multiple layers of LSTM cells with `tf.contrib.rnn.MultiRNNCell`:\r\n",
    "\r\n",
    "```\r\n",
    "cell = tf.contrib.rnn.MultiRNNCell([drop] * lstm_layers)\r\n",
    "```\r\n",
    "\r\n",
    "Here, `[drop] * lstm_layers` creates a list of cells (`drop`) that is `lstm_layers` long. The `MultiRNNCell` wrapper builds this into multiple layers of RNN cells, one for each cell in the list.\r\n",
    "\r\n",
    "So the final cell you're using in the network is actually multiple (or just one) LSTM cells with dropout. But it all works the same from an architectural viewpoint, just a more complicated graph in the cell.\r\n",
    "\r\n",
    "Here is [a tutorial on building RNNs](https://www.tensorflow.org/tutorials/recurrent) that will help you out.\r\n"
   ],
   "metadata": {}
  },
  {
   "cell_type": "markdown",
   "source": [
    "### RNN forward pass\r\n",
    "\r\n",
    "<img src=\"assets/network_diagram.png\" width=400px>\r\n"
   ],
   "metadata": {}
  },
  {
   "cell_type": "markdown",
   "source": [
    "### Output\n",
    "\n",
    "We only care about the final output, we'll be using that as our sentiment prediction. So we need to grab the last output with `outputs[:, -1]`, the calculate the cost from that and `labels_`."
   ],
   "metadata": {}
  },
  {
   "cell_type": "markdown",
   "source": [
    "### Validation accuracy\n",
    "\n",
    "Here we can add a few nodes to calculate the accuracy which we'll use in the validation pass."
   ],
   "metadata": {}
  },
  {
   "cell_type": "markdown",
   "source": [
    "### Batching\n",
    "\n",
    "This is a simple function for returning batches from our data. First it removes data such that we only have full batches. Then it iterates through the `x` and `y` arrays and returns slices out of those arrays with size `[batch_size]`."
   ],
   "metadata": {}
  },
  {
   "cell_type": "code",
   "execution_count": 16,
   "source": [
    "def get_batches(x, y, batch_size=100):\r\n",
    "    \r\n",
    "    n_batches = len(x)//batch_size\r\n",
    "    x, y = x[:n_batches*batch_size], y[:n_batches*batch_size]\r\n",
    "    for ii in range(0, len(x), batch_size):\r\n",
    "        yield x[ii:ii+batch_size], y[ii:ii+batch_size]"
   ],
   "outputs": [],
   "metadata": {
    "collapsed": true
   }
  },
  {
   "cell_type": "markdown",
   "source": [
    "## Training\n",
    "\n",
    "Below is the typical training code. If you want to do this yourself, feel free to delete all this code and implement it yourself. Before you run this, make sure the `checkpoints` directory exists."
   ],
   "metadata": {}
  },
  {
   "cell_type": "code",
   "execution_count": 21,
   "source": [
    "epochs = 10\r\n",
    "lstm_size = 256\r\n",
    "lstm_layers = 1\r\n",
    "batch_size = 500\r\n",
    "learning_rate = 0.001\r\n",
    "n_words = len(uniqueWords)+1\r\n",
    "optimizer = tf.optimizers.RMSprop(learning_rate=learning_rate)"
   ],
   "outputs": [],
   "metadata": {
    "collapsed": true
   }
  },
  {
   "cell_type": "code",
   "execution_count": 22,
   "source": [
    "from tensorflow.keras import layers, Model\r\n",
    "\r\n",
    "\r\n",
    "inputLayer = layers.Input(shape=(None,))\r\n",
    "embeddingLayer = layers.Embedding(n_words, 100)(inputLayer)\r\n",
    "lstms = []\r\n",
    "for i in range(lstm_layers):\r\n",
    "    lstms.append(layers.LSTMCell(lstm_size, dropout=0.5))\r\n",
    "lstmLayer = layers.RNN(lstms)(embeddingLayer)\r\n",
    "denseLayer = layers.Dense(1, activation=tf.sigmoid)(lstmLayer)\r\n",
    "\r\n",
    "sentimentModel = Model(inputs=inputLayer, outputs=denseLayer, name=\"Sentiment Classifier\")\r\n",
    "\r\n",
    "sentimentModel.summary()"
   ],
   "outputs": [
    {
     "output_type": "stream",
     "name": "stdout",
     "text": [
      "Model: \"Sentiment Classifier\"\n",
      "_________________________________________________________________\n",
      "Layer (type)                 Output Shape              Param #   \n",
      "=================================================================\n",
      "input_2 (InputLayer)         [(None, None)]            0         \n",
      "_________________________________________________________________\n",
      "embedding_1 (Embedding)      (None, None, 100)         7407300   \n",
      "_________________________________________________________________\n",
      "rnn_1 (RNN)                  (None, 256)               365568    \n",
      "_________________________________________________________________\n",
      "dense_1 (Dense)              (None, 1)                 257       \n",
      "=================================================================\n",
      "Total params: 7,773,125\n",
      "Trainable params: 7,773,125\n",
      "Non-trainable params: 0\n",
      "_________________________________________________________________\n"
     ]
    }
   ],
   "metadata": {}
  },
  {
   "cell_type": "code",
   "execution_count": 23,
   "source": [
    "for i in range(epochs):\r\n",
    "\r\n",
    "    for x, y in get_batches(train_x, train_y, batch_size=500):\r\n",
    "\r\n",
    "        with tf.GradientTape() as tape:\r\n",
    "            predictions = sentimentModel(x, training=True)\r\n",
    "            loss = tf.losses.mean_squared_error(y, predictions)\r\n",
    "            \r\n",
    "        grads = tape.gradient(loss, sentimentModel.trainable_variables)\r\n",
    "        optimizer.apply_gradients(zip(grads, sentimentModel.trainable_variables))\r\n",
    "        \r\n",
    "    \r\n",
    "    validationPreds = sentimentModel(val_x)\r\n",
    "    correct_pred = tf.equal(tf.cast(tf.round(validationPreds), tf.int32), val_y)\r\n",
    "    accuracy = tf.reduce_sum(tf.cast(correct_pred, tf.float32))/len(val_x)\r\n",
    "    print(f\"At the epoch {i+1} with loss {tf.reduce_mean(loss)} accuracy for validation: {accuracy}\")"
   ],
   "outputs": [
    {
     "output_type": "stream",
     "name": "stdout",
     "text": [
      "At the epoch 1 with loss 0.36065298318862915 accuracy for validation: 0.6908000111579895\n",
      "At the epoch 2 with loss 0.20308811962604523 accuracy for validation: 0.724399983882904\n",
      "At the epoch 3 with loss 0.15966880321502686 accuracy for validation: 0.8091999888420105\n",
      "At the epoch 4 with loss 0.10281676799058914 accuracy for validation: 0.7832000255584717\n",
      "At the epoch 5 with loss 0.14983798563480377 accuracy for validation: 0.7148000001907349\n",
      "At the epoch 6 with loss 0.0937216505408287 accuracy for validation: 0.7663999795913696\n",
      "At the epoch 7 with loss 0.08702699840068817 accuracy for validation: 0.717199981212616\n",
      "At the epoch 8 with loss 0.10908479243516922 accuracy for validation: 0.8104000091552734\n",
      "At the epoch 9 with loss 0.05572158470749855 accuracy for validation: 0.8091999888420105\n",
      "At the epoch 10 with loss 0.04669271409511566 accuracy for validation: 0.7835999727249146\n"
     ]
    }
   ],
   "metadata": {}
  },
  {
   "cell_type": "markdown",
   "source": [
    "## Testing"
   ],
   "metadata": {}
  },
  {
   "cell_type": "code",
   "execution_count": 24,
   "source": [
    "testPreds = sentimentModel(test_x)\r\n",
    "correct_pred = tf.equal(tf.cast(tf.round(testPreds), tf.int32), test_y)\r\n",
    "accuracy = tf.reduce_sum(tf.cast(correct_pred, tf.float32))/len(test_y)\r\n",
    "print(f\"Accuracy for Test Set: {accuracy}\")"
   ],
   "outputs": [
    {
     "output_type": "stream",
     "name": "stdout",
     "text": [
      "Accuracy for Test Set: 0.7972000241279602\n"
     ]
    }
   ],
   "metadata": {}
  }
 ],
 "metadata": {
  "kernelspec": {
   "name": "python3",
   "display_name": "Python 3.9.7 64-bit"
  },
  "language_info": {
   "codemirror_mode": {
    "name": "ipython",
    "version": 3
   },
   "file_extension": ".py",
   "mimetype": "text/x-python",
   "name": "python",
   "nbconvert_exporter": "python",
   "pygments_lexer": "ipython3",
   "version": "3.9.7"
  },
  "interpreter": {
   "hash": "f1058ac39a4b5cc6a2d664bf07a90cc7a0b869b1d28e3e4a0289bda448411850"
  }
 },
 "nbformat": 4,
 "nbformat_minor": 2
}