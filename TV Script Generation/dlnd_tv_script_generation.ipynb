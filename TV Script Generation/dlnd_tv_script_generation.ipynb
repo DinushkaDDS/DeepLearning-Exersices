{
 "cells": [
  {
   "cell_type": "markdown",
   "source": [
    "# TV Script Generation\n",
    "In this project, you'll generate your own [Simpsons](https://en.wikipedia.org/wiki/The_Simpsons) TV scripts using RNNs.  You'll be using part of the [Simpsons dataset](https://www.kaggle.com/wcukierski/the-simpsons-by-the-data) of scripts from 27 seasons.  The Neural Network you'll build will generate a new TV script for a scene at [Moe's Tavern](https://simpsonswiki.com/wiki/Moe's_Tavern).\n",
    "## Get the Data\n",
    "The data is already provided for you.  You'll be using a subset of the original dataset.  It consists of only the scenes in Moe's Tavern.  This doesn't include other versions of the tavern, like \"Moe's Cavern\", \"Flaming Moe's\", \"Uncle Moe's Family Feed-Bag\", etc.."
   ],
   "metadata": {}
  },
  {
   "cell_type": "code",
   "execution_count": 1,
   "source": [
    "\"\"\"\r\n",
    "DON'T MODIFY ANYTHING IN THIS CELL\r\n",
    "\"\"\"\r\n",
    "import helper\r\n",
    "\r\n",
    "data_dir = './data/simpsons/moes_tavern_lines.txt'\r\n",
    "text = helper.load_data(data_dir)\r\n",
    "# Ignore notice, since we don't use it for analysing the data\r\n",
    "text = text[81:]"
   ],
   "outputs": [],
   "metadata": {
    "collapsed": true
   }
  },
  {
   "cell_type": "markdown",
   "source": [
    "## Explore the Data\n",
    "Play around with `view_sentence_range` to view different parts of the data."
   ],
   "metadata": {}
  },
  {
   "cell_type": "code",
   "execution_count": 2,
   "source": [
    "view_sentence_range = (0, 10)\r\n",
    "\r\n",
    "\"\"\"\r\n",
    "DON'T MODIFY ANYTHING IN THIS CELL\r\n",
    "\"\"\"\r\n",
    "import numpy as np\r\n",
    "\r\n",
    "print('Dataset Stats')\r\n",
    "print('Roughly the number of unique words: {}'.format(len({word: None for word in text.split()})))\r\n",
    "scenes = text.split('\\n\\n')\r\n",
    "print('Number of scenes: {}'.format(len(scenes)))\r\n",
    "sentence_count_scene = [scene.count('\\n') for scene in scenes]\r\n",
    "print('Average number of sentences in each scene: {}'.format(np.average(sentence_count_scene)))\r\n",
    "\r\n",
    "sentences = [sentence for scene in scenes for sentence in scene.split('\\n')]\r\n",
    "print('Number of lines: {}'.format(len(sentences)))\r\n",
    "word_count_sentence = [len(sentence.split()) for sentence in sentences]\r\n",
    "print('Average number of words in each line: {}'.format(np.average(word_count_sentence)))\r\n",
    "\r\n",
    "print()\r\n",
    "print('The sentences {} to {}:'.format(*view_sentence_range))\r\n",
    "print('\\n'.join(text.split('\\n')[view_sentence_range[0]:view_sentence_range[1]]))"
   ],
   "outputs": [
    {
     "output_type": "stream",
     "name": "stdout",
     "text": [
      "Dataset Stats\n",
      "Roughly the number of unique words: 11492\n",
      "Number of scenes: 262\n",
      "Average number of sentences in each scene: 15.251908396946565\n",
      "Number of lines: 4258\n",
      "Average number of words in each line: 11.50164396430249\n",
      "\n",
      "The sentences 0 to 10:\n",
      "\n",
      "Moe_Szyslak: (INTO PHONE) Moe's Tavern. Where the elite meet to drink.\n",
      "Bart_Simpson: Eh, yeah, hello, is Mike there? Last name, Rotch.\n",
      "Moe_Szyslak: (INTO PHONE) Hold on, I'll check. (TO BARFLIES) Mike Rotch. Mike Rotch. Hey, has anybody seen Mike Rotch, lately?\n",
      "Moe_Szyslak: (INTO PHONE) Listen you little puke. One of these days I'm gonna catch you, and I'm gonna carve my name on your back with an ice pick.\n",
      "Moe_Szyslak: What's the matter Homer? You're not your normal effervescent self.\n",
      "Homer_Simpson: I got my problems, Moe. Give me another one.\n",
      "Moe_Szyslak: Homer, hey, you should not drink to forget your problems.\n",
      "Barney_Gumble: Yeah, you should only drink to enhance your social skills.\n",
      "\n"
     ]
    }
   ],
   "metadata": {
    "collapsed": true
   }
  },
  {
   "cell_type": "markdown",
   "source": [
    "## Implement Preprocessing Functions\n",
    "The first thing to do to any dataset is preprocessing.  Implement the following preprocessing functions below:\n",
    "- Lookup Table\n",
    "- Tokenize Punctuation\n",
    "\n",
    "### Lookup Table\n",
    "To create a word embedding, you first need to transform the words to ids.  In this function, create two dictionaries:\n",
    "- Dictionary to go from the words to an id, we'll call `vocab_to_int`\n",
    "- Dictionary to go from the id to word, we'll call `int_to_vocab`\n",
    "\n",
    "Return these dictionaries in the following tuple `(vocab_to_int, int_to_vocab)`"
   ],
   "metadata": {}
  },
  {
   "cell_type": "code",
   "execution_count": 3,
   "source": [
    "import numpy as np\r\n",
    "from collections import Counter\r\n",
    "# import problem_unittests as tests\r\n",
    "\r\n",
    "def create_lookup_tables(text):\r\n",
    "    \"\"\"\r\n",
    "    Create lookup tables for vocabulary\r\n",
    "    :param text: The text of tv scripts split into words\r\n",
    "    :return: A tuple of dicts (vocab_to_int, int_to_vocab)\r\n",
    "    \"\"\"\r\n",
    "    \r\n",
    "    uniqueWords = Counter(text)\r\n",
    "    vocab_to_int = {val:idx for idx, val in enumerate(uniqueWords)}\r\n",
    "    int_to_vocab = {idx:val for idx, val in enumerate(uniqueWords)}\r\n",
    "\r\n",
    "    return vocab_to_int, int_to_vocab"
   ],
   "outputs": [],
   "metadata": {
    "collapsed": true
   }
  },
  {
   "cell_type": "markdown",
   "source": [
    "### Tokenize Punctuation\n",
    "We'll be splitting the script into a word array using spaces as delimiters.  However, punctuations like periods and exclamation marks make it hard for the neural network to distinguish between the word \"bye\" and \"bye!\".\n",
    "\n",
    "Implement the function `token_lookup` to return a dict that will be used to tokenize symbols like \"!\" into \"||Exclamation_Mark||\".  Create a dictionary for the following symbols where the symbol is the key and value is the token:\n",
    "- Period ( . )\n",
    "- Comma ( , )\n",
    "- Quotation Mark ( \" )\n",
    "- Semicolon ( ; )\n",
    "- Exclamation mark ( ! )\n",
    "- Question mark ( ? )\n",
    "- Left Parentheses ( ( )\n",
    "- Right Parentheses ( ) )\n",
    "- Dash ( -- )\n",
    "- Return ( \\n )\n",
    "\n",
    "This dictionary will be used to token the symbols and add the delimiter (space) around it.  This separates the symbols as it's own word, making it easier for the neural network to predict on the next word. Make sure you don't use a token that could be confused as a word. Instead of using the token \"dash\", try using something like \"||dash||\"."
   ],
   "metadata": {}
  },
  {
   "cell_type": "code",
   "execution_count": 4,
   "source": [
    "def token_lookup():\r\n",
    "    \"\"\"\r\n",
    "    Generate a dict to turn punctuation into a token.\r\n",
    "    :return: Tokenize dictionary where the key is the punctuation and the value is the token\r\n",
    "    \"\"\"\r\n",
    "    token_dict = { \".\" : \"<<period>>\",\r\n",
    "                   \",\" : \"<<comma>>\",\r\n",
    "                   \"\\\"\" : \"<<quotation>>\",\r\n",
    "                   \";\" : \"<<semicolon>>\",\r\n",
    "                   \"!\" : \"<<exclamation>>\",\r\n",
    "                   \"?\" : \"<<question>>\",\r\n",
    "                   \"(\" : \"<<l_parenthesis>>\",\r\n",
    "                   \")\" : \"<<r_parenthesis>>\",\r\n",
    "                   \"--\" : \"<<dash>>\",\r\n",
    "                   \"\\n\" : \"<<return>>\"\r\n",
    "                 }\r\n",
    "    return token_dict"
   ],
   "outputs": [],
   "metadata": {
    "collapsed": true
   }
  },
  {
   "cell_type": "markdown",
   "source": [
    "## Preprocess all the data and save it\n",
    "Running the code cell below will preprocess all the data and save it to file."
   ],
   "metadata": {}
  },
  {
   "cell_type": "code",
   "execution_count": 5,
   "source": [
    "\"\"\"\r\n",
    "DON'T MODIFY ANYTHING IN THIS CELL\r\n",
    "\"\"\"\r\n",
    "# Preprocess Training, Validation, and Testing Data\r\n",
    "helper.preprocess_and_save_data(data_dir, token_lookup, create_lookup_tables)"
   ],
   "outputs": [],
   "metadata": {
    "collapsed": true
   }
  },
  {
   "cell_type": "markdown",
   "source": [
    "# Check Point\n",
    "This is your first checkpoint. If you ever decide to come back to this notebook or have to restart the notebook, you can start from here. The preprocessed data has been saved to disk."
   ],
   "metadata": {}
  },
  {
   "cell_type": "code",
   "execution_count": 6,
   "source": [
    "\"\"\"\r\n",
    "DON'T MODIFY ANYTHING IN THIS CELL\r\n",
    "\"\"\"\r\n",
    "import helper\r\n",
    "import numpy as np\r\n",
    "# import problem_unittests as tests\r\n",
    "\r\n",
    "int_text, vocab_to_int, int_to_vocab, token_dict = helper.load_preprocess()"
   ],
   "outputs": [],
   "metadata": {
    "collapsed": true
   }
  },
  {
   "cell_type": "markdown",
   "source": [
    "### Batches\r\n",
    "Implement `get_batches` to create batches of input and targets using `int_text`.  The batches should be a Numpy array with the shape `(number of batches, 2, batch size, sequence length)`. Each batch contains two elements:\r\n",
    "- The first element is a single batch of **input** with the shape `[batch size, sequence length]`\r\n",
    "- The second element is a single batch of **targets** with the shape `[batch size, sequence length]`\r\n",
    "\r\n",
    "If you can't fill the last batch with enough data, drop the last batch.\r\n",
    "\r\n",
    "Notice that the last target value in the last batch is the first input value of the first batch. This is a common technique used when creating sequence batches, although it is rather unintuitive."
   ],
   "metadata": {}
  },
  {
   "cell_type": "code",
   "execution_count": 7,
   "source": [
    "def get_batches(int_text, batch_size, seq_length):\r\n",
    "    \"\"\"\r\n",
    "    Return batches of input and target\r\n",
    "    :param int_text: Text with the words replaced by their ids\r\n",
    "    :param batch_size: The size of batch\r\n",
    "    :param seq_length: The length of sequence\r\n",
    "    :return: Batches as a Numpy array\r\n",
    "    \"\"\"\r\n",
    "    words_per_batch = batch_size*seq_length\r\n",
    "    possible_num_batches = len(int_text)//words_per_batch\r\n",
    "\r\n",
    "    for idx in range(0, possible_num_batches):\r\n",
    "        x = int_text[words_per_batch*idx:(idx+1)*words_per_batch]\r\n",
    "\r\n",
    "        if(((idx+1)*words_per_batch)+1<len(int_text)):\r\n",
    "            y = int_text[(words_per_batch*idx)+1:((idx+1)*words_per_batch)+1]\r\n",
    "        else:\r\n",
    "            y = int_text[(words_per_batch*idx)+1:((idx+1)*words_per_batch)]\r\n",
    "            y.append(int_text[0])\r\n",
    "\r\n",
    "        x = np.array(x).reshape((batch_size, seq_length))\r\n",
    "        y = np.array(y).reshape((batch_size, seq_length))\r\n",
    "        yield x, y\r\n",
    "    \r\n",
    "    #check leftover data and return one last partial batch\r\n",
    "    leftover_data = int_text[possible_num_batches*words_per_batch:]\r\n",
    "    possible_num_sequences = len(leftover_data)//seq_length\r\n",
    "    x = []\r\n",
    "    y = []\r\n",
    "    for i in range(0, possible_num_sequences):\r\n",
    "        x.append(leftover_data[i*seq_length:(i+1)*seq_length])\r\n",
    "\r\n",
    "        if(((i+1)*seq_length)+1<len(leftover_data)):\r\n",
    "            temp = leftover_data[(i*seq_length)+1:((i+1)*seq_length)+1]\r\n",
    "        else:\r\n",
    "            temp = leftover_data[(i*seq_length)+1:(i+1)*seq_length]\r\n",
    "            temp.append(int_text[0])\r\n",
    "        y.append(temp)\r\n",
    "\r\n",
    "    x = np.array(x).reshape((-1, seq_length))\r\n",
    "    y = np.array(y).reshape((-1, seq_length))\r\n",
    "    yield x, y"
   ],
   "outputs": [],
   "metadata": {
    "collapsed": true
   }
  },
  {
   "cell_type": "markdown",
   "source": [
    "## Neural Network Training\r\n",
    "### Hyperparameters\r\n",
    "Tune the following parameters:\r\n",
    "\r\n",
    "- Set `num_epochs` to the number of epochs.\r\n",
    "- Set `batch_size` to the batch size.\r\n",
    "- Set `rnn_size` to the size of the RNNs.\r\n",
    "- Set `embed_dim` to the size of the embedding.\r\n",
    "- Set `seq_length` to the length of sequence.\r\n",
    "- Set `learning_rate` to the learning rate."
   ],
   "metadata": {}
  },
  {
   "cell_type": "code",
   "execution_count": 8,
   "source": [
    "# Number of Epochs\r\n",
    "num_epochs = 150\r\n",
    "# Batch Size\r\n",
    "batch_size = 500\r\n",
    "# RNN Size\r\n",
    "rnn_size = 256\r\n",
    "# Embedding Dimension Size\r\n",
    "embed_dim = 50\r\n",
    "# Sequence Length\r\n",
    "seq_length = 15\r\n",
    "# Learning Rate\r\n",
    "learning_rate = 0.01"
   ],
   "outputs": [],
   "metadata": {
    "collapsed": true
   }
  },
  {
   "cell_type": "code",
   "execution_count": 9,
   "source": [
    "from tensorflow.keras import layers, Model\r\n",
    "import tensorflow as tf\r\n",
    "\r\n",
    "inputLayer = layers.Input((None,))\r\n",
    "\r\n",
    "embeddingLayer = layers.Embedding(len(int_to_vocab), embed_dim)(inputLayer)\r\n",
    "\r\n",
    "lstmLayer1 = layers.LSTM(rnn_size, return_sequences=True)(embeddingLayer)\r\n",
    "lstmLayer2 = layers.LSTM(rnn_size, return_sequences=True)(lstmLayer1)\r\n",
    "\r\n",
    "denseLayer = layers.Dense(len(int_to_vocab), activation=None)(lstmLayer2)\r\n",
    "\r\n",
    "tv_script_model = Model(inputs=inputLayer, outputs=denseLayer, name=\"TV_SCRIPT_MODEL\")\r\n",
    "tv_script_model.summary()"
   ],
   "outputs": [
    {
     "output_type": "stream",
     "name": "stdout",
     "text": [
      "Model: \"TV_SCRIPT_MODEL\"\n",
      "_________________________________________________________________\n",
      "Layer (type)                 Output Shape              Param #   \n",
      "=================================================================\n",
      "input_1 (InputLayer)         [(None, None)]            0         \n",
      "_________________________________________________________________\n",
      "embedding (Embedding)        (None, None, 50)          339000    \n",
      "_________________________________________________________________\n",
      "lstm (LSTM)                  (None, None, 256)         314368    \n",
      "_________________________________________________________________\n",
      "lstm_1 (LSTM)                (None, None, 256)         525312    \n",
      "_________________________________________________________________\n",
      "dense (Dense)                (None, None, 6780)        1742460   \n",
      "=================================================================\n",
      "Total params: 2,921,140\n",
      "Trainable params: 2,921,140\n",
      "Non-trainable params: 0\n",
      "_________________________________________________________________\n"
     ]
    }
   ],
   "metadata": {}
  },
  {
   "cell_type": "code",
   "execution_count": 10,
   "source": [
    "optimizer = tf.keras.optimizers.Adam(learning_rate=0.01)"
   ],
   "outputs": [],
   "metadata": {}
  },
  {
   "cell_type": "code",
   "execution_count": null,
   "source": [
    "for e in range(num_epochs):\r\n",
    "\r\n",
    "    for x, y in get_batches(int_text, batch_size=batch_size, seq_length=seq_length):\r\n",
    "\r\n",
    "        with tf.GradientTape() as tape:\r\n",
    "            logits = tv_script_model(x, training=True)\r\n",
    "                \r\n",
    "            y_one_hot = tf.one_hot(y, len(int_to_vocab))\r\n",
    "            # print(logits.get_shape(), y_one_hot.get_shape())\r\n",
    "            y_reshaped = tf.reshape(y_one_hot, logits.get_shape())\r\n",
    "            \r\n",
    "            # Softmax cross entropy loss\r\n",
    "            loss = tf.nn.softmax_cross_entropy_with_logits(logits=logits, labels=y_reshaped)\r\n",
    "            loss = tf.reduce_mean(loss)\r\n",
    "        grads = tape.gradient(loss, tv_script_model.trainable_variables)\r\n",
    "        optimizer.apply_gradients(zip(grads, tv_script_model.trainable_variables))\r\n",
    "    if((e+1)%5==0):\r\n",
    "        print ('Epoch {} finished with {} loss'.format(e+1, loss))\r\n",
    "    \r\n"
   ],
   "outputs": [],
   "metadata": {}
  },
  {
   "cell_type": "code",
   "execution_count": 12,
   "source": [
    "string = \"moe_szyslak:\".lower()\r\n",
    "stringEnc = [vocab_to_int[i] for i in string.split()]\r\n",
    "temp = tv_script_model(np.array(stringEnc).reshape(1,len(stringEnc),1))\r\n",
    "\r\n",
    "word_index_to_append = np.argmax(temp[-1][-1].numpy())\r\n",
    "\r\n",
    "for i in range(500):\r\n",
    "    stringEnc.append(word_index_to_append)\r\n",
    "\r\n",
    "    if(len(stringEnc)<seq_length):\r\n",
    "        temp = tv_script_model(np.array(stringEnc).reshape(1, len(stringEnc), 1))\r\n",
    "    else:\r\n",
    "        temp = tv_script_model(np.array(stringEnc[-seq_length:]).reshape(1, seq_length, 1))\r\n",
    "\r\n",
    "    predicted_ids = tf.random.categorical(temp[-1], num_samples=1)\r\n",
    "    word_index_to_append = tf.squeeze(predicted_ids, axis=-1).numpy()[-1]\r\n",
    "\r\n",
    "reversetoken = {val:key for key, val in token_dict.items()}\r\n",
    "\r\n",
    "for i in stringEnc:\r\n",
    "    token =  int_to_vocab[i]\r\n",
    "    try:\r\n",
    "        print(reversetoken[token], end=\" \")\r\n",
    "    except:\r\n",
    "        print(token, end=\" \")"
   ],
   "outputs": [
    {
     "output_type": "stream",
     "name": "stdout",
     "text": [
      "moe_szyslak: ( friendly ) when you gonna pull the big frosty dollars ? \n",
      " man: all true i'm telling the original money ) come on , tell you . . . \n",
      " moe_szyslak: ah , this place has to make her right , but i should be english an heatherton . i'm trying . . . \n",
      " moe_szyslak: okay , i only get put bums . we love you make that world of me . \n",
      " moe_szyslak: ya know you come myself . ( box phone ) ah , where i gotta drink to take it too . \n",
      " harv: when what my bad won't do it tonight , still back off from pretend at the drop-off , things must be get a name . \n",
      " sideshow_bob: are it . i got it to drink , i gotta be eatin' \" he can get me . \n",
      " stillwater: ( considers business . . . two that in those and and slit outta you . \n",
      " moe_szyslak: witty . \n",
      " homer_simpson: yeah , you're okay i should always be warned . i love you told you , first . \n",
      " \n",
      " \n",
      " moe_szyslak: the day you know just pair , i'm not treat everything . \n",
      " homer_simpson: but they should take out of great . \n",
      " seymour_skinner: you're the boy who all my money , homer sexual . . . \n",
      " homer_simpson: i think you were dead outta ? \n",
      " homer_simpson: revenge ? but we should do my place you want . \n",
      " homer_simpson: ( sternly ) i'll see it . we're is real people as this cash . \n",
      " homer_simpson: moe , that's these one of the other bucks , fellas . \n",
      " \n",
      " \n",
      " moe_szyslak: you know , we've always the moe ) oh . show the lot ? heh . i never , the high gonna , i'm can find the drink . \n",
      " bum: good to find out ? \n",
      " marge_simpson: you got a wrong ! \n",
      " carl_carlson: ( tense ) oh that ever was soon ? \n",
      " man: ( looks at the moe , jacques . \n",
      " moe_szyslak: hey , uh , this is gonna call his life while a angry ? \n",
      " moe_szyslak: you can't hit to go was world all on we didn't see that ? \n",
      " moe_szyslak: it's you're the down ) uh , the two . \n",
      " crowd: ( lying ) read go , huh ? it'll and you , i got ! \n",
      " kent_brockman: ( reading ) marge , whoa , i need anything in the kids . \n",
      " smokin'_joe_frazier: moe's tavern , moe ? \n",
      " julienne stupid that because but are wishes , moe_szyslak: screw the day and bret . \n",
      " moe_recording: and if you know , mafia all ask it ? \n",
      " lisa_simpson: i love is filthy no pair of just not be real music of walther your . he the one place in the french ! \n",
      " moe_szyslak: no , i can't say in wrong together in the world "
     ]
    }
   ],
   "metadata": {}
  }
 ],
 "metadata": {
  "kernelspec": {
   "name": "python3",
   "display_name": "Python 3.9.7 64-bit"
  },
  "language_info": {
   "codemirror_mode": {
    "name": "ipython",
    "version": 3
   },
   "file_extension": ".py",
   "mimetype": "text/x-python",
   "name": "python",
   "nbconvert_exporter": "python",
   "pygments_lexer": "ipython3",
   "version": "3.9.7"
  },
  "widgets": {
   "state": {},
   "version": "1.1.2"
  },
  "interpreter": {
   "hash": "f1058ac39a4b5cc6a2d664bf07a90cc7a0b869b1d28e3e4a0289bda448411850"
  }
 },
 "nbformat": 4,
 "nbformat_minor": 1
}