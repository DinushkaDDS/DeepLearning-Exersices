{
 "cells": [
  {
   "cell_type": "code",
   "execution_count": 1,
   "source": [
    "from keras.datasets import mnist\r\n",
    "\r\n",
    "# use Keras to import pre-shuffled MNIST database\r\n",
    "(X_train, y_train), (X_test, y_test) = mnist.load_data()\r\n",
    "\r\n",
    "print(\"The MNIST database has a training set of %d examples.\" % len(X_train))\r\n",
    "print(\"The MNIST database has a test set of %d examples.\" % len(X_test))"
   ],
   "outputs": [
    {
     "output_type": "stream",
     "name": "stdout",
     "text": [
      "INFO:tensorflow:Enabling eager execution\n",
      "INFO:tensorflow:Enabling v2 tensorshape\n",
      "INFO:tensorflow:Enabling resource variables\n",
      "INFO:tensorflow:Enabling tensor equality\n",
      "INFO:tensorflow:Enabling control flow v2\n",
      "The MNIST database has a training set of 60000 examples.\n",
      "The MNIST database has a test set of 10000 examples.\n"
     ]
    }
   ],
   "metadata": {}
  },
  {
   "cell_type": "code",
   "execution_count": 4,
   "source": [
    "import matplotlib.pyplot as plt\r\n",
    "%matplotlib inline\r\n",
    "import matplotlib.cm as cm\r\n",
    "import numpy as np\r\n",
    "\r\n",
    "# plot first six training images\r\n",
    "fig = plt.figure(figsize=(20,20))\r\n",
    "for i in range(6):\r\n",
    "    ax = fig.add_subplot(1, 6, i+1, xticks=[], yticks=[])\r\n",
    "    ax.imshow(X_train[i], cmap='gray')\r\n",
    "    ax.set_title(str(y_train[i]))"
   ],
   "outputs": [
    {
     "output_type": "display_data",
     "data": {
      "text/plain": [
       "<Figure size 1440x1440 with 6 Axes>"
      ],
      "image/svg+xml": "<?xml version=\"1.0\" encoding=\"utf-8\" standalone=\"no\"?>\r\n<!DOCTYPE svg PUBLIC \"-//W3C//DTD SVG 1.1//EN\"\r\n  \"http://www.w3.org/Graphics/SVG/1.1/DTD/svg11.dtd\">\r\n<svg height=\"192.446696pt\" version=\"1.1\" viewBox=\"0 0 1133.9 192.446696\" width=\"1133.9pt\" xmlns=\"http://www.w3.org/2000/svg\" xmlns:xlink=\"http://www.w3.org/1999/xlink\">\r\n <metadata>\r\n  <rdf:RDF xmlns:cc=\"http://creativecommons.org/ns#\" xmlns:dc=\"http://purl.org/dc/elements/1.1/\" xmlns:rdf=\"http://www.w3.org/1999/02/22-rdf-syntax-ns#\">\r\n   <cc:Work>\r\n    <dc:type rdf:resource=\"http://purl.org/dc/dcmitype/StillImage\"/>\r\n    <dc:date>2021-12-07T23:33:18.897282</dc:date>\r\n    <dc:format>image/svg+xml</dc:format>\r\n    <dc:creator>\r\n     <cc:Agent>\r\n      <dc:title>Matplotlib v3.4.1, https://matplotlib.org/</dc:title>\r\n     </cc:Agent>\r\n    </dc:creator>\r\n   </cc:Work>\r\n  </rdf:RDF>\r\n </metadata>\r\n <defs>\r\n  <style type=\"text/css\">*{stroke-linecap:butt;stroke-linejoin:round;}</style>\r\n </defs>\r\n <g id=\"figure_1\">\r\n  <g id=\"patch_1\">\r\n   <path d=\"M 0 192.446696 \r\nL 1133.9 192.446696 \r\nL 1133.9 -0 \r\nL 0 -0 \r\nz\r\n\" style=\"fill:none;\"/>\r\n  </g>\r\n  <g id=\"axes_1\">\r\n   <g id=\"patch_2\">\r\n    <path d=\"M 10.7 181.746696 \r\nL 170.128571 181.746696 \r\nL 170.128571 22.318125 \r\nL 10.7 22.318125 \r\nz\r\n\" style=\"fill:#ffffff;\"/>\r\n   </g>\r\n   <g clip-path=\"url(#p0331a061d3)\">\r\n    <image height=\"160\" id=\"imagebefabe7668\" transform=\"scale(1 -1)translate(0 -160)\" width=\"160\" x=\"10.7\" xlink:href=\"data:image/png;base64,\r\niVBORw0KGgoAAAANSUhEUgAAAKAAAACgCAYAAACLz2ctAAAFMUlEQVR4nO3dyyu0fxzG8fv5jSycY0EpiQUhKaeSSIoS5biwsLUSKxulbEiJxcRCFsp/QDakDAslclooZSVlSTlFDr/t8/T9TM0wXMO8X8uru3GXd9+6m2H+eJ737gEi/6lvALGNACFFgJAiQEgRIKQIEFIECCkChBQBQooAIUWAkCJASBEgpAgQUgQIKQKEVNxXvvjk5KS5Dw8Pf/q1T09PnW11ddW89uXlxdynp6fN/ebm5sP3hfBwAkKKACFFgJAiQEgRIKT+eF/4Z5nV1dXmbj0FV1VVmddmZ2dH9J7+9vDwYO5+v9/ZJiYmzGvv7+8jek+xhhMQUgQIKQKEFAFCigAh9aVPweFIT0839/n5eXMvKytztry8vEje0j92dnbMPdj7yWtra872+PgY0Xv6DTgBIUWAkCJASBEgpKLmISRcmZmZzlZUVGReOzs7a+6FhYURvae/7e7uOtvU1JR57fLysrm/vb1F9J6iEScgpAgQUgQIKQKEFAFC6sc+BYcjKyvL3Ht7e819YGDA2XJzcyN5S//Y39839/HxcXNfWVn5snv5bpyAkCJASBEgpAgQUgQIqZh4Cg5XQUGBs1lPxp7neZ2dneYe7Mk7HK+vr+a+sbHhbC0tLZ/+eQqcgJAiQEgRIKQIEFI8hHxSaWmpuXd3dztbZWWleW1TU1NYP/Pk5MTZysvLzWuj/UOtnICQIkBIESCkCBBSBAgpnoKjwNPTk7nHxdlf42J970lzc7N5bSAQ+PB9fQdOQEgRIKQIEFIECCkChNSXfltmLEtLS3O2trY281qfzxfWa29vbztbtD/tBsMJCCkChBQBQooAIUWAkOIp+JNKSkrMfWZmxtkaGxvDeu1g35ES7J8W/UScgJAiQEgRIKQIEFI8hISoo6PD3BcXF809OTk55NceGRkx96WlJXO/uroK+bWjHScgpAgQUgQIKQKEFAFCij/LNOTn5zvbwcGBee3NzY25b25uOluw7wOZm5sz9/f33/+r4QSEFAFCigAhRYCQIkBIxfR7wYmJiea+sLDgbElJSea1PT095r6+vv7xG4shnICQIkBIESCkCBBSMf0QMjY2Zu719fXOtrW1ZV5rfXEgQscJCCkChBQBQooAIUWAkPpVT8EpKSnmfnt7a+6pqakhv7b19pznRf+3UUY7TkBIESCkCBBSBAgpAoTUj/2zzPb2dmdrbW01rz08PDR3v98f8s87Ojoy97q6OnO/v793tuLiYvPaoaEhc+/v7w/t5n4wTkBIESCkCBBSBAgpAoRU1D8Fp6enm/vu7q6z5eXlffXthHQfnmf/06KGhgbz2ufnZ3MP573qn4oTEFIECCkChBQBQirqP5Cak5Nj7hkZGd98J7bq6upPv0ZcnP1r6OvrM/e7u7uQXzvYd4pcX18729nZWcivGymcgJAiQEgRIKQIEFIECKmofysuGOvpOD4+3ry2pqbG3Gtra809LS3N2bq6ukK/uQi5vLw09729PWcL9m2e1gdjPc/zjo+PnW10dNS8NhAIBLnDz+MEhBQBQooAIUWAkCJASEX9e8HBXFxchHzt+fm5uS8tLZm7z+dztkh8OHRgYMDcExISzL2goMDcBwcHnS3Yh1p7e3vNvaKiwtmsf03seTwF4xcjQEgRIKQIEFI/9q04/A6cgJAiQEgRIKQIEFIECCkChBQBQooAIUWAkCJASBEgpAgQUgQIKQKEFAFCigAhRYCQIkBIESCkCBBSBAgpAoQUAUKKACFFgJAiQEgRIKQIEFL/A4sM6W/dfyn7AAAAAElFTkSuQmCC\" y=\"-21.746696\"/>\r\n   </g>\r\n   <g id=\"matplotlib.axis_1\"/>\r\n   <g id=\"matplotlib.axis_2\"/>\r\n   <g id=\"patch_3\">\r\n    <path d=\"M 10.7 181.746696 \r\nL 10.7 22.318125 \r\n\" style=\"fill:none;stroke:#000000;stroke-linecap:square;stroke-linejoin:miter;stroke-width:0.8;\"/>\r\n   </g>\r\n   <g id=\"patch_4\">\r\n    <path d=\"M 170.128571 181.746696 \r\nL 170.128571 22.318125 \r\n\" style=\"fill:none;stroke:#000000;stroke-linecap:square;stroke-linejoin:miter;stroke-width:0.8;\"/>\r\n   </g>\r\n   <g id=\"patch_5\">\r\n    <path d=\"M 10.7 181.746696 \r\nL 170.128571 181.746696 \r\n\" style=\"fill:none;stroke:#000000;stroke-linecap:square;stroke-linejoin:miter;stroke-width:0.8;\"/>\r\n   </g>\r\n   <g id=\"patch_6\">\r\n    <path d=\"M 10.7 22.318125 \r\nL 170.128571 22.318125 \r\n\" style=\"fill:none;stroke:#000000;stroke-linecap:square;stroke-linejoin:miter;stroke-width:0.8;\"/>\r\n   </g>\r\n   <g id=\"text_1\">\r\n    <!-- 5 -->\r\n    <g transform=\"translate(86.596786 16.318125)scale(0.12 -0.12)\">\r\n     <defs>\r\n      <path d=\"M 691 4666 \r\nL 3169 4666 \r\nL 3169 4134 \r\nL 1269 4134 \r\nL 1269 2991 \r\nQ 1406 3038 1543 3061 \r\nQ 1681 3084 1819 3084 \r\nQ 2600 3084 3056 2656 \r\nQ 3513 2228 3513 1497 \r\nQ 3513 744 3044 326 \r\nQ 2575 -91 1722 -91 \r\nQ 1428 -91 1123 -41 \r\nQ 819 9 494 109 \r\nL 494 744 \r\nQ 775 591 1075 516 \r\nQ 1375 441 1709 441 \r\nQ 2250 441 2565 725 \r\nQ 2881 1009 2881 1497 \r\nQ 2881 1984 2565 2268 \r\nQ 2250 2553 1709 2553 \r\nQ 1456 2553 1204 2497 \r\nQ 953 2441 691 2322 \r\nL 691 4666 \r\nz\r\n\" id=\"DejaVuSans-35\" transform=\"scale(0.015625)\"/>\r\n     </defs>\r\n     <use xlink:href=\"#DejaVuSans-35\"/>\r\n    </g>\r\n   </g>\r\n  </g>\r\n  <g id=\"axes_2\">\r\n   <g id=\"patch_7\">\r\n    <path d=\"M 202.014286 181.746696 \r\nL 361.442857 181.746696 \r\nL 361.442857 22.318125 \r\nL 202.014286 22.318125 \r\nz\r\n\" style=\"fill:#ffffff;\"/>\r\n   </g>\r\n   <g clip-path=\"url(#pd8d2fc2025)\">\r\n    <image height=\"160\" id=\"image677732d31c\" transform=\"scale(1 -1)translate(0 -160)\" width=\"160\" x=\"202.014286\" xlink:href=\"data:image/png;base64,\r\niVBORw0KGgoAAAANSUhEUgAAAKAAAACgCAYAAACLz2ctAAAFjUlEQVR4nO3du0tdSxzF8e0lKBLQwipiYYq0PhATER9gGdKJT9BSG2PQREFQq5QBFQsRQoog+IYjoiKCIvgqooK1lZqHSIokIiSi3j9gfnPvOZ6jaxu/n3IxbIdkMTDs2XOSgiC4CgCRf9QTwP1GASFFASFFASFFASFFASFFASFFASFFASFFASFFASFFASFFASFFASFFASFFASFFASFFASFFASFFASFFASFFASH1QD2B//Po0SMzb25udrLu7m5zbFJSkplfXdlfpA4MDDjZ0NCQOXZ/f9/MER1WQEhRQEhRQEhRQEhRQEglBSG5nCgrK8vMJycnzbywsDDqZ8e6C7Z8//7dzMfGxsz81atXUT/7PmMFhBQFhBQFhBQFhFRoNiFVVVVmPjo6Gvezj4+Pzfznz59m/uTJk7j/5ubmppOtrKyYY3t7e+P+e3cVKyCkKCCkKCCkKCCkKCCkQn8g1efi4sLJhoeHzbEfPnwwc9/rtaKiIidraGgwx+bm5pp5cXGxk/leN/p23dbB2CAIgq2tLTO/i1gBIUUBIUUBIUUBIUUBIRWaXbDv0Kgv//btm5O1trYmZC6Hh4dO5jsY69PW1uZkPT095tjq6mozPz8/N3N2wUCCUEBIUUBIUUBIhWYT4vtCzZdHIpEbnE38+vr6nMx3ILWjo8PM6+vrzfzhw4dOVllZGcPswoMVEFIUEFIUEFIUEFIUEFJ39rNM63XZ48ePEzqn25KSkmLmvhtfu7q6nOzz58/m2KamJjNfXFyMcnY3ixUQUhQQUhQQUhQQUhQQUqF5Fxwra+fo+02Rr1+/3vR04vL7928zf/v2rZk/eOD+t3V2dppjX79+bebr6+tOdnp66pvijWEFhBQFhBQFhBQFhBQFhFRo3gW/ePHCzCcmJsw8OTnZyd68eWOO7e/vv/a87grrsqYg8J8ot3798+XLlwmdUzRYASFFASFFASFFASEVmk2Iz8bGhpk/e/bMyVZXV82xFRUVCZ1TGPk2G5eXl2Zu/buWlpYmdE7RYAWEFAWEFAWEFAWEFAWEVOgPpLa3t5v52tqak5WVlZljy8vLzdy3a76LfLtd3+44LFgBIUUBIUUBIUUBIUUBIRX6XfDu7q6Zz8/PO9nz58/NsTMzM2ZeU1Nj5p8+fXKy1NRUc+zR0ZGZIzqsgJCigJCigJCigJAK/SbEd2+K9QXcr1+/zLG1tbVm/vHjRzO37pLx3dMyNTVl5mF3cHCgnkIQBKyAEKOAkKKAkKKAkKKAkAr9Z5mxyMvLM/Pl5WUzT0tLi/rZCwsLZl5XV2fm1iHYnJwcc+z79+/N/OTkJMrZ+e+GOTs7M3Nrfjs7O1H/vURhBYQUBYQUBYQUBYQUBYTUX7UL9ikoKDDzpaUlM09PT4/62b5PO2dnZ53s3bt35tgvX76Yue/W2OzsbCeLRCLm2PHxcTP3vR+/bayAkKKAkKKAkKKAkKKAkAr9iehE2N7eNvO5uTkz973ftcRyIZLvoiDfr3zm5+ebeUNDg5NxORFwDRQQUhQQUhQQUvdiE+LT3Nxs5sPDw042MjJijs3Kyop7Hr6DoKenp2buu/HVsre3d6053RZWQEhRQEhRQEhRQEhRQEjdiwOpifD06VMzn56eNvPMzEwn870W812q9OfPHzPPyMhwspKSEnOsb4fte/ZtYwWEFAWEFAWEFAWEFAWEFLvgOMVyIVIslyH9lx8/fjiZtTO+C1gBIUUBIUUBIUUBIcUm5IZY99G0tLSYYxsbG83c9zsmg4ODTqa43TQRWAEhRQEhRQEhRQEhRQEhxS4YUqyAkKKAkKKAkKKAkKKAkKKAkKKAkKKAkKKAkKKAkKKAkKKAkKKAkKKAkKKAkKKAkKKAkKKAkKKAkKKAkKKAkKKAkPoXx1U43c6BxX8AAAAASUVORK5CYII=\" y=\"-21.746696\"/>\r\n   </g>\r\n   <g id=\"matplotlib.axis_3\"/>\r\n   <g id=\"matplotlib.axis_4\"/>\r\n   <g id=\"patch_8\">\r\n    <path d=\"M 202.014286 181.746696 \r\nL 202.014286 22.318125 \r\n\" style=\"fill:none;stroke:#000000;stroke-linecap:square;stroke-linejoin:miter;stroke-width:0.8;\"/>\r\n   </g>\r\n   <g id=\"patch_9\">\r\n    <path d=\"M 361.442857 181.746696 \r\nL 361.442857 22.318125 \r\n\" style=\"fill:none;stroke:#000000;stroke-linecap:square;stroke-linejoin:miter;stroke-width:0.8;\"/>\r\n   </g>\r\n   <g id=\"patch_10\">\r\n    <path d=\"M 202.014286 181.746696 \r\nL 361.442857 181.746696 \r\n\" style=\"fill:none;stroke:#000000;stroke-linecap:square;stroke-linejoin:miter;stroke-width:0.8;\"/>\r\n   </g>\r\n   <g id=\"patch_11\">\r\n    <path d=\"M 202.014286 22.318125 \r\nL 361.442857 22.318125 \r\n\" style=\"fill:none;stroke:#000000;stroke-linecap:square;stroke-linejoin:miter;stroke-width:0.8;\"/>\r\n   </g>\r\n   <g id=\"text_2\">\r\n    <!-- 0 -->\r\n    <g transform=\"translate(277.911071 16.318125)scale(0.12 -0.12)\">\r\n     <defs>\r\n      <path d=\"M 2034 4250 \r\nQ 1547 4250 1301 3770 \r\nQ 1056 3291 1056 2328 \r\nQ 1056 1369 1301 889 \r\nQ 1547 409 2034 409 \r\nQ 2525 409 2770 889 \r\nQ 3016 1369 3016 2328 \r\nQ 3016 3291 2770 3770 \r\nQ 2525 4250 2034 4250 \r\nz\r\nM 2034 4750 \r\nQ 2819 4750 3233 4129 \r\nQ 3647 3509 3647 2328 \r\nQ 3647 1150 3233 529 \r\nQ 2819 -91 2034 -91 \r\nQ 1250 -91 836 529 \r\nQ 422 1150 422 2328 \r\nQ 422 3509 836 4129 \r\nQ 1250 4750 2034 4750 \r\nz\r\n\" id=\"DejaVuSans-30\" transform=\"scale(0.015625)\"/>\r\n     </defs>\r\n     <use xlink:href=\"#DejaVuSans-30\"/>\r\n    </g>\r\n   </g>\r\n  </g>\r\n  <g id=\"axes_3\">\r\n   <g id=\"patch_12\">\r\n    <path d=\"M 393.328571 181.746696 \r\nL 552.757143 181.746696 \r\nL 552.757143 22.318125 \r\nL 393.328571 22.318125 \r\nz\r\n\" style=\"fill:#ffffff;\"/>\r\n   </g>\r\n   <g clip-path=\"url(#p31423eb022)\">\r\n    <image height=\"160\" id=\"imageb49e3cde15\" transform=\"scale(1 -1)translate(0 -160)\" width=\"160\" x=\"393.328571\" xlink:href=\"data:image/png;base64,\r\niVBORw0KGgoAAAANSUhEUgAAAKAAAACgCAYAAACLz2ctAAAEb0lEQVR4nO3dvyv9URzH8XP1zY+BMimMSCkGGZgpRjODJFcmgzL5N6RuGdhYLGwKC3IHP8qvgULJIgwsuve7fuu8P99c93M+rw+ej/Hd6d4zPDvd070+Ms65ogNEKtQbwO9GgJAiQEgRIKQIEFIECCkChBQBQooAIUWAkCJASBEgpAgQUgQIKQKEFAFC6o96A3BubGzMnC8tLZnzXC7nzbLZbJxbSgwnIKQIEFIECCkChBQBQopbcAoMDQ2Z80wmk/BOkscJCCkChBQBQooAIUWAkOIWnGLF4s9/bhQnIKQIEFIECCkChBSXkG9ob29PvYXYcAJCigAhRYCQIkBIESCkuAWnWNQPUguFQsI7CYcTEFIECCkChBQBQooAIcUtOMWifpB6dXWV8E7C4QSEFAFCigAhRYCQIkBIESCkCBBSBAgpAoQUAUKKr+K+oeHhYW+2v78v2En5OAEhRYCQIkBIESCkCBBSGedcsMdwzs3NmfO+vr5Qb2laX1835+fn5+Y86Rvl5OSkOV9cXDTn19fX3qylpSXWPSWFExBSBAgpAoQUAUKKACEVyy14YWHBnGezWXP+/PzszW5vb8vdhuvs7DTnUQ/5+fj4MOdvb2/e7OzszFx7cHBgzvP5vDfb2dkx1z4+Pprz+/t7c15fX+/NKisrzbVpxwkIKQKEFAFCigAhFcsPUmtqasx51If/qakpb7a2tlb2Prq6ukraR39/vzlvbm72ZlEf8sfHx835xMSEN3t/fzfXRl1kqqurzXlFhX9utLe3m2svLi7MeVpwAkKKACFFgJAiQEgRIKQkf5b59PQU5HWPj49LWn90dFT2e05PT5vzuro6bzY4OGiuHR0dNedVVVXm3LoFd3d3m2u5BQP/QYCQIkBIESCkCBBSkltwT0+PN9va2hLsJJzX11dvtrq6aq6Nmq+srJjzkZERbzY/P2+u3djYMOfWj4IVOAEhRYCQIkBIESCkYrmEXF5elrS+o6Mjjrf98WZnZ8259UPatrY2c21tba055xICOAKEGAFCigAhRYCQiuUWvLm5ac6jvh7C50Q9M+bm5sabNTQ0mGubmprM+d3d3dc3FiNOQEgRIKQIEFIECCkChFQst+CTkxNzHnWLQ3leXl4+vXZgYMCcp+W/a3ICQooAIUWAkCJASBEgpIL+WWahUAj58r+W9fjfqO92W1tbQ2+nLJyAkCJASBEgpAgQUkEvIcvLy+Y87R+M0+7h4cGb5XI5c21vb685t/6viOJpqpyAkCJASBEgpAgQUgQIqaC34O3tbXN+enoa8m1/POsrTutPNZ1zrrGx0ZwXi8VY9/RVnICQIkBIESCkCBBSBAipoLfg3d3dkC+PfxweHprzmZmZZDdSIk5ASBEgpAgQUgQIqYxzLh3fyeBX4gSEFAFCigAhRYCQIkBIESCkCBBSBAgpAoQUAUKKACFFgJAiQEgRIKQIEFIECCkChBQBQooAIUWAkCJASBEgpAgQUgQIKQKEFAFCigAhRYCQ+gtbQsC6VWeOhwAAAABJRU5ErkJggg==\" y=\"-21.746696\"/>\r\n   </g>\r\n   <g id=\"matplotlib.axis_5\"/>\r\n   <g id=\"matplotlib.axis_6\"/>\r\n   <g id=\"patch_13\">\r\n    <path d=\"M 393.328571 181.746696 \r\nL 393.328571 22.318125 \r\n\" style=\"fill:none;stroke:#000000;stroke-linecap:square;stroke-linejoin:miter;stroke-width:0.8;\"/>\r\n   </g>\r\n   <g id=\"patch_14\">\r\n    <path d=\"M 552.757143 181.746696 \r\nL 552.757143 22.318125 \r\n\" style=\"fill:none;stroke:#000000;stroke-linecap:square;stroke-linejoin:miter;stroke-width:0.8;\"/>\r\n   </g>\r\n   <g id=\"patch_15\">\r\n    <path d=\"M 393.328571 181.746696 \r\nL 552.757143 181.746696 \r\n\" style=\"fill:none;stroke:#000000;stroke-linecap:square;stroke-linejoin:miter;stroke-width:0.8;\"/>\r\n   </g>\r\n   <g id=\"patch_16\">\r\n    <path d=\"M 393.328571 22.318125 \r\nL 552.757143 22.318125 \r\n\" style=\"fill:none;stroke:#000000;stroke-linecap:square;stroke-linejoin:miter;stroke-width:0.8;\"/>\r\n   </g>\r\n   <g id=\"text_3\">\r\n    <!-- 4 -->\r\n    <g transform=\"translate(469.225357 16.318125)scale(0.12 -0.12)\">\r\n     <defs>\r\n      <path d=\"M 2419 4116 \r\nL 825 1625 \r\nL 2419 1625 \r\nL 2419 4116 \r\nz\r\nM 2253 4666 \r\nL 3047 4666 \r\nL 3047 1625 \r\nL 3713 1625 \r\nL 3713 1100 \r\nL 3047 1100 \r\nL 3047 0 \r\nL 2419 0 \r\nL 2419 1100 \r\nL 313 1100 \r\nL 313 1709 \r\nL 2253 4666 \r\nz\r\n\" id=\"DejaVuSans-34\" transform=\"scale(0.015625)\"/>\r\n     </defs>\r\n     <use xlink:href=\"#DejaVuSans-34\"/>\r\n    </g>\r\n   </g>\r\n  </g>\r\n  <g id=\"axes_4\">\r\n   <g id=\"patch_17\">\r\n    <path d=\"M 584.642857 181.746696 \r\nL 744.071429 181.746696 \r\nL 744.071429 22.318125 \r\nL 584.642857 22.318125 \r\nz\r\n\" style=\"fill:#ffffff;\"/>\r\n   </g>\r\n   <g clip-path=\"url(#p67b90dd7fd)\">\r\n    <image height=\"160\" id=\"imagea8efaba1be\" transform=\"scale(1 -1)translate(0 -160)\" width=\"160\" x=\"584.642857\" xlink:href=\"data:image/png;base64,\r\niVBORw0KGgoAAAANSUhEUgAAAKAAAACgCAYAAACLz2ctAAAEGElEQVR4nO3dr0tzbxiA8U3eIBhEEBwqImIwGMyyIloEm6JN/BX8IwaiVpvBYHBYpsFgNigm/wQNomtqmmBY0fcbvvHcB87cq5dz1yfeHB6ecO2Bh42zfC6X+5uTIB30BtTeDFAoAxTKAIUyQKEMUCgDFMoAhTJAoQxQKAMUygCFMkChDFAoAxTKAIX6Q2/gswqFQmJ2enoaPlssFsP5w8NDOB8dHf38xtQQT0ChDFAoAxTKAIUyQKFa9hY8NjaWmE1OTgI7UTM8AYUyQKEMUCgDFMoAhTJAoQxQKAMUygCFMkChWvaruFqtlpg9PT2Fz/b394fzgYGBcL63t5eYlUql8Nl6vZ6yQ2XhCSiUAQplgEIZoFAGKFQ+94v+J+To6Cicr6yshPOPj4/Ma4+MjITzarWaeQ0leQIKZYBCGaBQBiiUAQr1q27Bad7f38N5I7fg5eXlcF6pVD61J/3PE1AoAxTKAIUyQKHa4hLy8vISznt6ejKvcXNzE85nZ2fD+dvbW+a125knoFAGKJQBCmWAQhmgUG1xC56YmAjnZ2dn4XxoaCjz2ufn5+F8YWEh8xrtzBNQKAMUygCFMkChDFCotrgFpzk4OAjnGxsbTa89Pj6emN3d3TW97m/jCSiUAQplgEIZoFAGKFRb34KHh4fD+f39fdNrHx8fJ2arq6tNr/vbeAIKZYBCGaBQBihUy/5PyL/w+PgYzufn5xOzcrkcPtvV1RXOozeq9vX1hc8+Pz/HG2wDnoBCGaBQBiiUAQplgEK19Vdxjdjc3Azn+/v74byjI/nZvri4CJ9dWloK56+vrxl317o8AYUyQKEMUCgDFMoAhfIWnFHaj1fTXnAUvRAp7X9Jdnd3w/nOzk6mvbUyT0ChDFAoAxTKAIXyEtKk3t7ecB79yDTtElKr1cL54uJiOL+8vMy2uRbgCSiUAQplgEIZoFAGKJS34C9yeHiYmK2trTW0xtXVVTifnp7+zJZ+JE9AoQxQKAMUygCFMkChvAV/kWKxmJhVKpXw2UKh0NDa6+vriVn0RtZW4AkolAEKZYBCGaBQBiiUt+BvNDMzE85PTk7CeXd3dzi/vb1NzObm5sJn017/W6/Xw/l38wQUygCFMkChDFAoLyE/wNbWVjgvlUqZ14jeyJrL5XJTU1Ph/Pr6OvPaX8kTUCgDFMoAhTJAoQxQqLb+t8yfolqthvO0r8s6Ozu/cjvfyhNQKAMUygCFMkChDFAob8E/QLlcDueDg4PhfHt7OzFL+y44n89/el/fwRNQKAMUygCFMkCh/EGqUJ6AQhmgUAYolAEKZYBCGaBQBiiUAQplgEIZoFAGKJQBCmWAQhmgUAYolAEKZYBCGaBQBiiUAQplgEIZoFAGKJQBCmWAQhmgUAYolAEK9R9Z+J7f8PG70gAAAABJRU5ErkJggg==\" y=\"-21.746696\"/>\r\n   </g>\r\n   <g id=\"matplotlib.axis_7\"/>\r\n   <g id=\"matplotlib.axis_8\"/>\r\n   <g id=\"patch_18\">\r\n    <path d=\"M 584.642857 181.746696 \r\nL 584.642857 22.318125 \r\n\" style=\"fill:none;stroke:#000000;stroke-linecap:square;stroke-linejoin:miter;stroke-width:0.8;\"/>\r\n   </g>\r\n   <g id=\"patch_19\">\r\n    <path d=\"M 744.071429 181.746696 \r\nL 744.071429 22.318125 \r\n\" style=\"fill:none;stroke:#000000;stroke-linecap:square;stroke-linejoin:miter;stroke-width:0.8;\"/>\r\n   </g>\r\n   <g id=\"patch_20\">\r\n    <path d=\"M 584.642857 181.746696 \r\nL 744.071429 181.746696 \r\n\" style=\"fill:none;stroke:#000000;stroke-linecap:square;stroke-linejoin:miter;stroke-width:0.8;\"/>\r\n   </g>\r\n   <g id=\"patch_21\">\r\n    <path d=\"M 584.642857 22.318125 \r\nL 744.071429 22.318125 \r\n\" style=\"fill:none;stroke:#000000;stroke-linecap:square;stroke-linejoin:miter;stroke-width:0.8;\"/>\r\n   </g>\r\n   <g id=\"text_4\">\r\n    <!-- 1 -->\r\n    <g transform=\"translate(660.539643 16.318125)scale(0.12 -0.12)\">\r\n     <defs>\r\n      <path d=\"M 794 531 \r\nL 1825 531 \r\nL 1825 4091 \r\nL 703 3866 \r\nL 703 4441 \r\nL 1819 4666 \r\nL 2450 4666 \r\nL 2450 531 \r\nL 3481 531 \r\nL 3481 0 \r\nL 794 0 \r\nL 794 531 \r\nz\r\n\" id=\"DejaVuSans-31\" transform=\"scale(0.015625)\"/>\r\n     </defs>\r\n     <use xlink:href=\"#DejaVuSans-31\"/>\r\n    </g>\r\n   </g>\r\n  </g>\r\n  <g id=\"axes_5\">\r\n   <g id=\"patch_22\">\r\n    <path d=\"M 775.957143 181.746696 \r\nL 935.385714 181.746696 \r\nL 935.385714 22.318125 \r\nL 775.957143 22.318125 \r\nz\r\n\" style=\"fill:#ffffff;\"/>\r\n   </g>\r\n   <g clip-path=\"url(#p88eaa5744a)\">\r\n    <image height=\"160\" id=\"imaged8a06c339d\" transform=\"scale(1 -1)translate(0 -160)\" width=\"160\" x=\"775.957143\" xlink:href=\"data:image/png;base64,\r\niVBORw0KGgoAAAANSUhEUgAAAKAAAACgCAYAAACLz2ctAAAE60lEQVR4nO3dsSt9fxzH8c+VkCSJwUjugizUXa4sYiIxuMqAza6UhMJmkTIZDKSuKLFgQQb+ASSUgcWmbqTw237LeX9+nYt+r3Ov52N89+ne863n91OfjnNuzDn35QCRAvUF4G8jQEgRIKQIEFIECKlC9QXkq/Ly8sBsYWHBXDs2NmbOm5ubzfnl5eX3Lyxi2AEhRYCQIkBIESCkOIT8kHXYcM65dDodmHV0dJhrd3Z2zPnDw8P3LyxHsANCigAhRYCQIkBIESCkOAX/UF9fnzm3TrwnJyfm2tnZWXOeyWS+fV25gh0QUgQIKQKEFAFCigAhFXM8lvkjNzc35ryuri4wSyaT5trz8/NfvaZcwg4IKQKEFAFCigAhRYCQ4l5wSE1NTeY8Ho+b88/Pz8Ds7u7uV68pH7ADQooAIUWAkCJASHEICamtrc2cW4cN55z7+uIOZxjsgJAiQEgRIKQIEFIECClOwSHd39+rLyEvsQNCigAhRYCQIkBIESCkeCzzhz4+Psy5dS+4pqbGXPv8/Pyr15RL2AEhRYCQIkBIESCkuBUXUldXl/oS8hI7IKQIEFIECCkChBQBQopTcEivr6/mvKDA/j9sPa6ZSqXMtcvLy9+/sBzHDggpAoQUAUKKACFFgJCK/Ck4kUiY8/39/cCssrLSXHt7e2vOd3d3zfna2lpg5vs9EN8vYFq/CWL9dshfxw4IKQKEFAFCigAhRYCQisxjmRUVFeb86urKnFdXVwdmsVjMXPsbr8t9enoy577vtB7B9D1+6Xtc8y9gB4QUAUKKACFFgJCKzK24oqIic24dNnxqa2vN+dvbmzkfGRkx5z09PYGZ78cKy8rKzLl18KmqqjLXdnd3m/O9vT1znk/YASFFgJAiQEgRIKQIEFKRvxV3fX1tzq0TpfVHqs4519vb+93L+ld9fb0539jYMOctLS2hP3t7e9ucj46OmvNMJhP6s6OOHRBSBAgpAoQUAUKKACEVmVOwz/T0tDmfmZkJzN7f3821BwcH5nxwcNCc+15EZCkpKTHnnZ2dgdnm5mZWnzE/P2/OrX97rmIHhBQBQooAIUWAkIr8IcRnbm4uMJucnDTX+p6KW1lZMedTU1OB2cvLSxZXZ/M94RePx7P6nP7+/sDM956bqGMHhBQBQooAIUWAkCJASOXsKdgyPDxszldXV7P6nKOjo8BsYGDAXJvN6XhoaMicW29k/S+Pj4+BWWtrq7nW9z6aqGAHhBQBQooAIUWAkCJASOXVKbiw0H7Xku+EeHh4aM5LS0sDs9PTU3OtdU/aOefOzs4Cs+LiYnNtOp0259YftTpnv5V1YmLCXLu4uGjOo4IdEFIECCkChBQBQooAIZVXp+Bs+e7vLi0tBWa+1+v6fifk+Pg4MPO9brihocFzhTbrO7e2tsy1qVQqq8/+v7EDQooAIUWAkCJASP3pQ4hPIpEIzHx/TNre3m7OGxsbQ3/f+Pi4Off9QGIymQzM1tfXzbUXFxehr0OBHRBSBAgpAoQUAUKKACHFKRhS7ICQIkBIESCkCBBSBAgpAoQUAUKKACFFgJAiQEgRIKQIEFIECCkChBQBQooAIUWAkCJASBEgpAgQUgQIKQKEFAFCigAhRYCQIkBIESCkCBBSBAgpAoQUAUKKACFFgJAiQEgRIKQIEFIECCkChBQBQuofzvHcfNsTF8sAAAAASUVORK5CYII=\" y=\"-21.746696\"/>\r\n   </g>\r\n   <g id=\"matplotlib.axis_9\"/>\r\n   <g id=\"matplotlib.axis_10\"/>\r\n   <g id=\"patch_23\">\r\n    <path d=\"M 775.957143 181.746696 \r\nL 775.957143 22.318125 \r\n\" style=\"fill:none;stroke:#000000;stroke-linecap:square;stroke-linejoin:miter;stroke-width:0.8;\"/>\r\n   </g>\r\n   <g id=\"patch_24\">\r\n    <path d=\"M 935.385714 181.746696 \r\nL 935.385714 22.318125 \r\n\" style=\"fill:none;stroke:#000000;stroke-linecap:square;stroke-linejoin:miter;stroke-width:0.8;\"/>\r\n   </g>\r\n   <g id=\"patch_25\">\r\n    <path d=\"M 775.957143 181.746696 \r\nL 935.385714 181.746696 \r\n\" style=\"fill:none;stroke:#000000;stroke-linecap:square;stroke-linejoin:miter;stroke-width:0.8;\"/>\r\n   </g>\r\n   <g id=\"patch_26\">\r\n    <path d=\"M 775.957143 22.318125 \r\nL 935.385714 22.318125 \r\n\" style=\"fill:none;stroke:#000000;stroke-linecap:square;stroke-linejoin:miter;stroke-width:0.8;\"/>\r\n   </g>\r\n   <g id=\"text_5\">\r\n    <!-- 9 -->\r\n    <g transform=\"translate(851.853929 16.318125)scale(0.12 -0.12)\">\r\n     <defs>\r\n      <path d=\"M 703 97 \r\nL 703 672 \r\nQ 941 559 1184 500 \r\nQ 1428 441 1663 441 \r\nQ 2288 441 2617 861 \r\nQ 2947 1281 2994 2138 \r\nQ 2813 1869 2534 1725 \r\nQ 2256 1581 1919 1581 \r\nQ 1219 1581 811 2004 \r\nQ 403 2428 403 3163 \r\nQ 403 3881 828 4315 \r\nQ 1253 4750 1959 4750 \r\nQ 2769 4750 3195 4129 \r\nQ 3622 3509 3622 2328 \r\nQ 3622 1225 3098 567 \r\nQ 2575 -91 1691 -91 \r\nQ 1453 -91 1209 -44 \r\nQ 966 3 703 97 \r\nz\r\nM 1959 2075 \r\nQ 2384 2075 2632 2365 \r\nQ 2881 2656 2881 3163 \r\nQ 2881 3666 2632 3958 \r\nQ 2384 4250 1959 4250 \r\nQ 1534 4250 1286 3958 \r\nQ 1038 3666 1038 3163 \r\nQ 1038 2656 1286 2365 \r\nQ 1534 2075 1959 2075 \r\nz\r\n\" id=\"DejaVuSans-39\" transform=\"scale(0.015625)\"/>\r\n     </defs>\r\n     <use xlink:href=\"#DejaVuSans-39\"/>\r\n    </g>\r\n   </g>\r\n  </g>\r\n  <g id=\"axes_6\">\r\n   <g id=\"patch_27\">\r\n    <path d=\"M 967.271429 181.746696 \r\nL 1126.7 181.746696 \r\nL 1126.7 22.318125 \r\nL 967.271429 22.318125 \r\nz\r\n\" style=\"fill:#ffffff;\"/>\r\n   </g>\r\n   <g clip-path=\"url(#pd070e28dc1)\">\r\n    <image height=\"160\" id=\"image1eae7fd1de\" transform=\"scale(1 -1)translate(0 -160)\" width=\"160\" x=\"967.271429\" xlink:href=\"data:image/png;base64,\r\niVBORw0KGgoAAAANSUhEUgAAAKAAAACgCAYAAACLz2ctAAAFlUlEQVR4nO3dXyhffxzH8Y8Z5d8ulAuutuYCcbGljKspNbOauZJJcrPajazILtRQS3ahRLtZuFViu5piUdrswgV3XFCasvwpSojw+93+6vP+tO/XD6/veD4uX70751y89sln53vOiXPO/eMAkVvqC8DNRgEhRQEhRQEhRQEhRQEhRQEhRQEhRQEhRQEhRQEhRQEhRQEhRQEhRQEhRQEhRQEhRQEhRQEhRQEhRQEhRQEhRQEhRQEhRQEhRQEhRQEhRQEhdVtx0rS0NC978eKFOfvw4UMz39zc9LLBwUFzdmdnx8yPj48DV4irwgoIKQoIKQoIKQoIqTgneEPq/Py8lxUUFFza+b5+/WrmMzMzZv7lyxcvW11dNWdPTk7Oe1lwrIAQo4CQooCQooCQooCQkuyCf//+7WUZGRnm7NHRkZkvLS15WUpKijmbnZ0dxdXZ2tvbzbyrq8vMT09P//c5bwJWQEhRQEhRQEhRQEhRQEhJdsGvX7/2sr6+PnP24ODAzF+9euVlExMT5mxRUZGZNzQ0mPnTp0+9LCkpyZzt7Ow086GhIS9bW1szZy9TTU2Nmb98+TLiY7x588bMl5eXz3VN/8UKCCkKCCkKCCkKCCnJJiQ+Pt7L3r9/b842Nzeb+f7+vpe9ffvWnB0eHjbz0NNyhYWFXtbf3x/xrHP2H+jW5ss556anp838zp07Zl5SUuJltbW15uzz58/NPHTb0hLaPN27dy/iY4SwAkKKAkKKAkKKAkKKAkJKsgu2JCQkmHnoVldLS0vExx4fHzfzuro6M9/d3fWy0A9mQ498Wu+0Cb2L5sOHD2aen59v5pWVlWZu+fbtm5l3d3d7Weh/BUIWFhaimrewAkKKAkKKAkKKAkKKAkIqZnbBIYmJiWZeXl7uZWNjY1Edu6Ojw8ynpqa87MePH+Zsenp6xMcI7WovQuhesPWiJefCj7teNVZASFFASFFASFFASFFASMX8LjjEunf84MEDc3Z0dNTMMzMzzfzw8NDLrPvDzjn38+dPM7d26cnJyeZsyNbWlpn39PR4WW9vrzkb699CYQWEFAWEFAWEFAWE1F+7CYlG6I//vLw8M3/37p2XVVRURHXOW7f8f9tnZ2dRHWN9fd3MHz9+7GUrKytRHTtWsAJCigJCigJCigJCigJC6kbsgi9CY2OjmUfzkp+QqqoqM7ce7XTOudnZWS8rLS01Z2P9eyWsgJCigJCigJCigJCigJBiFxwDBgYGzLy+vj7iY1j3h51z7vv37+e5pCvDCggpCggpCggpCgip2+oLuEhZWVlmbn3Y0Lnwxw2tb3xsbm6e/8L+IPRkXTSbkL8VKyCkKCCkKCCkKCCkKCCkrtUu+NOnT2b+5MkTM29razPz1dVVL5ubmzNnW1tbzfzXr19mbtnY2Ih49rphBYQUBYQUBYQUBYQUBYTUtdoFj4yMmHloFxxy9+7diDLnwo9OlpWVedna2po5u7i4GPG1XTesgJCigJCigJCigJCigJC6Vrvgz58/m/mjR4/MvLq62szT0tIiPuf9+/fNfHJy0sui3Y3fBKyAkKKAkKKAkKKAkLrR74bJyckx86amJi+rra01Z5OSksw8Li7Oy0K34vb29sw8NzfXzLe3t70s9G6YpaUlM48VrICQooCQooCQooCQooCQutG74GiEfpAaeiyzuLjYy/Lz8y/kWj5+/Ohloe+YxDpWQEhRQEhRQEhRQEhRQEixC74k1o9aU1NTzdlnz56ZeUZGhpn39PR42dHRURRXFztYASFFASFFASFFASHFJgRSrICQooCQooCQooCQooCQooCQooCQooCQooCQooCQooCQooCQooCQooCQooCQooCQooCQooCQooCQooCQooCQooCQooCQooCQooCQooCQooCQooCQ+hfF9hMFupF3HAAAAABJRU5ErkJggg==\" y=\"-21.746696\"/>\r\n   </g>\r\n   <g id=\"matplotlib.axis_11\"/>\r\n   <g id=\"matplotlib.axis_12\"/>\r\n   <g id=\"patch_28\">\r\n    <path d=\"M 967.271429 181.746696 \r\nL 967.271429 22.318125 \r\n\" style=\"fill:none;stroke:#000000;stroke-linecap:square;stroke-linejoin:miter;stroke-width:0.8;\"/>\r\n   </g>\r\n   <g id=\"patch_29\">\r\n    <path d=\"M 1126.7 181.746696 \r\nL 1126.7 22.318125 \r\n\" style=\"fill:none;stroke:#000000;stroke-linecap:square;stroke-linejoin:miter;stroke-width:0.8;\"/>\r\n   </g>\r\n   <g id=\"patch_30\">\r\n    <path d=\"M 967.271429 181.746696 \r\nL 1126.7 181.746696 \r\n\" style=\"fill:none;stroke:#000000;stroke-linecap:square;stroke-linejoin:miter;stroke-width:0.8;\"/>\r\n   </g>\r\n   <g id=\"patch_31\">\r\n    <path d=\"M 967.271429 22.318125 \r\nL 1126.7 22.318125 \r\n\" style=\"fill:none;stroke:#000000;stroke-linecap:square;stroke-linejoin:miter;stroke-width:0.8;\"/>\r\n   </g>\r\n   <g id=\"text_6\">\r\n    <!-- 2 -->\r\n    <g transform=\"translate(1043.168214 16.318125)scale(0.12 -0.12)\">\r\n     <defs>\r\n      <path d=\"M 1228 531 \r\nL 3431 531 \r\nL 3431 0 \r\nL 469 0 \r\nL 469 531 \r\nQ 828 903 1448 1529 \r\nQ 2069 2156 2228 2338 \r\nQ 2531 2678 2651 2914 \r\nQ 2772 3150 2772 3378 \r\nQ 2772 3750 2511 3984 \r\nQ 2250 4219 1831 4219 \r\nQ 1534 4219 1204 4116 \r\nQ 875 4013 500 3803 \r\nL 500 4441 \r\nQ 881 4594 1212 4672 \r\nQ 1544 4750 1819 4750 \r\nQ 2544 4750 2975 4387 \r\nQ 3406 4025 3406 3419 \r\nQ 3406 3131 3298 2873 \r\nQ 3191 2616 2906 2266 \r\nQ 2828 2175 2409 1742 \r\nQ 1991 1309 1228 531 \r\nz\r\n\" id=\"DejaVuSans-32\" transform=\"scale(0.015625)\"/>\r\n     </defs>\r\n     <use xlink:href=\"#DejaVuSans-32\"/>\r\n    </g>\r\n   </g>\r\n  </g>\r\n </g>\r\n <defs>\r\n  <clipPath id=\"p0331a061d3\">\r\n   <rect height=\"159.428571\" width=\"159.428571\" x=\"10.7\" y=\"22.318125\"/>\r\n  </clipPath>\r\n  <clipPath id=\"pd8d2fc2025\">\r\n   <rect height=\"159.428571\" width=\"159.428571\" x=\"202.014286\" y=\"22.318125\"/>\r\n  </clipPath>\r\n  <clipPath id=\"p31423eb022\">\r\n   <rect height=\"159.428571\" width=\"159.428571\" x=\"393.328571\" y=\"22.318125\"/>\r\n  </clipPath>\r\n  <clipPath id=\"p67b90dd7fd\">\r\n   <rect height=\"159.428571\" width=\"159.428571\" x=\"584.642857\" y=\"22.318125\"/>\r\n  </clipPath>\r\n  <clipPath id=\"p88eaa5744a\">\r\n   <rect height=\"159.428571\" width=\"159.428571\" x=\"775.957143\" y=\"22.318125\"/>\r\n  </clipPath>\r\n  <clipPath id=\"pd070e28dc1\">\r\n   <rect height=\"159.428571\" width=\"159.428571\" x=\"967.271429\" y=\"22.318125\"/>\r\n  </clipPath>\r\n </defs>\r\n</svg>\r\n",
      "image/png": "[encoded data removed]"
     },
     "metadata": {}
    }
   ],
   "metadata": {}
  },
  {
   "cell_type": "code",
   "execution_count": 5,
   "source": [
    "# rescale [0,255] --> [0,1]\r\n",
    "X_train = X_train.astype('float32')/255\r\n",
    "X_test = X_test.astype('float32')/255 "
   ],
   "outputs": [],
   "metadata": {}
  },
  {
   "cell_type": "code",
   "execution_count": 6,
   "source": [
    "from keras.utils import np_utils\r\n",
    "\r\n",
    "# print first ten (integer-valued) training labels\r\n",
    "print('Integer-valued labels:')\r\n",
    "print(y_train[:10])\r\n",
    "\r\n",
    "# one-hot encode the labels\r\n",
    "y_train = np_utils.to_categorical(y_train, 10)\r\n",
    "y_test = np_utils.to_categorical(y_test, 10)\r\n",
    "\r\n",
    "# print first ten (one-hot) training labels\r\n",
    "print('One-hot labels:')\r\n",
    "print(y_train[:10])"
   ],
   "outputs": [
    {
     "output_type": "stream",
     "name": "stdout",
     "text": [
      "Integer-valued labels:\n",
      "[5 0 4 1 9 2 1 3 1 4]\n",
      "One-hot labels:\n",
      "[[0. 0. 0. 0. 0. 1. 0. 0. 0. 0.]\n",
      " [1. 0. 0. 0. 0. 0. 0. 0. 0. 0.]\n",
      " [0. 0. 0. 0. 1. 0. 0. 0. 0. 0.]\n",
      " [0. 1. 0. 0. 0. 0. 0. 0. 0. 0.]\n",
      " [0. 0. 0. 0. 0. 0. 0. 0. 0. 1.]\n",
      " [0. 0. 1. 0. 0. 0. 0. 0. 0. 0.]\n",
      " [0. 1. 0. 0. 0. 0. 0. 0. 0. 0.]\n",
      " [0. 0. 0. 1. 0. 0. 0. 0. 0. 0.]\n",
      " [0. 1. 0. 0. 0. 0. 0. 0. 0. 0.]\n",
      " [0. 0. 0. 0. 1. 0. 0. 0. 0. 0.]]\n"
     ]
    }
   ],
   "metadata": {}
  },
  {
   "cell_type": "code",
   "execution_count": 7,
   "source": [
    "from keras.models import Sequential\r\n",
    "from keras.layers import Dense, Dropout, Flatten\r\n",
    "\r\n",
    "# define the model\r\n",
    "model = Sequential()\r\n",
    "model.add(Flatten(input_shape=X_train.shape[1:]))\r\n",
    "model.add(Dense(512, activation='relu'))\r\n",
    "model.add(Dropout(0.2))\r\n",
    "model.add(Dense(512, activation='relu'))\r\n",
    "model.add(Dropout(0.2))\r\n",
    "model.add(Dense(10, activation='softmax'))\r\n",
    "\r\n",
    "# summarize the model\r\n",
    "model.summary()"
   ],
   "outputs": [
    {
     "output_type": "stream",
     "name": "stdout",
     "text": [
      "Model: \"sequential\"\n",
      "_________________________________________________________________\n",
      "Layer (type)                 Output Shape              Param #   \n",
      "=================================================================\n",
      "flatten (Flatten)            (None, 784)               0         \n",
      "_________________________________________________________________\n",
      "dense (Dense)                (None, 512)               401920    \n",
      "_________________________________________________________________\n",
      "dropout (Dropout)            (None, 512)               0         \n",
      "_________________________________________________________________\n",
      "dense_1 (Dense)              (None, 512)               262656    \n",
      "_________________________________________________________________\n",
      "dropout_1 (Dropout)          (None, 512)               0         \n",
      "_________________________________________________________________\n",
      "dense_2 (Dense)              (None, 10)                5130      \n",
      "=================================================================\n",
      "Total params: 669,706\n",
      "Trainable params: 669,706\n",
      "Non-trainable params: 0\n",
      "_________________________________________________________________\n"
     ]
    }
   ],
   "metadata": {}
  },
  {
   "cell_type": "code",
   "execution_count": 8,
   "source": [
    "# compile the model\r\n",
    "model.compile(loss='categorical_crossentropy', optimizer='rmsprop', \r\n",
    "              metrics=['accuracy'])"
   ],
   "outputs": [],
   "metadata": {}
  },
  {
   "cell_type": "code",
   "execution_count": 9,
   "source": [
    "from keras.callbacks import ModelCheckpoint   \r\n",
    "\r\n",
    "# train the model\r\n",
    "hist = model.fit(X_train, y_train, batch_size=128, epochs=10,\r\n",
    "          validation_split=0.2,\r\n",
    "          verbose=3, shuffle=True)"
   ],
   "outputs": [
    {
     "output_type": "stream",
     "name": "stdout",
     "text": [
      "Epoch 1/10\n",
      "WARNING:tensorflow:AutoGraph could not transform <bound method Dense.call of <keras.layers.core.Dense object at 0x000001F9884AA520>> and will run it as-is.\n",
      "Please report this to the TensorFlow team. When filing the bug, set the verbosity to 10 (on Linux, `export AUTOGRAPH_VERBOSITY=10`) and attach the full output.\n",
      "Cause: invalid syntax (tmpxlguce8u.py, line 48)\n",
      "To silence this warning, decorate the function with @tf.autograph.experimental.do_not_convert\n",
      "WARNING: AutoGraph could not transform <bound method Dense.call of <keras.layers.core.Dense object at 0x000001F9884AA520>> and will run it as-is.\n",
      "Please report this to the TensorFlow team. When filing the bug, set the verbosity to 10 (on Linux, `export AUTOGRAPH_VERBOSITY=10`) and attach the full output.\n",
      "Cause: invalid syntax (tmpxlguce8u.py, line 48)\n",
      "To silence this warning, decorate the function with @tf.autograph.experimental.do_not_convert\n",
      "Epoch 2/10\n",
      "Epoch 3/10\n",
      "Epoch 4/10\n",
      "Epoch 5/10\n",
      "Epoch 6/10\n",
      "Epoch 7/10\n",
      "Epoch 8/10\n",
      "Epoch 9/10\n",
      "Epoch 10/10\n"
     ]
    }
   ],
   "metadata": {}
  },
  {
   "cell_type": "code",
   "execution_count": null,
   "source": [],
   "outputs": [],
   "metadata": {}
  },
  {
   "cell_type": "code",
   "execution_count": 13,
   "source": [
    "# evaluate test accuracy\r\n",
    "score = model.evaluate(X_test, y_test, verbose=3)\r\n",
    "accuracy = 100*score[1]\r\n",
    "\r\n",
    "# print test accuracy\r\n",
    "print('Test accuracy: %.4f%%' % accuracy)"
   ],
   "outputs": [
    {
     "output_type": "stream",
     "name": "stdout",
     "text": [
      "Test accuracy: 98.1700%\n"
     ]
    }
   ],
   "metadata": {}
  },
  {
   "cell_type": "code",
   "execution_count": null,
   "source": [],
   "outputs": [],
   "metadata": {}
  }
 ],
 "metadata": {
  "orig_nbformat": 4,
  "language_info": {
   "name": "python",
   "version": "3.9.7",
   "mimetype": "text/x-python",
   "codemirror_mode": {
    "name": "ipython",
    "version": 3
   },
   "pygments_lexer": "ipython3",
   "nbconvert_exporter": "python",
   "file_extension": ".py"
  },
  "kernelspec": {
   "name": "python3",
   "display_name": "Python 3.9.7 64-bit"
  },
  "interpreter": {
   "hash": "f1058ac39a4b5cc6a2d664bf07a90cc7a0b869b1d28e3e4a0289bda448411850"
  }
 },
 "nbformat": 4,
 "nbformat_minor": 2
}